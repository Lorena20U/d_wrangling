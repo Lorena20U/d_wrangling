{
 "cells": [
  {
   "cell_type": "code",
   "execution_count": 1,
   "id": "ceb77e66",
   "metadata": {},
   "outputs": [],
   "source": [
    "import numpy as np"
   ]
  },
  {
   "cell_type": "code",
   "execution_count": 2,
   "id": "ba7c2fc5",
   "metadata": {},
   "outputs": [],
   "source": [
    "import pandas as pd"
   ]
  },
  {
   "cell_type": "code",
   "execution_count": 102,
   "id": "5ee4ca32",
   "metadata": {},
   "outputs": [],
   "source": [
    "data = pd.read_csv('titanic_MD.csv')"
   ]
  },
  {
   "cell_type": "markdown",
   "id": "2400eae7",
   "metadata": {},
   "source": [
    "# Parte 1:"
   ]
  },
  {
   "cell_type": "markdown",
   "id": "1015c386",
   "metadata": {},
   "source": [
    "### 1.1. Missing data para todas las columnas"
   ]
  },
  {
   "cell_type": "markdown",
   "id": "88c13376",
   "metadata": {},
   "source": [
    "#### Exploración de la data\n",
    "Visualización previa sobre la forma de la data."
   ]
  },
  {
   "cell_type": "code",
   "execution_count": 103,
   "id": "8087a3ea",
   "metadata": {},
   "outputs": [
    {
     "data": {
      "text/html": [
       "<div>\n",
       "<style scoped>\n",
       "    .dataframe tbody tr th:only-of-type {\n",
       "        vertical-align: middle;\n",
       "    }\n",
       "\n",
       "    .dataframe tbody tr th {\n",
       "        vertical-align: top;\n",
       "    }\n",
       "\n",
       "    .dataframe thead th {\n",
       "        text-align: right;\n",
       "    }\n",
       "</style>\n",
       "<table border=\"1\" class=\"dataframe\">\n",
       "  <thead>\n",
       "    <tr style=\"text-align: right;\">\n",
       "      <th></th>\n",
       "      <th>PassengerId</th>\n",
       "      <th>Survived</th>\n",
       "      <th>Pclass</th>\n",
       "      <th>Name</th>\n",
       "      <th>Sex</th>\n",
       "      <th>Age</th>\n",
       "      <th>SibSp</th>\n",
       "      <th>Parch</th>\n",
       "      <th>Ticket</th>\n",
       "      <th>Fare</th>\n",
       "      <th>Cabin</th>\n",
       "      <th>Embarked</th>\n",
       "    </tr>\n",
       "  </thead>\n",
       "  <tbody>\n",
       "    <tr>\n",
       "      <th>0</th>\n",
       "      <td>2</td>\n",
       "      <td>1</td>\n",
       "      <td>1</td>\n",
       "      <td>Cumings, Mrs. John Bradley (Florence Briggs Th...</td>\n",
       "      <td>?</td>\n",
       "      <td>38.0</td>\n",
       "      <td>1.0</td>\n",
       "      <td>0.0</td>\n",
       "      <td>PC 17599</td>\n",
       "      <td>71.2833</td>\n",
       "      <td>C85</td>\n",
       "      <td>C</td>\n",
       "    </tr>\n",
       "    <tr>\n",
       "      <th>1</th>\n",
       "      <td>4</td>\n",
       "      <td>1</td>\n",
       "      <td>1</td>\n",
       "      <td>Futrelle, Mrs. Jacques Heath (Lily May Peel)</td>\n",
       "      <td>female</td>\n",
       "      <td>35.0</td>\n",
       "      <td>1.0</td>\n",
       "      <td>0.0</td>\n",
       "      <td>113803</td>\n",
       "      <td>53.1000</td>\n",
       "      <td>C123</td>\n",
       "      <td>S</td>\n",
       "    </tr>\n",
       "    <tr>\n",
       "      <th>2</th>\n",
       "      <td>7</td>\n",
       "      <td>0</td>\n",
       "      <td>1</td>\n",
       "      <td>McCarthy, Mr. Timothy J</td>\n",
       "      <td>male</td>\n",
       "      <td>54.0</td>\n",
       "      <td>0.0</td>\n",
       "      <td>0.0</td>\n",
       "      <td>17463</td>\n",
       "      <td>51.8625</td>\n",
       "      <td>E46</td>\n",
       "      <td>S</td>\n",
       "    </tr>\n",
       "    <tr>\n",
       "      <th>3</th>\n",
       "      <td>11</td>\n",
       "      <td>1</td>\n",
       "      <td>3</td>\n",
       "      <td>Sandstrom, Miss. Marguerite Rut</td>\n",
       "      <td>female</td>\n",
       "      <td>NaN</td>\n",
       "      <td>1.0</td>\n",
       "      <td>NaN</td>\n",
       "      <td>PP 9549</td>\n",
       "      <td>16.7000</td>\n",
       "      <td>G6</td>\n",
       "      <td>S</td>\n",
       "    </tr>\n",
       "    <tr>\n",
       "      <th>4</th>\n",
       "      <td>12</td>\n",
       "      <td>1</td>\n",
       "      <td>1</td>\n",
       "      <td>Bonnell, Miss. Elizabeth</td>\n",
       "      <td>female</td>\n",
       "      <td>58.0</td>\n",
       "      <td>NaN</td>\n",
       "      <td>0.0</td>\n",
       "      <td>113783</td>\n",
       "      <td>26.5500</td>\n",
       "      <td>C103</td>\n",
       "      <td>S</td>\n",
       "    </tr>\n",
       "  </tbody>\n",
       "</table>\n",
       "</div>"
      ],
      "text/plain": [
       "   PassengerId  Survived  Pclass  \\\n",
       "0            2         1       1   \n",
       "1            4         1       1   \n",
       "2            7         0       1   \n",
       "3           11         1       3   \n",
       "4           12         1       1   \n",
       "\n",
       "                                                Name     Sex   Age  SibSp  \\\n",
       "0  Cumings, Mrs. John Bradley (Florence Briggs Th...       ?  38.0    1.0   \n",
       "1       Futrelle, Mrs. Jacques Heath (Lily May Peel)  female  35.0    1.0   \n",
       "2                            McCarthy, Mr. Timothy J    male  54.0    0.0   \n",
       "3                    Sandstrom, Miss. Marguerite Rut  female   NaN    1.0   \n",
       "4                           Bonnell, Miss. Elizabeth  female  58.0    NaN   \n",
       "\n",
       "   Parch    Ticket     Fare Cabin Embarked  \n",
       "0    0.0  PC 17599  71.2833   C85        C  \n",
       "1    0.0    113803  53.1000  C123        S  \n",
       "2    0.0     17463  51.8625   E46        S  \n",
       "3    NaN   PP 9549  16.7000    G6        S  \n",
       "4    0.0    113783  26.5500  C103        S  "
      ]
     },
     "execution_count": 103,
     "metadata": {},
     "output_type": "execute_result"
    }
   ],
   "source": [
    "data.head()"
   ]
  },
  {
   "cell_type": "markdown",
   "id": "11f40bc7",
   "metadata": {},
   "source": [
    "La data no es muy grande, tiene 12 columnas y 183 observaciones."
   ]
  },
  {
   "cell_type": "code",
   "execution_count": 104,
   "id": "ce8749d4",
   "metadata": {},
   "outputs": [
    {
     "name": "stdout",
     "output_type": "stream",
     "text": [
      "Data shape:  (183, 12)\n"
     ]
    }
   ],
   "source": [
    "print('Data shape: ', data.shape)"
   ]
  },
  {
   "cell_type": "code",
   "execution_count": 105,
   "id": "59e859d9",
   "metadata": {},
   "outputs": [
    {
     "data": {
      "text/html": [
       "<div>\n",
       "<style scoped>\n",
       "    .dataframe tbody tr th:only-of-type {\n",
       "        vertical-align: middle;\n",
       "    }\n",
       "\n",
       "    .dataframe tbody tr th {\n",
       "        vertical-align: top;\n",
       "    }\n",
       "\n",
       "    .dataframe thead th {\n",
       "        text-align: right;\n",
       "    }\n",
       "</style>\n",
       "<table border=\"1\" class=\"dataframe\">\n",
       "  <thead>\n",
       "    <tr style=\"text-align: right;\">\n",
       "      <th></th>\n",
       "      <th>PassengerId</th>\n",
       "      <th>Survived</th>\n",
       "      <th>Pclass</th>\n",
       "      <th>Age</th>\n",
       "      <th>SibSp</th>\n",
       "      <th>Parch</th>\n",
       "      <th>Fare</th>\n",
       "    </tr>\n",
       "  </thead>\n",
       "  <tbody>\n",
       "    <tr>\n",
       "      <th>count</th>\n",
       "      <td>183.000000</td>\n",
       "      <td>183.000000</td>\n",
       "      <td>183.000000</td>\n",
       "      <td>158.000000</td>\n",
       "      <td>180.000000</td>\n",
       "      <td>171.000000</td>\n",
       "      <td>175.000000</td>\n",
       "    </tr>\n",
       "    <tr>\n",
       "      <th>mean</th>\n",
       "      <td>455.366120</td>\n",
       "      <td>0.672131</td>\n",
       "      <td>1.191257</td>\n",
       "      <td>35.692532</td>\n",
       "      <td>0.461111</td>\n",
       "      <td>0.461988</td>\n",
       "      <td>78.959191</td>\n",
       "    </tr>\n",
       "    <tr>\n",
       "      <th>std</th>\n",
       "      <td>247.052476</td>\n",
       "      <td>0.470725</td>\n",
       "      <td>0.515187</td>\n",
       "      <td>15.640858</td>\n",
       "      <td>0.646122</td>\n",
       "      <td>0.753435</td>\n",
       "      <td>77.026328</td>\n",
       "    </tr>\n",
       "    <tr>\n",
       "      <th>min</th>\n",
       "      <td>2.000000</td>\n",
       "      <td>0.000000</td>\n",
       "      <td>1.000000</td>\n",
       "      <td>0.920000</td>\n",
       "      <td>0.000000</td>\n",
       "      <td>0.000000</td>\n",
       "      <td>0.000000</td>\n",
       "    </tr>\n",
       "    <tr>\n",
       "      <th>25%</th>\n",
       "      <td>263.500000</td>\n",
       "      <td>0.000000</td>\n",
       "      <td>1.000000</td>\n",
       "      <td>24.000000</td>\n",
       "      <td>0.000000</td>\n",
       "      <td>0.000000</td>\n",
       "      <td>29.700000</td>\n",
       "    </tr>\n",
       "    <tr>\n",
       "      <th>50%</th>\n",
       "      <td>457.000000</td>\n",
       "      <td>1.000000</td>\n",
       "      <td>1.000000</td>\n",
       "      <td>35.500000</td>\n",
       "      <td>0.000000</td>\n",
       "      <td>0.000000</td>\n",
       "      <td>56.929200</td>\n",
       "    </tr>\n",
       "    <tr>\n",
       "      <th>75%</th>\n",
       "      <td>676.000000</td>\n",
       "      <td>1.000000</td>\n",
       "      <td>1.000000</td>\n",
       "      <td>48.000000</td>\n",
       "      <td>1.000000</td>\n",
       "      <td>1.000000</td>\n",
       "      <td>90.539600</td>\n",
       "    </tr>\n",
       "    <tr>\n",
       "      <th>max</th>\n",
       "      <td>890.000000</td>\n",
       "      <td>1.000000</td>\n",
       "      <td>3.000000</td>\n",
       "      <td>80.000000</td>\n",
       "      <td>3.000000</td>\n",
       "      <td>4.000000</td>\n",
       "      <td>512.329200</td>\n",
       "    </tr>\n",
       "  </tbody>\n",
       "</table>\n",
       "</div>"
      ],
      "text/plain": [
       "       PassengerId    Survived      Pclass         Age       SibSp  \\\n",
       "count   183.000000  183.000000  183.000000  158.000000  180.000000   \n",
       "mean    455.366120    0.672131    1.191257   35.692532    0.461111   \n",
       "std     247.052476    0.470725    0.515187   15.640858    0.646122   \n",
       "min       2.000000    0.000000    1.000000    0.920000    0.000000   \n",
       "25%     263.500000    0.000000    1.000000   24.000000    0.000000   \n",
       "50%     457.000000    1.000000    1.000000   35.500000    0.000000   \n",
       "75%     676.000000    1.000000    1.000000   48.000000    1.000000   \n",
       "max     890.000000    1.000000    3.000000   80.000000    3.000000   \n",
       "\n",
       "            Parch        Fare  \n",
       "count  171.000000  175.000000  \n",
       "mean     0.461988   78.959191  \n",
       "std      0.753435   77.026328  \n",
       "min      0.000000    0.000000  \n",
       "25%      0.000000   29.700000  \n",
       "50%      0.000000   56.929200  \n",
       "75%      1.000000   90.539600  \n",
       "max      4.000000  512.329200  "
      ]
     },
     "execution_count": 105,
     "metadata": {},
     "output_type": "execute_result"
    }
   ],
   "source": [
    "data.describe()"
   ]
  },
  {
   "cell_type": "markdown",
   "id": "f32473e6",
   "metadata": {},
   "source": [
    "#### Missing data\n",
    "Se buscan los valores NA en todas las columnas de la data."
   ]
  },
  {
   "cell_type": "code",
   "execution_count": 106,
   "id": "5ef9d687",
   "metadata": {},
   "outputs": [
    {
     "data": {
      "text/plain": [
       "PassengerId     0\n",
       "Survived        0\n",
       "Pclass          0\n",
       "Name            0\n",
       "Sex             0\n",
       "Age            25\n",
       "SibSp           3\n",
       "Parch          12\n",
       "Ticket          0\n",
       "Fare            8\n",
       "Cabin           0\n",
       "Embarked       12\n",
       "dtype: int64"
      ]
     },
     "execution_count": 106,
     "metadata": {},
     "output_type": "execute_result"
    }
   ],
   "source": [
    "data.isna().sum()"
   ]
  },
  {
   "cell_type": "markdown",
   "id": "00097c03",
   "metadata": {},
   "source": [
    "Al buscar los valores de algunas de las columnas se observa que algunas columnas como Sex existen missing data diferentes a NA."
   ]
  },
  {
   "cell_type": "code",
   "execution_count": 107,
   "id": "15c0f703",
   "metadata": {},
   "outputs": [
    {
     "data": {
      "text/plain": [
       "array(['?', 'female', 'male'], dtype=object)"
      ]
     },
     "execution_count": 107,
     "metadata": {},
     "output_type": "execute_result"
    }
   ],
   "source": [
    "data['Sex'].unique()"
   ]
  },
  {
   "cell_type": "code",
   "execution_count": 108,
   "id": "20dca79a",
   "metadata": {},
   "outputs": [
    {
     "data": {
      "text/plain": [
       "array([38.  , 35.  , 54.  ,   nan, 58.  , 34.  , 19.  , 49.  , 65.  ,\n",
       "       45.  , 29.  , 25.  , 46.  , 71.  , 23.  , 21.  , 47.  , 24.  ,\n",
       "       37.  , 36.5 , 22.  , 61.  , 56.  , 50.  ,  3.  , 44.  ,  2.  ,\n",
       "       40.  , 31.  , 32.  , 62.  , 30.  , 52.  , 63.  , 36.  ,  0.92,\n",
       "       17.  , 18.  , 16.  , 41.  , 60.  , 27.  , 33.  , 28.  , 14.  ,\n",
       "       64.  ,  4.  , 48.  , 55.  , 39.  , 53.  , 80.  , 15.  , 42.  ,\n",
       "       70.  ,  6.  , 51.  , 43.  , 11.  ])"
      ]
     },
     "execution_count": 108,
     "metadata": {},
     "output_type": "execute_result"
    }
   ],
   "source": [
    "data['Age'].unique()"
   ]
  },
  {
   "cell_type": "code",
   "execution_count": 109,
   "id": "3887b141",
   "metadata": {},
   "outputs": [
    {
     "data": {
      "text/plain": [
       "array([ 1.,  0., nan,  3.,  2.])"
      ]
     },
     "execution_count": 109,
     "metadata": {},
     "output_type": "execute_result"
    }
   ],
   "source": [
    "data['SibSp'].unique()"
   ]
  },
  {
   "cell_type": "code",
   "execution_count": 110,
   "id": "1c674c1d",
   "metadata": {},
   "outputs": [
    {
     "data": {
      "text/plain": [
       "array([ 0., nan,  2.,  1.,  4.])"
      ]
     },
     "execution_count": 110,
     "metadata": {},
     "output_type": "execute_result"
    }
   ],
   "source": [
    "data['Parch'].unique()"
   ]
  },
  {
   "cell_type": "code",
   "execution_count": 111,
   "id": "da06c165",
   "metadata": {},
   "outputs": [
    {
     "data": {
      "text/plain": [
       "array([ 71.2833,  53.1   ,  51.8625,  16.7   ,  26.55  ,  13.    ,\n",
       "        35.5   , 263.    ,  76.7292,  61.9792,  83.475 ,  10.5   ,\n",
       "            nan,  61.175 ,  34.6542,  63.3583,  77.2875,  52.    ,\n",
       "       247.5208,  26.2833,  79.2   ,  26.    ,  66.6   ,  33.5   ,\n",
       "        30.6958,  28.7125,  39.    ,  27.7208, 146.5208,  10.4625,\n",
       "        31.    , 113.275 ,  90.    ,  52.5542,  79.65  ,   0.    ,\n",
       "       153.4625, 135.6333,  29.7   ,  77.9583,  91.0792,  12.875 ,\n",
       "       151.55  , 108.9   ,  56.9292,  83.1583, 262.375 , 164.8667,\n",
       "       134.5   ,  57.9792,  28.5   ,  55.    ,  75.25  ,  69.3   ,\n",
       "        55.4417, 211.5   , 120.    ,   8.05  ,  55.9   ,  81.8583,\n",
       "        30.5   ,  27.75  ,  89.1042,  38.5   ,  13.7917,  78.2667,\n",
       "        86.5   ,  26.2875,  34.0208,  93.5   ,  49.5   ,  71.    ,\n",
       "       106.425 , 110.8833,  39.6   ,  51.4792,  26.3875,  40.125 ,\n",
       "        32.3208,  30.    ,  25.5875, 512.3292, 211.3375,  57.    ,\n",
       "         7.65  , 227.525 ,  49.5042,  78.85  ,  12.475 ,  25.9292,\n",
       "        39.4   ,  50.4958,   5.    ])"
      ]
     },
     "execution_count": 111,
     "metadata": {},
     "output_type": "execute_result"
    }
   ],
   "source": [
    "data['Fare'].unique()"
   ]
  },
  {
   "cell_type": "code",
   "execution_count": 112,
   "id": "b07a614b",
   "metadata": {},
   "outputs": [
    {
     "data": {
      "text/plain": [
       "array(['C', 'S', nan, 'Q'], dtype=object)"
      ]
     },
     "execution_count": 112,
     "metadata": {},
     "output_type": "execute_result"
    }
   ],
   "source": [
    "data['Embarked'].unique()"
   ]
  },
  {
   "cell_type": "markdown",
   "id": "910db6f5",
   "metadata": {},
   "source": [
    "Por lo tanto, se buscan en las columnas de tipo object valores que no coincidan con el formato. ('?')"
   ]
  },
  {
   "cell_type": "code",
   "execution_count": 113,
   "id": "7321a266",
   "metadata": {},
   "outputs": [
    {
     "data": {
      "text/html": [
       "<div>\n",
       "<style scoped>\n",
       "    .dataframe tbody tr th:only-of-type {\n",
       "        vertical-align: middle;\n",
       "    }\n",
       "\n",
       "    .dataframe tbody tr th {\n",
       "        vertical-align: top;\n",
       "    }\n",
       "\n",
       "    .dataframe thead th {\n",
       "        text-align: right;\n",
       "    }\n",
       "</style>\n",
       "<table border=\"1\" class=\"dataframe\">\n",
       "  <thead>\n",
       "    <tr style=\"text-align: right;\">\n",
       "      <th></th>\n",
       "      <th>cols</th>\n",
       "      <th>val</th>\n",
       "    </tr>\n",
       "  </thead>\n",
       "  <tbody>\n",
       "    <tr>\n",
       "      <th>0</th>\n",
       "      <td>Name</td>\n",
       "      <td>0</td>\n",
       "    </tr>\n",
       "    <tr>\n",
       "      <th>1</th>\n",
       "      <td>Sex</td>\n",
       "      <td>51</td>\n",
       "    </tr>\n",
       "    <tr>\n",
       "      <th>2</th>\n",
       "      <td>Ticket</td>\n",
       "      <td>0</td>\n",
       "    </tr>\n",
       "    <tr>\n",
       "      <th>3</th>\n",
       "      <td>Cabin</td>\n",
       "      <td>0</td>\n",
       "    </tr>\n",
       "    <tr>\n",
       "      <th>4</th>\n",
       "      <td>Embarked</td>\n",
       "      <td>0</td>\n",
       "    </tr>\n",
       "  </tbody>\n",
       "</table>\n",
       "</div>"
      ],
      "text/plain": [
       "       cols  val\n",
       "0      Name    0\n",
       "1       Sex   51\n",
       "2    Ticket    0\n",
       "3     Cabin    0\n",
       "4  Embarked    0"
      ]
     },
     "execution_count": 113,
     "metadata": {},
     "output_type": "execute_result"
    }
   ],
   "source": [
    "cols = []\n",
    "val = []\n",
    "for col in data.select_dtypes(include='object').columns:\n",
    "    cols.append(col)\n",
    "    val.append(data[col].str.contains(r'\\?').sum())\n",
    "pd.DataFrame({\n",
    "    'cols':cols,\n",
    "    'val':val\n",
    "})"
   ]
  },
  {
   "cell_type": "markdown",
   "id": "861b71cc",
   "metadata": {},
   "source": [
    "Se remplazan los valores missing por NA para tener una mejor visualización sobre el total de missing data existente."
   ]
  },
  {
   "cell_type": "code",
   "execution_count": 114,
   "id": "c9076655",
   "metadata": {},
   "outputs": [],
   "source": [
    "data.replace(r'\\?', np.nan, regex = True, inplace = True)"
   ]
  },
  {
   "cell_type": "markdown",
   "id": "109ffd9a",
   "metadata": {},
   "source": [
    "Ahora si, estas son las columnas sobre las que se conoce que tienen missing data."
   ]
  },
  {
   "cell_type": "code",
   "execution_count": 115,
   "id": "48ec929a",
   "metadata": {},
   "outputs": [
    {
     "data": {
      "text/plain": [
       "PassengerId     0\n",
       "Survived        0\n",
       "Pclass          0\n",
       "Name            0\n",
       "Sex            51\n",
       "Age            25\n",
       "SibSp           3\n",
       "Parch          12\n",
       "Ticket          0\n",
       "Fare            8\n",
       "Cabin           0\n",
       "Embarked       12\n",
       "dtype: int64"
      ]
     },
     "execution_count": 115,
     "metadata": {},
     "output_type": "execute_result"
    }
   ],
   "source": [
    "data.isna().sum()"
   ]
  },
  {
   "cell_type": "code",
   "execution_count": 17,
   "id": "01d12205",
   "metadata": {},
   "outputs": [
    {
     "data": {
      "text/plain": [
       "<AxesSubplot: >"
      ]
     },
     "execution_count": 17,
     "metadata": {},
     "output_type": "execute_result"
    },
    {
     "data": {
      "image/png": "[encoded data removed]",
      "text/plain": [
       "<Figure size 640x480 with 1 Axes>"
      ]
     },
     "metadata": {},
     "output_type": "display_data"
    }
   ],
   "source": [
    "import seaborn as sns\n",
    "sns.heatmap(data.isna(), cbar=False)"
   ]
  },
  {
   "cell_type": "markdown",
   "id": "997286f5",
   "metadata": {},
   "source": [
    "Visualización completa de los missing values."
   ]
  },
  {
   "cell_type": "markdown",
   "id": "d46a869d",
   "metadata": {},
   "source": [
    "### 1.2.\tPara cada columna especificar qué tipo de modelo se utilizará (nombre y el porqué) y qué valores se le darán a todos los missing values. "
   ]
  },
  {
   "cell_type": "markdown",
   "id": "8d79ecad",
   "metadata": {},
   "source": [
    "Para la columna 'Sex' y 'Embarked', haría una imputación por la moda. Esto porque es una variable categórica y porque no es posible hacerlo por el promedio o la mediana. "
   ]
  },
  {
   "cell_type": "markdown",
   "id": "d75afccf",
   "metadata": {},
   "source": [
    "Para la columna 'Age', haría una imputación por la media. Esto porque es una variable numérica que podría ser más adecuada ya que la data es extensa. Sin embargo, hay que capear el valor a un número exacto ya que con la media es probable que queden valores decimales."
   ]
  },
  {
   "cell_type": "markdown",
   "id": "729a8908",
   "metadata": {},
   "source": [
    "Para la columna 'SibSp' y 'Parch', sería una imputación por la mediana. Ya que no sería tan exacta por medio del promedio."
   ]
  },
  {
   "cell_type": "markdown",
   "id": "443674f8",
   "metadata": {},
   "source": [
    "Para la columna 'Fare', sería una imputación por la media. Esto porque es una variable que puede ser decimal y permite un poco más de flexiblidad en tanto al valor de los datos."
   ]
  },
  {
   "cell_type": "markdown",
   "id": "cadbba76",
   "metadata": {},
   "source": [
    "### 1.3.\tFilas completas"
   ]
  },
  {
   "cell_type": "markdown",
   "id": "d2ee7ee9",
   "metadata": {},
   "source": [
    "La data tienen un total de 183 observaciones. Sin embargo, al hacer dropna general de las observaciones que son missing data, se reducen a 100 observaciones en total."
   ]
  },
  {
   "cell_type": "code",
   "execution_count": 18,
   "id": "35588cab",
   "metadata": {},
   "outputs": [
    {
     "data": {
      "text/plain": [
       "(183, 12)"
      ]
     },
     "execution_count": 18,
     "metadata": {},
     "output_type": "execute_result"
    }
   ],
   "source": [
    "data.shape"
   ]
  },
  {
   "cell_type": "code",
   "execution_count": 19,
   "id": "d1556cf7",
   "metadata": {},
   "outputs": [
    {
     "data": {
      "text/plain": [
       "(100, 12)"
      ]
     },
     "execution_count": 19,
     "metadata": {},
     "output_type": "execute_result"
    }
   ],
   "source": [
    "data.dropna().shape"
   ]
  },
  {
   "cell_type": "markdown",
   "id": "7a003100",
   "metadata": {},
   "source": [
    "Por lo tanto, se pierde aproximadamente el 45% de la data."
   ]
  },
  {
   "cell_type": "code",
   "execution_count": 20,
   "id": "64f9ff05",
   "metadata": {},
   "outputs": [
    {
     "data": {
      "text/html": [
       "<div>\n",
       "<style scoped>\n",
       "    .dataframe tbody tr th:only-of-type {\n",
       "        vertical-align: middle;\n",
       "    }\n",
       "\n",
       "    .dataframe tbody tr th {\n",
       "        vertical-align: top;\n",
       "    }\n",
       "\n",
       "    .dataframe thead th {\n",
       "        text-align: right;\n",
       "    }\n",
       "</style>\n",
       "<table border=\"1\" class=\"dataframe\">\n",
       "  <thead>\n",
       "    <tr style=\"text-align: right;\">\n",
       "      <th></th>\n",
       "      <th>PassengerId</th>\n",
       "      <th>Survived</th>\n",
       "      <th>Pclass</th>\n",
       "      <th>Age</th>\n",
       "      <th>SibSp</th>\n",
       "      <th>Parch</th>\n",
       "      <th>Fare</th>\n",
       "    </tr>\n",
       "  </thead>\n",
       "  <tbody>\n",
       "    <tr>\n",
       "      <th>count</th>\n",
       "      <td>100.000000</td>\n",
       "      <td>100.000000</td>\n",
       "      <td>100.000000</td>\n",
       "      <td>100.000000</td>\n",
       "      <td>100.00000</td>\n",
       "      <td>100.000000</td>\n",
       "      <td>100.000000</td>\n",
       "    </tr>\n",
       "    <tr>\n",
       "      <th>mean</th>\n",
       "      <td>467.120000</td>\n",
       "      <td>0.620000</td>\n",
       "      <td>1.160000</td>\n",
       "      <td>36.124200</td>\n",
       "      <td>0.44000</td>\n",
       "      <td>0.480000</td>\n",
       "      <td>74.445126</td>\n",
       "    </tr>\n",
       "    <tr>\n",
       "      <th>std</th>\n",
       "      <td>230.014944</td>\n",
       "      <td>0.487832</td>\n",
       "      <td>0.465366</td>\n",
       "      <td>15.123837</td>\n",
       "      <td>0.53786</td>\n",
       "      <td>0.731402</td>\n",
       "      <td>65.975260</td>\n",
       "    </tr>\n",
       "    <tr>\n",
       "      <th>min</th>\n",
       "      <td>4.000000</td>\n",
       "      <td>0.000000</td>\n",
       "      <td>1.000000</td>\n",
       "      <td>0.920000</td>\n",
       "      <td>0.00000</td>\n",
       "      <td>0.000000</td>\n",
       "      <td>0.000000</td>\n",
       "    </tr>\n",
       "    <tr>\n",
       "      <th>25%</th>\n",
       "      <td>316.750000</td>\n",
       "      <td>0.000000</td>\n",
       "      <td>1.000000</td>\n",
       "      <td>24.000000</td>\n",
       "      <td>0.00000</td>\n",
       "      <td>0.000000</td>\n",
       "      <td>31.990600</td>\n",
       "    </tr>\n",
       "    <tr>\n",
       "      <th>50%</th>\n",
       "      <td>480.500000</td>\n",
       "      <td>1.000000</td>\n",
       "      <td>1.000000</td>\n",
       "      <td>36.000000</td>\n",
       "      <td>0.00000</td>\n",
       "      <td>0.000000</td>\n",
       "      <td>59.979200</td>\n",
       "    </tr>\n",
       "    <tr>\n",
       "      <th>75%</th>\n",
       "      <td>649.500000</td>\n",
       "      <td>1.000000</td>\n",
       "      <td>1.000000</td>\n",
       "      <td>48.250000</td>\n",
       "      <td>1.00000</td>\n",
       "      <td>1.000000</td>\n",
       "      <td>90.000000</td>\n",
       "    </tr>\n",
       "    <tr>\n",
       "      <th>max</th>\n",
       "      <td>868.000000</td>\n",
       "      <td>1.000000</td>\n",
       "      <td>3.000000</td>\n",
       "      <td>71.000000</td>\n",
       "      <td>2.00000</td>\n",
       "      <td>2.000000</td>\n",
       "      <td>512.329200</td>\n",
       "    </tr>\n",
       "  </tbody>\n",
       "</table>\n",
       "</div>"
      ],
      "text/plain": [
       "       PassengerId    Survived      Pclass         Age      SibSp       Parch  \\\n",
       "count   100.000000  100.000000  100.000000  100.000000  100.00000  100.000000   \n",
       "mean    467.120000    0.620000    1.160000   36.124200    0.44000    0.480000   \n",
       "std     230.014944    0.487832    0.465366   15.123837    0.53786    0.731402   \n",
       "min       4.000000    0.000000    1.000000    0.920000    0.00000    0.000000   \n",
       "25%     316.750000    0.000000    1.000000   24.000000    0.00000    0.000000   \n",
       "50%     480.500000    1.000000    1.000000   36.000000    0.00000    0.000000   \n",
       "75%     649.500000    1.000000    1.000000   48.250000    1.00000    1.000000   \n",
       "max     868.000000    1.000000    3.000000   71.000000    2.00000    2.000000   \n",
       "\n",
       "             Fare  \n",
       "count  100.000000  \n",
       "mean    74.445126  \n",
       "std     65.975260  \n",
       "min      0.000000  \n",
       "25%     31.990600  \n",
       "50%     59.979200  \n",
       "75%     90.000000  \n",
       "max    512.329200  "
      ]
     },
     "execution_count": 20,
     "metadata": {},
     "output_type": "execute_result"
    }
   ],
   "source": [
    "data2 = data.dropna()\n",
    "data2.describe()"
   ]
  },
  {
   "cell_type": "markdown",
   "id": "c28b2448",
   "metadata": {},
   "source": [
    "En general, el promedio de varios columnas numéricas aumenta pero así como Survived, se reduce al igual que SibSp y Fare."
   ]
  },
  {
   "cell_type": "markdown",
   "id": "8cc60aed",
   "metadata": {},
   "source": [
    "### 1.4.\tUtilizar los siguientes métodos para cada columna que contiene missing values:\n",
    "a.\tImputación general (media, moda y mediana)\n",
    "\n",
    "b.\tModelo de regresión lineal\n",
    "\n",
    "c.\tOutliers: Uno de los dos métodos vistos en clase (Standard deviation approach o Percentile approach)\n"
   ]
  },
  {
   "cell_type": "markdown",
   "id": "79d45104",
   "metadata": {},
   "source": [
    "#### 1.4.1. Imputación general (media, moda y mediana)"
   ]
  },
  {
   "cell_type": "code",
   "execution_count": 21,
   "id": "eeeaedd7",
   "metadata": {},
   "outputs": [],
   "source": [
    "dataImput = data"
   ]
  },
  {
   "cell_type": "markdown",
   "id": "d936012a",
   "metadata": {},
   "source": [
    "Imputación por moda"
   ]
  },
  {
   "cell_type": "code",
   "execution_count": 23,
   "id": "d8f42cde",
   "metadata": {},
   "outputs": [],
   "source": [
    "dataImput['Sex'].fillna(dataImput['Sex'].mode()[0], inplace=True)"
   ]
  },
  {
   "cell_type": "code",
   "execution_count": 24,
   "id": "d42fbfab",
   "metadata": {},
   "outputs": [
    {
     "name": "stdout",
     "output_type": "stream",
     "text": [
      "Comprobación de los missing values luego de realizar la imputación por la moda en Sex: 0\n"
     ]
    }
   ],
   "source": [
    "print(\"Comprobación de los missing values luego de realizar la imputación por la moda en Sex: \" + \n",
    "      str(dataImput['Sex'].isna().sum()))"
   ]
  },
  {
   "cell_type": "markdown",
   "id": "3100b710",
   "metadata": {},
   "source": [
    "Imputación por promedio"
   ]
  },
  {
   "cell_type": "code",
   "execution_count": 25,
   "id": "2dd0ef22",
   "metadata": {},
   "outputs": [],
   "source": [
    "dataImput['Age'].fillna(int(dataImput['Age'].mean()), inplace=True)"
   ]
  },
  {
   "cell_type": "code",
   "execution_count": 26,
   "id": "522f87d5",
   "metadata": {},
   "outputs": [
    {
     "name": "stdout",
     "output_type": "stream",
     "text": [
      "Comprobación de los missing values luego de realizar la imputación por la media en Age: 0\n"
     ]
    }
   ],
   "source": [
    "print(\"Comprobación de los missing values luego de realizar la imputación por la media en Age: \" + \n",
    "      str(dataImput['Age'].isna().sum()))"
   ]
  },
  {
   "cell_type": "markdown",
   "id": "280f52a2",
   "metadata": {},
   "source": [
    "Imputación por mediana"
   ]
  },
  {
   "cell_type": "code",
   "execution_count": 27,
   "id": "a7ec33e9",
   "metadata": {},
   "outputs": [],
   "source": [
    "dataImput['SibSp'].fillna(dataImput['SibSp'].median(), inplace=True)"
   ]
  },
  {
   "cell_type": "code",
   "execution_count": 28,
   "id": "8c6d662a",
   "metadata": {},
   "outputs": [
    {
     "name": "stdout",
     "output_type": "stream",
     "text": [
      "Comprobación de los missing values luego de realizar la imputación por la mediana en SibSp: 0\n"
     ]
    }
   ],
   "source": [
    "print(\"Comprobación de los missing values luego de realizar la imputación por la mediana en SibSp: \" + \n",
    "      str(dataImput['SibSp'].isna().sum()))"
   ]
  },
  {
   "cell_type": "markdown",
   "id": "7616a44b",
   "metadata": {},
   "source": [
    "Imputación por mediana"
   ]
  },
  {
   "cell_type": "code",
   "execution_count": 29,
   "id": "5deecd07",
   "metadata": {},
   "outputs": [],
   "source": [
    "dataImput['Parch'].fillna(dataImput['Parch'].median(), inplace=True)"
   ]
  },
  {
   "cell_type": "code",
   "execution_count": 30,
   "id": "b833c029",
   "metadata": {},
   "outputs": [
    {
     "name": "stdout",
     "output_type": "stream",
     "text": [
      "Comprobación de los missing values luego de realizar la imputación por la mediana en Parch: 0\n"
     ]
    }
   ],
   "source": [
    "print(\"Comprobación de los missing values luego de realizar la imputación por la mediana en Parch: \" + \n",
    "      str(dataImput['Parch'].isna().sum()))"
   ]
  },
  {
   "cell_type": "markdown",
   "id": "8d5e4a48",
   "metadata": {},
   "source": [
    "Imputación por promedio"
   ]
  },
  {
   "cell_type": "code",
   "execution_count": 31,
   "id": "b04dba82",
   "metadata": {},
   "outputs": [],
   "source": [
    "dataImput['Fare'].fillna(dataImput['Fare'].mean(), inplace=True)"
   ]
  },
  {
   "cell_type": "code",
   "execution_count": 32,
   "id": "f4582287",
   "metadata": {},
   "outputs": [
    {
     "name": "stdout",
     "output_type": "stream",
     "text": [
      "Comprobación de los missing values luego de realizar la imputación por la media en Fare: 0\n"
     ]
    }
   ],
   "source": [
    "print(\"Comprobación de los missing values luego de realizar la imputación por la media en Fare: \" + \n",
    "      str(dataImput['Fare'].isna().sum()))"
   ]
  },
  {
   "cell_type": "markdown",
   "id": "3456ba08",
   "metadata": {},
   "source": [
    "Imputación por moda"
   ]
  },
  {
   "cell_type": "code",
   "execution_count": 33,
   "id": "4083c739",
   "metadata": {},
   "outputs": [],
   "source": [
    "dataImput['Embarked'].fillna(dataImput['Embarked'].mode()[0], inplace=True)"
   ]
  },
  {
   "cell_type": "code",
   "execution_count": 34,
   "id": "33c9f4db",
   "metadata": {},
   "outputs": [
    {
     "name": "stdout",
     "output_type": "stream",
     "text": [
      "Comprobación de los missing values luego de realizar la imputación por la moda en Embarked: 0\n"
     ]
    }
   ],
   "source": [
    "print(\"Comprobación de los missing values luego de realizar la imputación por la moda en Embarked: \" + \n",
    "      str(dataImput['Embarked'].isna().sum()))"
   ]
  },
  {
   "cell_type": "markdown",
   "id": "fc53e593",
   "metadata": {},
   "source": [
    "Verificación de las imputación y los missing values generales"
   ]
  },
  {
   "cell_type": "code",
   "execution_count": 35,
   "id": "bfffb347",
   "metadata": {},
   "outputs": [
    {
     "data": {
      "text/plain": [
       "PassengerId    0\n",
       "Survived       0\n",
       "Pclass         0\n",
       "Name           0\n",
       "Sex            0\n",
       "Age            0\n",
       "SibSp          0\n",
       "Parch          0\n",
       "Ticket         0\n",
       "Fare           0\n",
       "Cabin          0\n",
       "Embarked       0\n",
       "dtype: int64"
      ]
     },
     "execution_count": 35,
     "metadata": {},
     "output_type": "execute_result"
    }
   ],
   "source": [
    "dataImput.isna().sum()"
   ]
  },
  {
   "cell_type": "markdown",
   "id": "4b8e8179",
   "metadata": {},
   "source": [
    "#### 1.4.2.\tModelo de regresión lineal"
   ]
  },
  {
   "cell_type": "code",
   "execution_count": 36,
   "id": "7f0cc6c6",
   "metadata": {},
   "outputs": [],
   "source": [
    "dataRegresion = dataImput #copia de la data original para los modelos"
   ]
  },
  {
   "cell_type": "code",
   "execution_count": 39,
   "id": "d9c43746",
   "metadata": {},
   "outputs": [
    {
     "name": "stderr",
     "output_type": "stream",
     "text": [
      "C:\\Users\\yanet\\AppData\\Local\\Temp\\ipykernel_2448\\1508623809.py:1: FutureWarning: The default value of numeric_only in DataFrame.corr is deprecated. In a future version, it will default to False. Select only valid columns or specify the value of numeric_only to silence this warning.\n",
      "  corr = dataRegresion.corr()\n"
     ]
    }
   ],
   "source": [
    "corr = dataRegresion.corr()"
   ]
  },
  {
   "cell_type": "code",
   "execution_count": 40,
   "id": "fb85220a",
   "metadata": {},
   "outputs": [
    {
     "data": {
      "text/html": [
       "<style type=\"text/css\">\n",
       "#T_7fc01_row0_col0, #T_7fc01_row1_col1, #T_7fc01_row2_col2, #T_7fc01_row3_col3, #T_7fc01_row4_col4, #T_7fc01_row5_col5, #T_7fc01_row6_col6 {\n",
       "  background-color: #b40426;\n",
       "  color: #f1f1f1;\n",
       "}\n",
       "#T_7fc01_row0_col1, #T_7fc01_row1_col6 {\n",
       "  background-color: #a3c2fe;\n",
       "  color: #000000;\n",
       "}\n",
       "#T_7fc01_row0_col2 {\n",
       "  background-color: #6c8ff1;\n",
       "  color: #f1f1f1;\n",
       "}\n",
       "#T_7fc01_row0_col3 {\n",
       "  background-color: #7295f4;\n",
       "  color: #f1f1f1;\n",
       "}\n",
       "#T_7fc01_row0_col4 {\n",
       "  background-color: #3f53c6;\n",
       "  color: #f1f1f1;\n",
       "}\n",
       "#T_7fc01_row0_col5, #T_7fc01_row2_col1 {\n",
       "  background-color: #6f92f3;\n",
       "  color: #f1f1f1;\n",
       "}\n",
       "#T_7fc01_row0_col6, #T_7fc01_row2_col5 {\n",
       "  background-color: #89acfd;\n",
       "  color: #000000;\n",
       "}\n",
       "#T_7fc01_row1_col0 {\n",
       "  background-color: #81a4fb;\n",
       "  color: #f1f1f1;\n",
       "}\n",
       "#T_7fc01_row1_col2 {\n",
       "  background-color: #7a9df8;\n",
       "  color: #f1f1f1;\n",
       "}\n",
       "#T_7fc01_row1_col3, #T_7fc01_row2_col3 {\n",
       "  background-color: #3e51c5;\n",
       "  color: #f1f1f1;\n",
       "}\n",
       "#T_7fc01_row1_col4, #T_7fc01_row1_col5 {\n",
       "  background-color: #799cf8;\n",
       "  color: #f1f1f1;\n",
       "}\n",
       "#T_7fc01_row2_col0, #T_7fc01_row2_col4, #T_7fc01_row2_col6, #T_7fc01_row3_col1, #T_7fc01_row3_col5, #T_7fc01_row5_col3, #T_7fc01_row6_col2 {\n",
       "  background-color: #3b4cc0;\n",
       "  color: #f1f1f1;\n",
       "}\n",
       "#T_7fc01_row3_col0 {\n",
       "  background-color: #465ecf;\n",
       "  color: #f1f1f1;\n",
       "}\n",
       "#T_7fc01_row3_col2 {\n",
       "  background-color: #455cce;\n",
       "  color: #f1f1f1;\n",
       "}\n",
       "#T_7fc01_row3_col4, #T_7fc01_row4_col0 {\n",
       "  background-color: #3d50c3;\n",
       "  color: #f1f1f1;\n",
       "}\n",
       "#T_7fc01_row3_col6 {\n",
       "  background-color: #6384eb;\n",
       "  color: #f1f1f1;\n",
       "}\n",
       "#T_7fc01_row4_col1 {\n",
       "  background-color: #9abbff;\n",
       "  color: #000000;\n",
       "}\n",
       "#T_7fc01_row4_col2 {\n",
       "  background-color: #6a8bef;\n",
       "  color: #f1f1f1;\n",
       "}\n",
       "#T_7fc01_row4_col3 {\n",
       "  background-color: #6687ed;\n",
       "  color: #f1f1f1;\n",
       "}\n",
       "#T_7fc01_row4_col5 {\n",
       "  background-color: #bbd1f8;\n",
       "  color: #000000;\n",
       "}\n",
       "#T_7fc01_row4_col6 {\n",
       "  background-color: #d1dae9;\n",
       "  color: #000000;\n",
       "}\n",
       "#T_7fc01_row5_col0 {\n",
       "  background-color: #445acc;\n",
       "  color: #f1f1f1;\n",
       "}\n",
       "#T_7fc01_row5_col1 {\n",
       "  background-color: #7597f6;\n",
       "  color: #f1f1f1;\n",
       "}\n",
       "#T_7fc01_row5_col2 {\n",
       "  background-color: #90b2fe;\n",
       "  color: #000000;\n",
       "}\n",
       "#T_7fc01_row5_col4, #T_7fc01_row6_col1 {\n",
       "  background-color: #9bbcff;\n",
       "  color: #000000;\n",
       "}\n",
       "#T_7fc01_row5_col6 {\n",
       "  background-color: #dfdbd9;\n",
       "  color: #000000;\n",
       "}\n",
       "#T_7fc01_row6_col0 {\n",
       "  background-color: #5a78e4;\n",
       "  color: #f1f1f1;\n",
       "}\n",
       "#T_7fc01_row6_col3 {\n",
       "  background-color: #5d7ce6;\n",
       "  color: #f1f1f1;\n",
       "}\n",
       "#T_7fc01_row6_col4 {\n",
       "  background-color: #b3cdfb;\n",
       "  color: #000000;\n",
       "}\n",
       "#T_7fc01_row6_col5 {\n",
       "  background-color: #dcdddd;\n",
       "  color: #000000;\n",
       "}\n",
       "</style>\n",
       "<table id=\"T_7fc01\">\n",
       "  <thead>\n",
       "    <tr>\n",
       "      <th class=\"blank level0\" >&nbsp;</th>\n",
       "      <th id=\"T_7fc01_level0_col0\" class=\"col_heading level0 col0\" >PassengerId</th>\n",
       "      <th id=\"T_7fc01_level0_col1\" class=\"col_heading level0 col1\" >Survived</th>\n",
       "      <th id=\"T_7fc01_level0_col2\" class=\"col_heading level0 col2\" >Pclass</th>\n",
       "      <th id=\"T_7fc01_level0_col3\" class=\"col_heading level0 col3\" >Age</th>\n",
       "      <th id=\"T_7fc01_level0_col4\" class=\"col_heading level0 col4\" >SibSp</th>\n",
       "      <th id=\"T_7fc01_level0_col5\" class=\"col_heading level0 col5\" >Parch</th>\n",
       "      <th id=\"T_7fc01_level0_col6\" class=\"col_heading level0 col6\" >Fare</th>\n",
       "    </tr>\n",
       "  </thead>\n",
       "  <tbody>\n",
       "    <tr>\n",
       "      <th id=\"T_7fc01_level0_row0\" class=\"row_heading level0 row0\" >PassengerId</th>\n",
       "      <td id=\"T_7fc01_row0_col0\" class=\"data row0 col0\" >1.000000</td>\n",
       "      <td id=\"T_7fc01_row0_col1\" class=\"data row0 col1\" >0.148495</td>\n",
       "      <td id=\"T_7fc01_row0_col2\" class=\"data row0 col2\" >-0.089136</td>\n",
       "      <td id=\"T_7fc01_row0_col3\" class=\"data row0 col3\" >-0.044178</td>\n",
       "      <td id=\"T_7fc01_row0_col4\" class=\"data row0 col4\" >-0.076814</td>\n",
       "      <td id=\"T_7fc01_row0_col5\" class=\"data row0 col5\" >-0.053973</td>\n",
       "      <td id=\"T_7fc01_row0_col6\" class=\"data row0 col6\" >0.021501</td>\n",
       "    </tr>\n",
       "    <tr>\n",
       "      <th id=\"T_7fc01_level0_row1\" class=\"row_heading level0 row1\" >Survived</th>\n",
       "      <td id=\"T_7fc01_row1_col0\" class=\"data row1 col0\" >0.148495</td>\n",
       "      <td id=\"T_7fc01_row1_col1\" class=\"data row1 col1\" >1.000000</td>\n",
       "      <td id=\"T_7fc01_row1_col2\" class=\"data row1 col2\" >-0.034542</td>\n",
       "      <td id=\"T_7fc01_row1_col3\" class=\"data row1 col3\" >-0.243127</td>\n",
       "      <td id=\"T_7fc01_row1_col4\" class=\"data row1 col4\" >0.112707</td>\n",
       "      <td id=\"T_7fc01_row1_col5\" class=\"data row1 col5\" >-0.017392</td>\n",
       "      <td id=\"T_7fc01_row1_col6\" class=\"data row1 col6\" >0.116995</td>\n",
       "    </tr>\n",
       "    <tr>\n",
       "      <th id=\"T_7fc01_level0_row2\" class=\"row_heading level0 row2\" >Pclass</th>\n",
       "      <td id=\"T_7fc01_row2_col0\" class=\"data row2 col0\" >-0.089136</td>\n",
       "      <td id=\"T_7fc01_row2_col1\" class=\"data row2 col1\" >-0.034542</td>\n",
       "      <td id=\"T_7fc01_row2_col2\" class=\"data row2 col2\" >1.000000</td>\n",
       "      <td id=\"T_7fc01_row2_col3\" class=\"data row2 col3\" >-0.244755</td>\n",
       "      <td id=\"T_7fc01_row2_col4\" class=\"data row2 col4\" >-0.097364</td>\n",
       "      <td id=\"T_7fc01_row2_col5\" class=\"data row2 col5\" >0.041823</td>\n",
       "      <td id=\"T_7fc01_row2_col6\" class=\"data row2 col6\" >-0.291042</td>\n",
       "    </tr>\n",
       "    <tr>\n",
       "      <th id=\"T_7fc01_level0_row3\" class=\"row_heading level0 row3\" >Age</th>\n",
       "      <td id=\"T_7fc01_row3_col0\" class=\"data row3 col0\" >-0.044178</td>\n",
       "      <td id=\"T_7fc01_row3_col1\" class=\"data row3 col1\" >-0.243127</td>\n",
       "      <td id=\"T_7fc01_row3_col2\" class=\"data row3 col2\" >-0.244755</td>\n",
       "      <td id=\"T_7fc01_row3_col3\" class=\"data row3 col3\" >1.000000</td>\n",
       "      <td id=\"T_7fc01_row3_col4\" class=\"data row3 col4\" >-0.086812</td>\n",
       "      <td id=\"T_7fc01_row3_col5\" class=\"data row3 col5\" >-0.262361</td>\n",
       "      <td id=\"T_7fc01_row3_col6\" class=\"data row3 col6\" >-0.120752</td>\n",
       "    </tr>\n",
       "    <tr>\n",
       "      <th id=\"T_7fc01_level0_row4\" class=\"row_heading level0 row4\" >SibSp</th>\n",
       "      <td id=\"T_7fc01_row4_col0\" class=\"data row4 col0\" >-0.076814</td>\n",
       "      <td id=\"T_7fc01_row4_col1\" class=\"data row4 col1\" >0.112707</td>\n",
       "      <td id=\"T_7fc01_row4_col2\" class=\"data row4 col2\" >-0.097364</td>\n",
       "      <td id=\"T_7fc01_row4_col3\" class=\"data row4 col3\" >-0.086812</td>\n",
       "      <td id=\"T_7fc01_row4_col4\" class=\"data row4 col4\" >1.000000</td>\n",
       "      <td id=\"T_7fc01_row4_col5\" class=\"data row4 col5\" >0.222056</td>\n",
       "      <td id=\"T_7fc01_row4_col6\" class=\"data row4 col6\" >0.298478</td>\n",
       "    </tr>\n",
       "    <tr>\n",
       "      <th id=\"T_7fc01_level0_row5\" class=\"row_heading level0 row5\" >Parch</th>\n",
       "      <td id=\"T_7fc01_row5_col0\" class=\"data row5 col0\" >-0.053973</td>\n",
       "      <td id=\"T_7fc01_row5_col1\" class=\"data row5 col1\" >-0.017392</td>\n",
       "      <td id=\"T_7fc01_row5_col2\" class=\"data row5 col2\" >0.041823</td>\n",
       "      <td id=\"T_7fc01_row5_col3\" class=\"data row5 col3\" >-0.262361</td>\n",
       "      <td id=\"T_7fc01_row5_col4\" class=\"data row5 col4\" >0.222056</td>\n",
       "      <td id=\"T_7fc01_row5_col5\" class=\"data row5 col5\" >1.000000</td>\n",
       "      <td id=\"T_7fc01_row5_col6\" class=\"data row5 col6\" >0.365063</td>\n",
       "    </tr>\n",
       "    <tr>\n",
       "      <th id=\"T_7fc01_level0_row6\" class=\"row_heading level0 row6\" >Fare</th>\n",
       "      <td id=\"T_7fc01_row6_col0\" class=\"data row6 col0\" >0.021501</td>\n",
       "      <td id=\"T_7fc01_row6_col1\" class=\"data row6 col1\" >0.116995</td>\n",
       "      <td id=\"T_7fc01_row6_col2\" class=\"data row6 col2\" >-0.291042</td>\n",
       "      <td id=\"T_7fc01_row6_col3\" class=\"data row6 col3\" >-0.120752</td>\n",
       "      <td id=\"T_7fc01_row6_col4\" class=\"data row6 col4\" >0.298478</td>\n",
       "      <td id=\"T_7fc01_row6_col5\" class=\"data row6 col5\" >0.365063</td>\n",
       "      <td id=\"T_7fc01_row6_col6\" class=\"data row6 col6\" >1.000000</td>\n",
       "    </tr>\n",
       "  </tbody>\n",
       "</table>\n"
      ],
      "text/plain": [
       "<pandas.io.formats.style.Styler at 0x22c03737400>"
      ]
     },
     "execution_count": 40,
     "metadata": {},
     "output_type": "execute_result"
    }
   ],
   "source": [
    "corr.style.background_gradient (cmap = 'coolwarm')"
   ]
  },
  {
   "cell_type": "markdown",
   "id": "9249985e",
   "metadata": {},
   "source": [
    "Matriz de correlación para determinar las relaciones de las variables en los modelos."
   ]
  },
  {
   "cell_type": "code",
   "execution_count": 41,
   "id": "7aa260b0",
   "metadata": {},
   "outputs": [],
   "source": [
    "from sklearn.linear_model import LinearRegression"
   ]
  },
  {
   "cell_type": "code",
   "execution_count": 42,
   "id": "58c661b7",
   "metadata": {},
   "outputs": [],
   "source": [
    "dataRegresion = dataRegresion.dropna()"
   ]
  },
  {
   "cell_type": "markdown",
   "id": "55bc6111",
   "metadata": {},
   "source": [
    "##### Modelo de Regresión Lineal para Age"
   ]
  },
  {
   "cell_type": "code",
   "execution_count": 43,
   "id": "6f685568",
   "metadata": {},
   "outputs": [
    {
     "data": {
      "text/html": [
       "<style>#sk-container-id-1 {color: black;background-color: white;}#sk-container-id-1 pre{padding: 0;}#sk-container-id-1 div.sk-toggleable {background-color: white;}#sk-container-id-1 label.sk-toggleable__label {cursor: pointer;display: block;width: 100%;margin-bottom: 0;padding: 0.3em;box-sizing: border-box;text-align: center;}#sk-container-id-1 label.sk-toggleable__label-arrow:before {content: \"▸\";float: left;margin-right: 0.25em;color: #696969;}#sk-container-id-1 label.sk-toggleable__label-arrow:hover:before {color: black;}#sk-container-id-1 div.sk-estimator:hover label.sk-toggleable__label-arrow:before {color: black;}#sk-container-id-1 div.sk-toggleable__content {max-height: 0;max-width: 0;overflow: hidden;text-align: left;background-color: #f0f8ff;}#sk-container-id-1 div.sk-toggleable__content pre {margin: 0.2em;color: black;border-radius: 0.25em;background-color: #f0f8ff;}#sk-container-id-1 input.sk-toggleable__control:checked~div.sk-toggleable__content {max-height: 200px;max-width: 100%;overflow: auto;}#sk-container-id-1 input.sk-toggleable__control:checked~label.sk-toggleable__label-arrow:before {content: \"▾\";}#sk-container-id-1 div.sk-estimator input.sk-toggleable__control:checked~label.sk-toggleable__label {background-color: #d4ebff;}#sk-container-id-1 div.sk-label input.sk-toggleable__control:checked~label.sk-toggleable__label {background-color: #d4ebff;}#sk-container-id-1 input.sk-hidden--visually {border: 0;clip: rect(1px 1px 1px 1px);clip: rect(1px, 1px, 1px, 1px);height: 1px;margin: -1px;overflow: hidden;padding: 0;position: absolute;width: 1px;}#sk-container-id-1 div.sk-estimator {font-family: monospace;background-color: #f0f8ff;border: 1px dotted black;border-radius: 0.25em;box-sizing: border-box;margin-bottom: 0.5em;}#sk-container-id-1 div.sk-estimator:hover {background-color: #d4ebff;}#sk-container-id-1 div.sk-parallel-item::after {content: \"\";width: 100%;border-bottom: 1px solid gray;flex-grow: 1;}#sk-container-id-1 div.sk-label:hover label.sk-toggleable__label {background-color: #d4ebff;}#sk-container-id-1 div.sk-serial::before {content: \"\";position: absolute;border-left: 1px solid gray;box-sizing: border-box;top: 0;bottom: 0;left: 50%;z-index: 0;}#sk-container-id-1 div.sk-serial {display: flex;flex-direction: column;align-items: center;background-color: white;padding-right: 0.2em;padding-left: 0.2em;position: relative;}#sk-container-id-1 div.sk-item {position: relative;z-index: 1;}#sk-container-id-1 div.sk-parallel {display: flex;align-items: stretch;justify-content: center;background-color: white;position: relative;}#sk-container-id-1 div.sk-item::before, #sk-container-id-1 div.sk-parallel-item::before {content: \"\";position: absolute;border-left: 1px solid gray;box-sizing: border-box;top: 0;bottom: 0;left: 50%;z-index: -1;}#sk-container-id-1 div.sk-parallel-item {display: flex;flex-direction: column;z-index: 1;position: relative;background-color: white;}#sk-container-id-1 div.sk-parallel-item:first-child::after {align-self: flex-end;width: 50%;}#sk-container-id-1 div.sk-parallel-item:last-child::after {align-self: flex-start;width: 50%;}#sk-container-id-1 div.sk-parallel-item:only-child::after {width: 0;}#sk-container-id-1 div.sk-dashed-wrapped {border: 1px dashed gray;margin: 0 0.4em 0.5em 0.4em;box-sizing: border-box;padding-bottom: 0.4em;background-color: white;}#sk-container-id-1 div.sk-label label {font-family: monospace;font-weight: bold;display: inline-block;line-height: 1.2em;}#sk-container-id-1 div.sk-label-container {text-align: center;}#sk-container-id-1 div.sk-container {/* jupyter's `normalize.less` sets `[hidden] { display: none; }` but bootstrap.min.css set `[hidden] { display: none !important; }` so we also need the `!important` here to be able to override the default hidden behavior on the sphinx rendered scikit-learn.org. See: https://github.com/scikit-learn/scikit-learn/issues/21755 */display: inline-block !important;position: relative;}#sk-container-id-1 div.sk-text-repr-fallback {display: none;}</style><div id=\"sk-container-id-1\" class=\"sk-top-container\"><div class=\"sk-text-repr-fallback\"><pre>LinearRegression()</pre><b>In a Jupyter environment, please rerun this cell to show the HTML representation or trust the notebook. <br />On GitHub, the HTML representation is unable to render, please try loading this page with nbviewer.org.</b></div><div class=\"sk-container\" hidden><div class=\"sk-item\"><div class=\"sk-estimator sk-toggleable\"><input class=\"sk-toggleable__control sk-hidden--visually\" id=\"sk-estimator-id-1\" type=\"checkbox\" checked><label for=\"sk-estimator-id-1\" class=\"sk-toggleable__label sk-toggleable__label-arrow\">LinearRegression</label><div class=\"sk-toggleable__content\"><pre>LinearRegression()</pre></div></div></div></div></div>"
      ],
      "text/plain": [
       "LinearRegression()"
      ]
     },
     "execution_count": 43,
     "metadata": {},
     "output_type": "execute_result"
    }
   ],
   "source": [
    "lm = LinearRegression()\n",
    "lm = lm.fit(dataRegresion[['Pclass']], dataRegresion['Age'])\n",
    "lm"
   ]
  },
  {
   "cell_type": "code",
   "execution_count": 44,
   "id": "a7316899",
   "metadata": {},
   "outputs": [],
   "source": [
    "dataRegresion['Age_lm'] = lm.predict(dataRegresion[['Pclass']])"
   ]
  },
  {
   "cell_type": "code",
   "execution_count": 45,
   "id": "7ee085e0",
   "metadata": {},
   "outputs": [
    {
     "name": "stdout",
     "output_type": "stream",
     "text": [
      "Weight avg without prediction: 35.6\n"
     ]
    },
    {
     "name": "stderr",
     "output_type": "stream",
     "text": [
      "C:\\Users\\yanet\\AppData\\Local\\Temp\\ipykernel_2448\\2854793466.py:2: UserWarning: \n",
      "\n",
      "`distplot` is a deprecated function and will be removed in seaborn v0.14.0.\n",
      "\n",
      "Please adapt your code to use either `displot` (a figure-level function with\n",
      "similar flexibility) or `histplot` (an axes-level function for histograms).\n",
      "\n",
      "For a guide to updating your code to use the new functions, please see\n",
      "https://gist.github.com/mwaskom/de44147ed2974457ad6372750bbe5751\n",
      "\n",
      "  sns.distplot(dataRegresion['Age'])\n"
     ]
    },
    {
     "data": {
      "text/plain": [
       "<AxesSubplot: xlabel='Age', ylabel='Density'>"
      ]
     },
     "execution_count": 45,
     "metadata": {},
     "output_type": "execute_result"
    },
    {
     "data": {
      "image/png": "[encoded data removed]",
      "text/plain": [
       "<Figure size 640x480 with 1 Axes>"
      ]
     },
     "metadata": {},
     "output_type": "display_data"
    }
   ],
   "source": [
    "print('Weight avg without prediction:', round(dataRegresion['Age'].mean(),2))\n",
    "sns.distplot(dataRegresion['Age'])"
   ]
  },
  {
   "cell_type": "code",
   "execution_count": 46,
   "id": "a7900270",
   "metadata": {},
   "outputs": [],
   "source": [
    "import matplotlib.pyplot as plt"
   ]
  },
  {
   "cell_type": "code",
   "execution_count": 47,
   "id": "7b981ed8",
   "metadata": {},
   "outputs": [
    {
     "name": "stdout",
     "output_type": "stream",
     "text": [
      "Weight avg after prediction: 35.6\n",
      "y_hat = 43.82 + -6.9x\n"
     ]
    },
    {
     "data": {
      "image/png": "[encoded data removed]",
      "text/plain": [
       "<Figure size 640x480 with 1 Axes>"
      ]
     },
     "metadata": {},
     "output_type": "display_data"
    },
    {
     "name": "stderr",
     "output_type": "stream",
     "text": [
      "C:\\Users\\yanet\\AppData\\Local\\Temp\\ipykernel_2448\\57067783.py:7: UserWarning: \n",
      "\n",
      "`distplot` is a deprecated function and will be removed in seaborn v0.14.0.\n",
      "\n",
      "Please adapt your code to use either `displot` (a figure-level function with\n",
      "similar flexibility) or `histplot` (an axes-level function for histograms).\n",
      "\n",
      "For a guide to updating your code to use the new functions, please see\n",
      "https://gist.github.com/mwaskom/de44147ed2974457ad6372750bbe5751\n",
      "\n",
      "  sns.distplot(dataRegresion['Age_lm'])\n"
     ]
    },
    {
     "data": {
      "image/png": "[encoded data removed]",
      "text/plain": [
       "<Figure size 640x480 with 1 Axes>"
      ]
     },
     "metadata": {},
     "output_type": "display_data"
    }
   ],
   "source": [
    "print('Weight avg after prediction:', round(dataRegresion['Age_lm'].mean(),2))\n",
    "print('y_hat = ', round(lm.intercept_,2), ' + ', round(lm.coef_[0],2), 'x', sep = '')\n",
    "sns.scatterplot(x = dataRegresion['Pclass'], y = dataRegresion['Age'])\n",
    "sns.lineplot(x = dataRegresion['Pclass'], y = lm.intercept_ + (lm.coef_ * dataRegresion['Pclass']))\n",
    "plt.ylabel('Age')\n",
    "plt.show()\n",
    "sns.distplot(dataRegresion['Age_lm'])\n",
    "plt.show()"
   ]
  },
  {
   "cell_type": "markdown",
   "id": "9f5d1a9f",
   "metadata": {},
   "source": [
    "##### Modelo de regresión lineal para Fare"
   ]
  },
  {
   "cell_type": "code",
   "execution_count": 48,
   "id": "4555c1c7",
   "metadata": {},
   "outputs": [
    {
     "data": {
      "text/html": [
       "<style>#sk-container-id-2 {color: black;background-color: white;}#sk-container-id-2 pre{padding: 0;}#sk-container-id-2 div.sk-toggleable {background-color: white;}#sk-container-id-2 label.sk-toggleable__label {cursor: pointer;display: block;width: 100%;margin-bottom: 0;padding: 0.3em;box-sizing: border-box;text-align: center;}#sk-container-id-2 label.sk-toggleable__label-arrow:before {content: \"▸\";float: left;margin-right: 0.25em;color: #696969;}#sk-container-id-2 label.sk-toggleable__label-arrow:hover:before {color: black;}#sk-container-id-2 div.sk-estimator:hover label.sk-toggleable__label-arrow:before {color: black;}#sk-container-id-2 div.sk-toggleable__content {max-height: 0;max-width: 0;overflow: hidden;text-align: left;background-color: #f0f8ff;}#sk-container-id-2 div.sk-toggleable__content pre {margin: 0.2em;color: black;border-radius: 0.25em;background-color: #f0f8ff;}#sk-container-id-2 input.sk-toggleable__control:checked~div.sk-toggleable__content {max-height: 200px;max-width: 100%;overflow: auto;}#sk-container-id-2 input.sk-toggleable__control:checked~label.sk-toggleable__label-arrow:before {content: \"▾\";}#sk-container-id-2 div.sk-estimator input.sk-toggleable__control:checked~label.sk-toggleable__label {background-color: #d4ebff;}#sk-container-id-2 div.sk-label input.sk-toggleable__control:checked~label.sk-toggleable__label {background-color: #d4ebff;}#sk-container-id-2 input.sk-hidden--visually {border: 0;clip: rect(1px 1px 1px 1px);clip: rect(1px, 1px, 1px, 1px);height: 1px;margin: -1px;overflow: hidden;padding: 0;position: absolute;width: 1px;}#sk-container-id-2 div.sk-estimator {font-family: monospace;background-color: #f0f8ff;border: 1px dotted black;border-radius: 0.25em;box-sizing: border-box;margin-bottom: 0.5em;}#sk-container-id-2 div.sk-estimator:hover {background-color: #d4ebff;}#sk-container-id-2 div.sk-parallel-item::after {content: \"\";width: 100%;border-bottom: 1px solid gray;flex-grow: 1;}#sk-container-id-2 div.sk-label:hover label.sk-toggleable__label {background-color: #d4ebff;}#sk-container-id-2 div.sk-serial::before {content: \"\";position: absolute;border-left: 1px solid gray;box-sizing: border-box;top: 0;bottom: 0;left: 50%;z-index: 0;}#sk-container-id-2 div.sk-serial {display: flex;flex-direction: column;align-items: center;background-color: white;padding-right: 0.2em;padding-left: 0.2em;position: relative;}#sk-container-id-2 div.sk-item {position: relative;z-index: 1;}#sk-container-id-2 div.sk-parallel {display: flex;align-items: stretch;justify-content: center;background-color: white;position: relative;}#sk-container-id-2 div.sk-item::before, #sk-container-id-2 div.sk-parallel-item::before {content: \"\";position: absolute;border-left: 1px solid gray;box-sizing: border-box;top: 0;bottom: 0;left: 50%;z-index: -1;}#sk-container-id-2 div.sk-parallel-item {display: flex;flex-direction: column;z-index: 1;position: relative;background-color: white;}#sk-container-id-2 div.sk-parallel-item:first-child::after {align-self: flex-end;width: 50%;}#sk-container-id-2 div.sk-parallel-item:last-child::after {align-self: flex-start;width: 50%;}#sk-container-id-2 div.sk-parallel-item:only-child::after {width: 0;}#sk-container-id-2 div.sk-dashed-wrapped {border: 1px dashed gray;margin: 0 0.4em 0.5em 0.4em;box-sizing: border-box;padding-bottom: 0.4em;background-color: white;}#sk-container-id-2 div.sk-label label {font-family: monospace;font-weight: bold;display: inline-block;line-height: 1.2em;}#sk-container-id-2 div.sk-label-container {text-align: center;}#sk-container-id-2 div.sk-container {/* jupyter's `normalize.less` sets `[hidden] { display: none; }` but bootstrap.min.css set `[hidden] { display: none !important; }` so we also need the `!important` here to be able to override the default hidden behavior on the sphinx rendered scikit-learn.org. See: https://github.com/scikit-learn/scikit-learn/issues/21755 */display: inline-block !important;position: relative;}#sk-container-id-2 div.sk-text-repr-fallback {display: none;}</style><div id=\"sk-container-id-2\" class=\"sk-top-container\"><div class=\"sk-text-repr-fallback\"><pre>LinearRegression()</pre><b>In a Jupyter environment, please rerun this cell to show the HTML representation or trust the notebook. <br />On GitHub, the HTML representation is unable to render, please try loading this page with nbviewer.org.</b></div><div class=\"sk-container\" hidden><div class=\"sk-item\"><div class=\"sk-estimator sk-toggleable\"><input class=\"sk-toggleable__control sk-hidden--visually\" id=\"sk-estimator-id-2\" type=\"checkbox\" checked><label for=\"sk-estimator-id-2\" class=\"sk-toggleable__label sk-toggleable__label-arrow\">LinearRegression</label><div class=\"sk-toggleable__content\"><pre>LinearRegression()</pre></div></div></div></div></div>"
      ],
      "text/plain": [
       "LinearRegression()"
      ]
     },
     "execution_count": 48,
     "metadata": {},
     "output_type": "execute_result"
    }
   ],
   "source": [
    "lm = LinearRegression()\n",
    "lm = lm.fit(dataRegresion[['Age']], dataRegresion['Fare'])\n",
    "lm"
   ]
  },
  {
   "cell_type": "code",
   "execution_count": 49,
   "id": "6df66038",
   "metadata": {},
   "outputs": [],
   "source": [
    "dataRegresion['Fare_lm'] = lm.predict(dataRegresion[['Age']])"
   ]
  },
  {
   "cell_type": "code",
   "execution_count": 50,
   "id": "2bd96402",
   "metadata": {},
   "outputs": [
    {
     "name": "stdout",
     "output_type": "stream",
     "text": [
      "Weight avg without prediction: 78.96\n"
     ]
    },
    {
     "name": "stderr",
     "output_type": "stream",
     "text": [
      "C:\\Users\\yanet\\AppData\\Local\\Temp\\ipykernel_2448\\2612356923.py:2: UserWarning: \n",
      "\n",
      "`distplot` is a deprecated function and will be removed in seaborn v0.14.0.\n",
      "\n",
      "Please adapt your code to use either `displot` (a figure-level function with\n",
      "similar flexibility) or `histplot` (an axes-level function for histograms).\n",
      "\n",
      "For a guide to updating your code to use the new functions, please see\n",
      "https://gist.github.com/mwaskom/de44147ed2974457ad6372750bbe5751\n",
      "\n",
      "  sns.distplot(dataRegresion['Fare'])\n"
     ]
    },
    {
     "data": {
      "text/plain": [
       "<AxesSubplot: xlabel='Fare', ylabel='Density'>"
      ]
     },
     "execution_count": 50,
     "metadata": {},
     "output_type": "execute_result"
    },
    {
     "data": {
      "image/png": "[encoded data removed]",
      "text/plain": [
       "<Figure size 640x480 with 1 Axes>"
      ]
     },
     "metadata": {},
     "output_type": "display_data"
    }
   ],
   "source": [
    "print('Weight avg without prediction:', round(dataRegresion['Fare'].mean(),2))\n",
    "sns.distplot(dataRegresion['Fare'])"
   ]
  },
  {
   "cell_type": "code",
   "execution_count": 51,
   "id": "cc55efb4",
   "metadata": {},
   "outputs": [
    {
     "name": "stdout",
     "output_type": "stream",
     "text": [
      "Weight avg after prediction: 78.96\n",
      "y_hat = 101.24 + -0.63x\n"
     ]
    },
    {
     "data": {
      "image/png": "[encoded data removed]",
      "text/plain": [
       "<Figure size 640x480 with 1 Axes>"
      ]
     },
     "metadata": {},
     "output_type": "display_data"
    },
    {
     "name": "stderr",
     "output_type": "stream",
     "text": [
      "C:\\Users\\yanet\\AppData\\Local\\Temp\\ipykernel_2448\\2027486139.py:7: UserWarning: \n",
      "\n",
      "`distplot` is a deprecated function and will be removed in seaborn v0.14.0.\n",
      "\n",
      "Please adapt your code to use either `displot` (a figure-level function with\n",
      "similar flexibility) or `histplot` (an axes-level function for histograms).\n",
      "\n",
      "For a guide to updating your code to use the new functions, please see\n",
      "https://gist.github.com/mwaskom/de44147ed2974457ad6372750bbe5751\n",
      "\n",
      "  sns.distplot(dataRegresion['Fare_lm'])\n"
     ]
    },
    {
     "data": {
      "image/png": "[encoded data removed]",
      "text/plain": [
       "<Figure size 640x480 with 1 Axes>"
      ]
     },
     "metadata": {},
     "output_type": "display_data"
    }
   ],
   "source": [
    "print('Weight avg after prediction:', round(dataRegresion['Fare_lm'].mean(),2))\n",
    "print('y_hat = ', round(lm.intercept_,2), ' + ', round(lm.coef_[0],2), 'x', sep = '')\n",
    "sns.scatterplot(x = dataRegresion['Age'], y = dataRegresion['Fare'])\n",
    "sns.lineplot(x = dataRegresion['Age'], y = lm.intercept_ + (lm.coef_ * dataRegresion['Age']))\n",
    "plt.ylabel('Fare')\n",
    "plt.show()\n",
    "sns.distplot(dataRegresion['Fare_lm'])\n",
    "plt.show()"
   ]
  },
  {
   "cell_type": "markdown",
   "id": "84c972ac",
   "metadata": {},
   "source": [
    "##### Modelo de regresión lineal para SibSp"
   ]
  },
  {
   "cell_type": "code",
   "execution_count": 52,
   "id": "07d4e3b6",
   "metadata": {},
   "outputs": [
    {
     "data": {
      "text/html": [
       "<style>#sk-container-id-3 {color: black;background-color: white;}#sk-container-id-3 pre{padding: 0;}#sk-container-id-3 div.sk-toggleable {background-color: white;}#sk-container-id-3 label.sk-toggleable__label {cursor: pointer;display: block;width: 100%;margin-bottom: 0;padding: 0.3em;box-sizing: border-box;text-align: center;}#sk-container-id-3 label.sk-toggleable__label-arrow:before {content: \"▸\";float: left;margin-right: 0.25em;color: #696969;}#sk-container-id-3 label.sk-toggleable__label-arrow:hover:before {color: black;}#sk-container-id-3 div.sk-estimator:hover label.sk-toggleable__label-arrow:before {color: black;}#sk-container-id-3 div.sk-toggleable__content {max-height: 0;max-width: 0;overflow: hidden;text-align: left;background-color: #f0f8ff;}#sk-container-id-3 div.sk-toggleable__content pre {margin: 0.2em;color: black;border-radius: 0.25em;background-color: #f0f8ff;}#sk-container-id-3 input.sk-toggleable__control:checked~div.sk-toggleable__content {max-height: 200px;max-width: 100%;overflow: auto;}#sk-container-id-3 input.sk-toggleable__control:checked~label.sk-toggleable__label-arrow:before {content: \"▾\";}#sk-container-id-3 div.sk-estimator input.sk-toggleable__control:checked~label.sk-toggleable__label {background-color: #d4ebff;}#sk-container-id-3 div.sk-label input.sk-toggleable__control:checked~label.sk-toggleable__label {background-color: #d4ebff;}#sk-container-id-3 input.sk-hidden--visually {border: 0;clip: rect(1px 1px 1px 1px);clip: rect(1px, 1px, 1px, 1px);height: 1px;margin: -1px;overflow: hidden;padding: 0;position: absolute;width: 1px;}#sk-container-id-3 div.sk-estimator {font-family: monospace;background-color: #f0f8ff;border: 1px dotted black;border-radius: 0.25em;box-sizing: border-box;margin-bottom: 0.5em;}#sk-container-id-3 div.sk-estimator:hover {background-color: #d4ebff;}#sk-container-id-3 div.sk-parallel-item::after {content: \"\";width: 100%;border-bottom: 1px solid gray;flex-grow: 1;}#sk-container-id-3 div.sk-label:hover label.sk-toggleable__label {background-color: #d4ebff;}#sk-container-id-3 div.sk-serial::before {content: \"\";position: absolute;border-left: 1px solid gray;box-sizing: border-box;top: 0;bottom: 0;left: 50%;z-index: 0;}#sk-container-id-3 div.sk-serial {display: flex;flex-direction: column;align-items: center;background-color: white;padding-right: 0.2em;padding-left: 0.2em;position: relative;}#sk-container-id-3 div.sk-item {position: relative;z-index: 1;}#sk-container-id-3 div.sk-parallel {display: flex;align-items: stretch;justify-content: center;background-color: white;position: relative;}#sk-container-id-3 div.sk-item::before, #sk-container-id-3 div.sk-parallel-item::before {content: \"\";position: absolute;border-left: 1px solid gray;box-sizing: border-box;top: 0;bottom: 0;left: 50%;z-index: -1;}#sk-container-id-3 div.sk-parallel-item {display: flex;flex-direction: column;z-index: 1;position: relative;background-color: white;}#sk-container-id-3 div.sk-parallel-item:first-child::after {align-self: flex-end;width: 50%;}#sk-container-id-3 div.sk-parallel-item:last-child::after {align-self: flex-start;width: 50%;}#sk-container-id-3 div.sk-parallel-item:only-child::after {width: 0;}#sk-container-id-3 div.sk-dashed-wrapped {border: 1px dashed gray;margin: 0 0.4em 0.5em 0.4em;box-sizing: border-box;padding-bottom: 0.4em;background-color: white;}#sk-container-id-3 div.sk-label label {font-family: monospace;font-weight: bold;display: inline-block;line-height: 1.2em;}#sk-container-id-3 div.sk-label-container {text-align: center;}#sk-container-id-3 div.sk-container {/* jupyter's `normalize.less` sets `[hidden] { display: none; }` but bootstrap.min.css set `[hidden] { display: none !important; }` so we also need the `!important` here to be able to override the default hidden behavior on the sphinx rendered scikit-learn.org. See: https://github.com/scikit-learn/scikit-learn/issues/21755 */display: inline-block !important;position: relative;}#sk-container-id-3 div.sk-text-repr-fallback {display: none;}</style><div id=\"sk-container-id-3\" class=\"sk-top-container\"><div class=\"sk-text-repr-fallback\"><pre>LinearRegression()</pre><b>In a Jupyter environment, please rerun this cell to show the HTML representation or trust the notebook. <br />On GitHub, the HTML representation is unable to render, please try loading this page with nbviewer.org.</b></div><div class=\"sk-container\" hidden><div class=\"sk-item\"><div class=\"sk-estimator sk-toggleable\"><input class=\"sk-toggleable__control sk-hidden--visually\" id=\"sk-estimator-id-3\" type=\"checkbox\" checked><label for=\"sk-estimator-id-3\" class=\"sk-toggleable__label sk-toggleable__label-arrow\">LinearRegression</label><div class=\"sk-toggleable__content\"><pre>LinearRegression()</pre></div></div></div></div></div>"
      ],
      "text/plain": [
       "LinearRegression()"
      ]
     },
     "execution_count": 52,
     "metadata": {},
     "output_type": "execute_result"
    }
   ],
   "source": [
    "lm = LinearRegression()\n",
    "lm = lm.fit(dataRegresion[['Fare']], dataRegresion['SibSp'])\n",
    "lm"
   ]
  },
  {
   "cell_type": "code",
   "execution_count": 53,
   "id": "760e6aff",
   "metadata": {},
   "outputs": [
    {
     "name": "stderr",
     "output_type": "stream",
     "text": [
      "C:\\Users\\yanet\\AppData\\Local\\Programs\\Python\\Python310\\lib\\site-packages\\sklearn\\base.py:493: FutureWarning: The feature names should match those that were passed during fit. Starting version 1.2, an error will be raised.\n",
      "Feature names unseen at fit time:\n",
      "- SibSp\n",
      "Feature names seen at fit time, yet now missing:\n",
      "- Fare\n",
      "\n",
      "  warnings.warn(message, FutureWarning)\n"
     ]
    }
   ],
   "source": [
    "dataRegresion['SibSp_lm'] = lm.predict(dataRegresion[['SibSp']])"
   ]
  },
  {
   "cell_type": "code",
   "execution_count": 54,
   "id": "51b5bdbc",
   "metadata": {},
   "outputs": [
    {
     "name": "stdout",
     "output_type": "stream",
     "text": [
      "Weight avg without prediction: 0.45\n"
     ]
    },
    {
     "name": "stderr",
     "output_type": "stream",
     "text": [
      "C:\\Users\\yanet\\AppData\\Local\\Temp\\ipykernel_2448\\2810548822.py:2: UserWarning: \n",
      "\n",
      "`distplot` is a deprecated function and will be removed in seaborn v0.14.0.\n",
      "\n",
      "Please adapt your code to use either `displot` (a figure-level function with\n",
      "similar flexibility) or `histplot` (an axes-level function for histograms).\n",
      "\n",
      "For a guide to updating your code to use the new functions, please see\n",
      "https://gist.github.com/mwaskom/de44147ed2974457ad6372750bbe5751\n",
      "\n",
      "  sns.distplot(dataRegresion['SibSp'])\n"
     ]
    },
    {
     "data": {
      "text/plain": [
       "<AxesSubplot: xlabel='SibSp', ylabel='Density'>"
      ]
     },
     "execution_count": 54,
     "metadata": {},
     "output_type": "execute_result"
    },
    {
     "data": {
      "image/png": "[encoded data removed]",
      "text/plain": [
       "<Figure size 640x480 with 1 Axes>"
      ]
     },
     "metadata": {},
     "output_type": "display_data"
    }
   ],
   "source": [
    "print('Weight avg without prediction:', round(dataRegresion['SibSp'].mean(),2))\n",
    "sns.distplot(dataRegresion['SibSp'])"
   ]
  },
  {
   "cell_type": "code",
   "execution_count": 55,
   "id": "ab03c1bc",
   "metadata": {},
   "outputs": [
    {
     "name": "stdout",
     "output_type": "stream",
     "text": [
      "Weight avg after prediction: 0.25\n",
      "y_hat = 0.25 + 0.0x\n"
     ]
    },
    {
     "data": {
      "image/png": "[encoded data removed]",
      "text/plain": [
       "<Figure size 640x480 with 1 Axes>"
      ]
     },
     "metadata": {},
     "output_type": "display_data"
    },
    {
     "name": "stderr",
     "output_type": "stream",
     "text": [
      "C:\\Users\\yanet\\AppData\\Local\\Temp\\ipykernel_2448\\4218589052.py:7: UserWarning: \n",
      "\n",
      "`distplot` is a deprecated function and will be removed in seaborn v0.14.0.\n",
      "\n",
      "Please adapt your code to use either `displot` (a figure-level function with\n",
      "similar flexibility) or `histplot` (an axes-level function for histograms).\n",
      "\n",
      "For a guide to updating your code to use the new functions, please see\n",
      "https://gist.github.com/mwaskom/de44147ed2974457ad6372750bbe5751\n",
      "\n",
      "  sns.distplot(dataRegresion['SibSp_lm'])\n"
     ]
    },
    {
     "data": {
      "image/png": "[encoded data removed]",
      "text/plain": [
       "<Figure size 640x480 with 1 Axes>"
      ]
     },
     "metadata": {},
     "output_type": "display_data"
    }
   ],
   "source": [
    "print('Weight avg after prediction:', round(dataRegresion['SibSp_lm'].mean(),2))\n",
    "print('y_hat = ', round(lm.intercept_,2), ' + ', round(lm.coef_[0],2), 'x', sep = '')\n",
    "sns.scatterplot(x = dataRegresion['Fare'], y = dataRegresion['SibSp'])\n",
    "sns.lineplot(x = dataRegresion['Fare'], y = lm.intercept_ + (lm.coef_ * dataRegresion['Fare']))\n",
    "plt.ylabel('SibSp')\n",
    "plt.show()\n",
    "sns.distplot(dataRegresion['SibSp_lm'])\n",
    "plt.show()"
   ]
  },
  {
   "cell_type": "markdown",
   "id": "55af6879",
   "metadata": {},
   "source": [
    "##### Modelo de regresión lineal para Parch"
   ]
  },
  {
   "cell_type": "code",
   "execution_count": 56,
   "id": "55ef2510",
   "metadata": {},
   "outputs": [
    {
     "data": {
      "text/html": [
       "<style>#sk-container-id-4 {color: black;background-color: white;}#sk-container-id-4 pre{padding: 0;}#sk-container-id-4 div.sk-toggleable {background-color: white;}#sk-container-id-4 label.sk-toggleable__label {cursor: pointer;display: block;width: 100%;margin-bottom: 0;padding: 0.3em;box-sizing: border-box;text-align: center;}#sk-container-id-4 label.sk-toggleable__label-arrow:before {content: \"▸\";float: left;margin-right: 0.25em;color: #696969;}#sk-container-id-4 label.sk-toggleable__label-arrow:hover:before {color: black;}#sk-container-id-4 div.sk-estimator:hover label.sk-toggleable__label-arrow:before {color: black;}#sk-container-id-4 div.sk-toggleable__content {max-height: 0;max-width: 0;overflow: hidden;text-align: left;background-color: #f0f8ff;}#sk-container-id-4 div.sk-toggleable__content pre {margin: 0.2em;color: black;border-radius: 0.25em;background-color: #f0f8ff;}#sk-container-id-4 input.sk-toggleable__control:checked~div.sk-toggleable__content {max-height: 200px;max-width: 100%;overflow: auto;}#sk-container-id-4 input.sk-toggleable__control:checked~label.sk-toggleable__label-arrow:before {content: \"▾\";}#sk-container-id-4 div.sk-estimator input.sk-toggleable__control:checked~label.sk-toggleable__label {background-color: #d4ebff;}#sk-container-id-4 div.sk-label input.sk-toggleable__control:checked~label.sk-toggleable__label {background-color: #d4ebff;}#sk-container-id-4 input.sk-hidden--visually {border: 0;clip: rect(1px 1px 1px 1px);clip: rect(1px, 1px, 1px, 1px);height: 1px;margin: -1px;overflow: hidden;padding: 0;position: absolute;width: 1px;}#sk-container-id-4 div.sk-estimator {font-family: monospace;background-color: #f0f8ff;border: 1px dotted black;border-radius: 0.25em;box-sizing: border-box;margin-bottom: 0.5em;}#sk-container-id-4 div.sk-estimator:hover {background-color: #d4ebff;}#sk-container-id-4 div.sk-parallel-item::after {content: \"\";width: 100%;border-bottom: 1px solid gray;flex-grow: 1;}#sk-container-id-4 div.sk-label:hover label.sk-toggleable__label {background-color: #d4ebff;}#sk-container-id-4 div.sk-serial::before {content: \"\";position: absolute;border-left: 1px solid gray;box-sizing: border-box;top: 0;bottom: 0;left: 50%;z-index: 0;}#sk-container-id-4 div.sk-serial {display: flex;flex-direction: column;align-items: center;background-color: white;padding-right: 0.2em;padding-left: 0.2em;position: relative;}#sk-container-id-4 div.sk-item {position: relative;z-index: 1;}#sk-container-id-4 div.sk-parallel {display: flex;align-items: stretch;justify-content: center;background-color: white;position: relative;}#sk-container-id-4 div.sk-item::before, #sk-container-id-4 div.sk-parallel-item::before {content: \"\";position: absolute;border-left: 1px solid gray;box-sizing: border-box;top: 0;bottom: 0;left: 50%;z-index: -1;}#sk-container-id-4 div.sk-parallel-item {display: flex;flex-direction: column;z-index: 1;position: relative;background-color: white;}#sk-container-id-4 div.sk-parallel-item:first-child::after {align-self: flex-end;width: 50%;}#sk-container-id-4 div.sk-parallel-item:last-child::after {align-self: flex-start;width: 50%;}#sk-container-id-4 div.sk-parallel-item:only-child::after {width: 0;}#sk-container-id-4 div.sk-dashed-wrapped {border: 1px dashed gray;margin: 0 0.4em 0.5em 0.4em;box-sizing: border-box;padding-bottom: 0.4em;background-color: white;}#sk-container-id-4 div.sk-label label {font-family: monospace;font-weight: bold;display: inline-block;line-height: 1.2em;}#sk-container-id-4 div.sk-label-container {text-align: center;}#sk-container-id-4 div.sk-container {/* jupyter's `normalize.less` sets `[hidden] { display: none; }` but bootstrap.min.css set `[hidden] { display: none !important; }` so we also need the `!important` here to be able to override the default hidden behavior on the sphinx rendered scikit-learn.org. See: https://github.com/scikit-learn/scikit-learn/issues/21755 */display: inline-block !important;position: relative;}#sk-container-id-4 div.sk-text-repr-fallback {display: none;}</style><div id=\"sk-container-id-4\" class=\"sk-top-container\"><div class=\"sk-text-repr-fallback\"><pre>LinearRegression()</pre><b>In a Jupyter environment, please rerun this cell to show the HTML representation or trust the notebook. <br />On GitHub, the HTML representation is unable to render, please try loading this page with nbviewer.org.</b></div><div class=\"sk-container\" hidden><div class=\"sk-item\"><div class=\"sk-estimator sk-toggleable\"><input class=\"sk-toggleable__control sk-hidden--visually\" id=\"sk-estimator-id-4\" type=\"checkbox\" checked><label for=\"sk-estimator-id-4\" class=\"sk-toggleable__label sk-toggleable__label-arrow\">LinearRegression</label><div class=\"sk-toggleable__content\"><pre>LinearRegression()</pre></div></div></div></div></div>"
      ],
      "text/plain": [
       "LinearRegression()"
      ]
     },
     "execution_count": 56,
     "metadata": {},
     "output_type": "execute_result"
    }
   ],
   "source": [
    "lm = LinearRegression()\n",
    "lm = lm.fit(dataRegresion[['Fare']], dataRegresion['Parch'])\n",
    "lm"
   ]
  },
  {
   "cell_type": "code",
   "execution_count": 57,
   "id": "83d1fc73",
   "metadata": {},
   "outputs": [],
   "source": [
    "dataRegresion['Parch_lm'] = lm.predict(dataRegresion[['Fare']])"
   ]
  },
  {
   "cell_type": "code",
   "execution_count": 58,
   "id": "c6f79a8a",
   "metadata": {},
   "outputs": [
    {
     "name": "stdout",
     "output_type": "stream",
     "text": [
      "Weight avg without prediction: 0.43\n"
     ]
    },
    {
     "name": "stderr",
     "output_type": "stream",
     "text": [
      "C:\\Users\\yanet\\AppData\\Local\\Temp\\ipykernel_2448\\1664732424.py:2: UserWarning: \n",
      "\n",
      "`distplot` is a deprecated function and will be removed in seaborn v0.14.0.\n",
      "\n",
      "Please adapt your code to use either `displot` (a figure-level function with\n",
      "similar flexibility) or `histplot` (an axes-level function for histograms).\n",
      "\n",
      "For a guide to updating your code to use the new functions, please see\n",
      "https://gist.github.com/mwaskom/de44147ed2974457ad6372750bbe5751\n",
      "\n",
      "  sns.distplot(dataRegresion['Parch'])\n"
     ]
    },
    {
     "data": {
      "text/plain": [
       "<AxesSubplot: xlabel='Parch', ylabel='Density'>"
      ]
     },
     "execution_count": 58,
     "metadata": {},
     "output_type": "execute_result"
    },
    {
     "data": {
      "image/png": "[encoded data removed]",
      "text/plain": [
       "<Figure size 640x480 with 1 Axes>"
      ]
     },
     "metadata": {},
     "output_type": "display_data"
    }
   ],
   "source": [
    "print('Weight avg without prediction:', round(dataRegresion['Parch'].mean(),2))\n",
    "sns.distplot(dataRegresion['Parch'])"
   ]
  },
  {
   "cell_type": "code",
   "execution_count": 59,
   "id": "549515e0",
   "metadata": {},
   "outputs": [
    {
     "name": "stdout",
     "output_type": "stream",
     "text": [
      "Weight avg after prediction: 0.43\n",
      "y_hat = 0.15 + 0.0x\n"
     ]
    },
    {
     "data": {
      "image/png": "[encoded data removed]",
      "text/plain": [
       "<Figure size 640x480 with 1 Axes>"
      ]
     },
     "metadata": {},
     "output_type": "display_data"
    },
    {
     "name": "stderr",
     "output_type": "stream",
     "text": [
      "C:\\Users\\yanet\\AppData\\Local\\Temp\\ipykernel_2448\\3303316301.py:7: UserWarning: \n",
      "\n",
      "`distplot` is a deprecated function and will be removed in seaborn v0.14.0.\n",
      "\n",
      "Please adapt your code to use either `displot` (a figure-level function with\n",
      "similar flexibility) or `histplot` (an axes-level function for histograms).\n",
      "\n",
      "For a guide to updating your code to use the new functions, please see\n",
      "https://gist.github.com/mwaskom/de44147ed2974457ad6372750bbe5751\n",
      "\n",
      "  sns.distplot(dataRegresion['Parch_lm'])\n"
     ]
    },
    {
     "data": {
      "image/png": "[encoded data removed]",
      "text/plain": [
       "<Figure size 640x480 with 1 Axes>"
      ]
     },
     "metadata": {},
     "output_type": "display_data"
    }
   ],
   "source": [
    "print('Weight avg after prediction:', round(dataRegresion['Parch_lm'].mean(),2))\n",
    "print('y_hat = ', round(lm.intercept_,2), ' + ', round(lm.coef_[0],2), 'x', sep = '')\n",
    "sns.scatterplot(x = dataRegresion['Fare'], y = dataRegresion['Parch'])\n",
    "sns.lineplot(x = dataRegresion['Fare'], y = lm.intercept_ + (lm.coef_ * dataRegresion['Fare']))\n",
    "plt.ylabel('Parch')\n",
    "plt.show()\n",
    "sns.distplot(dataRegresion['Parch_lm'])\n",
    "plt.show()"
   ]
  },
  {
   "cell_type": "markdown",
   "id": "6d8263dd",
   "metadata": {},
   "source": [
    "#### 1.4.3.\tOutliers: Uno de los dos métodos vistos en clase (Standard deviation approach y Percentile approach)"
   ]
  },
  {
   "cell_type": "code",
   "execution_count": 60,
   "id": "a95318f5",
   "metadata": {},
   "outputs": [],
   "source": [
    "dataOut = dataRegresion #copia de la data original para esta prueba"
   ]
  },
  {
   "cell_type": "code",
   "execution_count": 61,
   "id": "8949d359",
   "metadata": {},
   "outputs": [],
   "source": [
    "dataOut = dataOut.dropna()"
   ]
  },
  {
   "cell_type": "markdown",
   "id": "ee68dcff",
   "metadata": {},
   "source": [
    "##### Standard deviation approach - Age"
   ]
  },
  {
   "cell_type": "code",
   "execution_count": 62,
   "id": "a7b935c7",
   "metadata": {},
   "outputs": [
    {
     "name": "stdout",
     "output_type": "stream",
     "text": [
      "Lower value: 6.540091199888543\n",
      "Upper value: 64.65575579464698\n"
     ]
    }
   ],
   "source": [
    "f = 2\n",
    "xl = dataOut['Age'].mean() - (dataOut['Age'].std() * f)\n",
    "xu = dataOut['Age'].mean() + (dataOut['Age'].std() * f)\n",
    "print('Lower value:', xl)\n",
    "print('Upper value:', xu)"
   ]
  },
  {
   "cell_type": "code",
   "execution_count": 63,
   "id": "8d170c9b",
   "metadata": {},
   "outputs": [
    {
     "data": {
      "text/plain": [
       "<AxesSubplot: xlabel='PassengerId', ylabel='Age'>"
      ]
     },
     "execution_count": 63,
     "metadata": {},
     "output_type": "execute_result"
    },
    {
     "data": {
      "image/png": "[encoded data removed]",
      "text/plain": [
       "<Figure size 640x480 with 1 Axes>"
      ]
     },
     "metadata": {},
     "output_type": "display_data"
    }
   ],
   "source": [
    "sns.scatterplot(x = dataOut['PassengerId'], y = dataOut['Age'])\n",
    "sns.lineplot(x = dataOut['PassengerId'], y = xl, color = 'green')\n",
    "sns.lineplot(x = dataOut['PassengerId'], y = xu, color = 'orange')"
   ]
  },
  {
   "cell_type": "code",
   "execution_count": 64,
   "id": "bdbad8f3",
   "metadata": {},
   "outputs": [
    {
     "data": {
      "text/html": [
       "<div>\n",
       "<style scoped>\n",
       "    .dataframe tbody tr th:only-of-type {\n",
       "        vertical-align: middle;\n",
       "    }\n",
       "\n",
       "    .dataframe tbody tr th {\n",
       "        vertical-align: top;\n",
       "    }\n",
       "\n",
       "    .dataframe thead th {\n",
       "        text-align: right;\n",
       "    }\n",
       "</style>\n",
       "<table border=\"1\" class=\"dataframe\">\n",
       "  <thead>\n",
       "    <tr style=\"text-align: right;\">\n",
       "      <th></th>\n",
       "      <th>Age</th>\n",
       "    </tr>\n",
       "  </thead>\n",
       "  <tbody>\n",
       "    <tr>\n",
       "      <th>count</th>\n",
       "      <td>171.000000</td>\n",
       "    </tr>\n",
       "    <tr>\n",
       "      <th>mean</th>\n",
       "      <td>35.915205</td>\n",
       "    </tr>\n",
       "    <tr>\n",
       "      <th>std</th>\n",
       "      <td>12.094729</td>\n",
       "    </tr>\n",
       "    <tr>\n",
       "      <th>min</th>\n",
       "      <td>11.000000</td>\n",
       "    </tr>\n",
       "    <tr>\n",
       "      <th>25%</th>\n",
       "      <td>27.000000</td>\n",
       "    </tr>\n",
       "    <tr>\n",
       "      <th>50%</th>\n",
       "      <td>35.000000</td>\n",
       "    </tr>\n",
       "    <tr>\n",
       "      <th>75%</th>\n",
       "      <td>45.000000</td>\n",
       "    </tr>\n",
       "    <tr>\n",
       "      <th>max</th>\n",
       "      <td>64.000000</td>\n",
       "    </tr>\n",
       "  </tbody>\n",
       "</table>\n",
       "</div>"
      ],
      "text/plain": [
       "              Age\n",
       "count  171.000000\n",
       "mean    35.915205\n",
       "std     12.094729\n",
       "min     11.000000\n",
       "25%     27.000000\n",
       "50%     35.000000\n",
       "75%     45.000000\n",
       "max     64.000000"
      ]
     },
     "execution_count": 64,
     "metadata": {},
     "output_type": "execute_result"
    }
   ],
   "source": [
    "df_sd = dataOut[(dataOut['Age']>=xl) & (dataOut['Age']<=xu)]\n",
    "\n",
    "df_sd[['Age']].describe()"
   ]
  },
  {
   "cell_type": "code",
   "execution_count": 65,
   "id": "5df6908f",
   "metadata": {},
   "outputs": [
    {
     "data": {
      "text/html": [
       "<div>\n",
       "<style scoped>\n",
       "    .dataframe tbody tr th:only-of-type {\n",
       "        vertical-align: middle;\n",
       "    }\n",
       "\n",
       "    .dataframe tbody tr th {\n",
       "        vertical-align: top;\n",
       "    }\n",
       "\n",
       "    .dataframe thead th {\n",
       "        text-align: right;\n",
       "    }\n",
       "</style>\n",
       "<table border=\"1\" class=\"dataframe\">\n",
       "  <thead>\n",
       "    <tr style=\"text-align: right;\">\n",
       "      <th></th>\n",
       "      <th>Age</th>\n",
       "      <th>Age_sd</th>\n",
       "    </tr>\n",
       "  </thead>\n",
       "  <tbody>\n",
       "    <tr>\n",
       "      <th>count</th>\n",
       "      <td>183.000000</td>\n",
       "      <td>183.000000</td>\n",
       "    </tr>\n",
       "    <tr>\n",
       "      <th>mean</th>\n",
       "      <td>35.597923</td>\n",
       "      <td>35.576827</td>\n",
       "    </tr>\n",
       "    <tr>\n",
       "      <th>std</th>\n",
       "      <td>14.528916</td>\n",
       "      <td>13.870960</td>\n",
       "    </tr>\n",
       "    <tr>\n",
       "      <th>min</th>\n",
       "      <td>0.920000</td>\n",
       "      <td>6.540091</td>\n",
       "    </tr>\n",
       "    <tr>\n",
       "      <th>25%</th>\n",
       "      <td>25.000000</td>\n",
       "      <td>25.000000</td>\n",
       "    </tr>\n",
       "    <tr>\n",
       "      <th>50%</th>\n",
       "      <td>35.000000</td>\n",
       "      <td>35.000000</td>\n",
       "    </tr>\n",
       "    <tr>\n",
       "      <th>75%</th>\n",
       "      <td>46.500000</td>\n",
       "      <td>46.500000</td>\n",
       "    </tr>\n",
       "    <tr>\n",
       "      <th>max</th>\n",
       "      <td>80.000000</td>\n",
       "      <td>64.655756</td>\n",
       "    </tr>\n",
       "  </tbody>\n",
       "</table>\n",
       "</div>"
      ],
      "text/plain": [
       "              Age      Age_sd\n",
       "count  183.000000  183.000000\n",
       "mean    35.597923   35.576827\n",
       "std     14.528916   13.870960\n",
       "min      0.920000    6.540091\n",
       "25%     25.000000   25.000000\n",
       "50%     35.000000   35.000000\n",
       "75%     46.500000   46.500000\n",
       "max     80.000000   64.655756"
      ]
     },
     "execution_count": 65,
     "metadata": {},
     "output_type": "execute_result"
    }
   ],
   "source": [
    "dataOut['Age_sd'] = np.where(\n",
    "    dataOut['Age']<xl,\n",
    "    xl,\n",
    "    np.where(\n",
    "        dataOut['Age']>xu,\n",
    "        xu,\n",
    "        dataOut['Age']\n",
    "    )\n",
    ")\n",
    "dataOut[['Age', 'Age_sd']].describe()"
   ]
  },
  {
   "cell_type": "markdown",
   "id": "f38df352",
   "metadata": {},
   "source": [
    "##### Standard deviation approach - Fare"
   ]
  },
  {
   "cell_type": "code",
   "execution_count": 66,
   "id": "88809c75",
   "metadata": {},
   "outputs": [
    {
     "name": "stdout",
     "output_type": "stream",
     "text": [
      "Lower value: -71.66964557180012\n",
      "Upper value: 229.58802728608583\n"
     ]
    }
   ],
   "source": [
    "f = 2\n",
    "xl = dataOut['Fare'].mean() - (dataOut['Fare'].std() * f)\n",
    "xu = dataOut['Fare'].mean() + (dataOut['Fare'].std() * f)\n",
    "print('Lower value:', xl)\n",
    "print('Upper value:', xu)"
   ]
  },
  {
   "cell_type": "code",
   "execution_count": 67,
   "id": "be94ea99",
   "metadata": {},
   "outputs": [
    {
     "data": {
      "text/plain": [
       "<AxesSubplot: xlabel='PassengerId', ylabel='Fare'>"
      ]
     },
     "execution_count": 67,
     "metadata": {},
     "output_type": "execute_result"
    },
    {
     "data": {
      "image/png": "[encoded data removed]",
      "text/plain": [
       "<Figure size 640x480 with 1 Axes>"
      ]
     },
     "metadata": {},
     "output_type": "display_data"
    }
   ],
   "source": [
    "sns.scatterplot(x = dataOut['PassengerId'], y = dataOut['Fare'])\n",
    "sns.lineplot(x = dataOut['PassengerId'], y = xl, color = 'green')\n",
    "sns.lineplot(x = dataOut['PassengerId'], y = xu, color = 'orange')"
   ]
  },
  {
   "cell_type": "code",
   "execution_count": 68,
   "id": "2a54e910",
   "metadata": {},
   "outputs": [
    {
     "data": {
      "text/html": [
       "<div>\n",
       "<style scoped>\n",
       "    .dataframe tbody tr th:only-of-type {\n",
       "        vertical-align: middle;\n",
       "    }\n",
       "\n",
       "    .dataframe tbody tr th {\n",
       "        vertical-align: top;\n",
       "    }\n",
       "\n",
       "    .dataframe thead th {\n",
       "        text-align: right;\n",
       "    }\n",
       "</style>\n",
       "<table border=\"1\" class=\"dataframe\">\n",
       "  <thead>\n",
       "    <tr style=\"text-align: right;\">\n",
       "      <th></th>\n",
       "      <th>Fare</th>\n",
       "    </tr>\n",
       "  </thead>\n",
       "  <tbody>\n",
       "    <tr>\n",
       "      <th>count</th>\n",
       "      <td>173.000000</td>\n",
       "    </tr>\n",
       "    <tr>\n",
       "      <th>mean</th>\n",
       "      <td>65.624751</td>\n",
       "    </tr>\n",
       "    <tr>\n",
       "      <th>std</th>\n",
       "      <td>46.153119</td>\n",
       "    </tr>\n",
       "    <tr>\n",
       "      <th>min</th>\n",
       "      <td>0.000000</td>\n",
       "    </tr>\n",
       "    <tr>\n",
       "      <th>25%</th>\n",
       "      <td>29.700000</td>\n",
       "    </tr>\n",
       "    <tr>\n",
       "      <th>50%</th>\n",
       "      <td>56.929200</td>\n",
       "    </tr>\n",
       "    <tr>\n",
       "      <th>75%</th>\n",
       "      <td>83.158300</td>\n",
       "    </tr>\n",
       "    <tr>\n",
       "      <th>max</th>\n",
       "      <td>227.525000</td>\n",
       "    </tr>\n",
       "  </tbody>\n",
       "</table>\n",
       "</div>"
      ],
      "text/plain": [
       "             Fare\n",
       "count  173.000000\n",
       "mean    65.624751\n",
       "std     46.153119\n",
       "min      0.000000\n",
       "25%     29.700000\n",
       "50%     56.929200\n",
       "75%     83.158300\n",
       "max    227.525000"
      ]
     },
     "execution_count": 68,
     "metadata": {},
     "output_type": "execute_result"
    }
   ],
   "source": [
    "df_sd = dataOut[(dataOut['Fare']>=xl) & (dataOut['Fare']<=xu)]\n",
    "\n",
    "df_sd[['Fare']].describe()"
   ]
  },
  {
   "cell_type": "code",
   "execution_count": 69,
   "id": "e4de79a4",
   "metadata": {},
   "outputs": [
    {
     "data": {
      "text/html": [
       "<div>\n",
       "<style scoped>\n",
       "    .dataframe tbody tr th:only-of-type {\n",
       "        vertical-align: middle;\n",
       "    }\n",
       "\n",
       "    .dataframe tbody tr th {\n",
       "        vertical-align: top;\n",
       "    }\n",
       "\n",
       "    .dataframe thead th {\n",
       "        text-align: right;\n",
       "    }\n",
       "</style>\n",
       "<table border=\"1\" class=\"dataframe\">\n",
       "  <thead>\n",
       "    <tr style=\"text-align: right;\">\n",
       "      <th></th>\n",
       "      <th>Fare</th>\n",
       "      <th>Fare_sd</th>\n",
       "    </tr>\n",
       "  </thead>\n",
       "  <tbody>\n",
       "    <tr>\n",
       "      <th>count</th>\n",
       "      <td>183.000000</td>\n",
       "      <td>183.000000</td>\n",
       "    </tr>\n",
       "    <tr>\n",
       "      <th>mean</th>\n",
       "      <td>78.959191</td>\n",
       "      <td>74.584493</td>\n",
       "    </tr>\n",
       "    <tr>\n",
       "      <th>std</th>\n",
       "      <td>75.314418</td>\n",
       "      <td>58.390871</td>\n",
       "    </tr>\n",
       "    <tr>\n",
       "      <th>min</th>\n",
       "      <td>0.000000</td>\n",
       "      <td>0.000000</td>\n",
       "    </tr>\n",
       "    <tr>\n",
       "      <th>25%</th>\n",
       "      <td>30.000000</td>\n",
       "      <td>30.000000</td>\n",
       "    </tr>\n",
       "    <tr>\n",
       "      <th>50%</th>\n",
       "      <td>61.175000</td>\n",
       "      <td>61.175000</td>\n",
       "    </tr>\n",
       "    <tr>\n",
       "      <th>75%</th>\n",
       "      <td>90.000000</td>\n",
       "      <td>90.000000</td>\n",
       "    </tr>\n",
       "    <tr>\n",
       "      <th>max</th>\n",
       "      <td>512.329200</td>\n",
       "      <td>229.588027</td>\n",
       "    </tr>\n",
       "  </tbody>\n",
       "</table>\n",
       "</div>"
      ],
      "text/plain": [
       "             Fare     Fare_sd\n",
       "count  183.000000  183.000000\n",
       "mean    78.959191   74.584493\n",
       "std     75.314418   58.390871\n",
       "min      0.000000    0.000000\n",
       "25%     30.000000   30.000000\n",
       "50%     61.175000   61.175000\n",
       "75%     90.000000   90.000000\n",
       "max    512.329200  229.588027"
      ]
     },
     "execution_count": 69,
     "metadata": {},
     "output_type": "execute_result"
    }
   ],
   "source": [
    "dataOut['Fare_sd'] = np.where(\n",
    "    dataOut['Fare']<xl,\n",
    "    xl,\n",
    "    np.where(\n",
    "        dataOut['Fare']>xu,\n",
    "        xu,\n",
    "        dataOut['Fare']\n",
    "    )\n",
    ")\n",
    "dataOut[['Fare', 'Fare_sd']].describe()"
   ]
  },
  {
   "cell_type": "markdown",
   "id": "7fad8e13",
   "metadata": {},
   "source": [
    "##### Standard deviation approach - SibSp"
   ]
  },
  {
   "cell_type": "code",
   "execution_count": 70,
   "id": "c34caf29",
   "metadata": {},
   "outputs": [
    {
     "name": "stdout",
     "output_type": "stream",
     "text": [
      "Lower value: -0.8333661305100681\n",
      "Upper value: 1.7404699556466803\n"
     ]
    }
   ],
   "source": [
    "f = 2\n",
    "xl = dataOut['SibSp'].mean() - (dataOut['SibSp'].std() * f)\n",
    "xu = dataOut['SibSp'].mean() + (dataOut['SibSp'].std() * f)\n",
    "print('Lower value:', xl)\n",
    "print('Upper value:', xu)"
   ]
  },
  {
   "cell_type": "code",
   "execution_count": 71,
   "id": "1d8c3943",
   "metadata": {},
   "outputs": [
    {
     "data": {
      "text/plain": [
       "<AxesSubplot: xlabel='PassengerId', ylabel='SibSp'>"
      ]
     },
     "execution_count": 71,
     "metadata": {},
     "output_type": "execute_result"
    },
    {
     "data": {
      "image/png": "[encoded data removed]",
      "text/plain": [
       "<Figure size 640x480 with 1 Axes>"
      ]
     },
     "metadata": {},
     "output_type": "display_data"
    }
   ],
   "source": [
    "sns.scatterplot(x = dataOut['PassengerId'], y = dataOut['SibSp'])\n",
    "sns.lineplot(x = dataOut['PassengerId'], y = xl, color = 'green')\n",
    "sns.lineplot(x = dataOut['PassengerId'], y = xu, color = 'orange')"
   ]
  },
  {
   "cell_type": "code",
   "execution_count": 72,
   "id": "e17e7f65",
   "metadata": {},
   "outputs": [
    {
     "data": {
      "text/html": [
       "<div>\n",
       "<style scoped>\n",
       "    .dataframe tbody tr th:only-of-type {\n",
       "        vertical-align: middle;\n",
       "    }\n",
       "\n",
       "    .dataframe tbody tr th {\n",
       "        vertical-align: top;\n",
       "    }\n",
       "\n",
       "    .dataframe thead th {\n",
       "        text-align: right;\n",
       "    }\n",
       "</style>\n",
       "<table border=\"1\" class=\"dataframe\">\n",
       "  <thead>\n",
       "    <tr style=\"text-align: right;\">\n",
       "      <th></th>\n",
       "      <th>SibSp</th>\n",
       "    </tr>\n",
       "  </thead>\n",
       "  <tbody>\n",
       "    <tr>\n",
       "      <th>count</th>\n",
       "      <td>174.000000</td>\n",
       "    </tr>\n",
       "    <tr>\n",
       "      <th>mean</th>\n",
       "      <td>0.356322</td>\n",
       "    </tr>\n",
       "    <tr>\n",
       "      <th>std</th>\n",
       "      <td>0.480294</td>\n",
       "    </tr>\n",
       "    <tr>\n",
       "      <th>min</th>\n",
       "      <td>0.000000</td>\n",
       "    </tr>\n",
       "    <tr>\n",
       "      <th>25%</th>\n",
       "      <td>0.000000</td>\n",
       "    </tr>\n",
       "    <tr>\n",
       "      <th>50%</th>\n",
       "      <td>0.000000</td>\n",
       "    </tr>\n",
       "    <tr>\n",
       "      <th>75%</th>\n",
       "      <td>1.000000</td>\n",
       "    </tr>\n",
       "    <tr>\n",
       "      <th>max</th>\n",
       "      <td>1.000000</td>\n",
       "    </tr>\n",
       "  </tbody>\n",
       "</table>\n",
       "</div>"
      ],
      "text/plain": [
       "            SibSp\n",
       "count  174.000000\n",
       "mean     0.356322\n",
       "std      0.480294\n",
       "min      0.000000\n",
       "25%      0.000000\n",
       "50%      0.000000\n",
       "75%      1.000000\n",
       "max      1.000000"
      ]
     },
     "execution_count": 72,
     "metadata": {},
     "output_type": "execute_result"
    }
   ],
   "source": [
    "df_sd = dataOut[(dataOut['SibSp']>=xl) & (dataOut['SibSp']<=xu)]\n",
    "\n",
    "df_sd[['SibSp']].describe()"
   ]
  },
  {
   "cell_type": "code",
   "execution_count": 73,
   "id": "bbc1465b",
   "metadata": {},
   "outputs": [
    {
     "data": {
      "text/html": [
       "<div>\n",
       "<style scoped>\n",
       "    .dataframe tbody tr th:only-of-type {\n",
       "        vertical-align: middle;\n",
       "    }\n",
       "\n",
       "    .dataframe tbody tr th {\n",
       "        vertical-align: top;\n",
       "    }\n",
       "\n",
       "    .dataframe thead th {\n",
       "        text-align: right;\n",
       "    }\n",
       "</style>\n",
       "<table border=\"1\" class=\"dataframe\">\n",
       "  <thead>\n",
       "    <tr style=\"text-align: right;\">\n",
       "      <th></th>\n",
       "      <th>SibSp</th>\n",
       "      <th>SibSp_sd</th>\n",
       "    </tr>\n",
       "  </thead>\n",
       "  <tbody>\n",
       "    <tr>\n",
       "      <th>count</th>\n",
       "      <td>183.000000</td>\n",
       "      <td>183.000000</td>\n",
       "    </tr>\n",
       "    <tr>\n",
       "      <th>mean</th>\n",
       "      <td>0.453552</td>\n",
       "      <td>0.424395</td>\n",
       "    </tr>\n",
       "    <tr>\n",
       "      <th>std</th>\n",
       "      <td>0.643459</td>\n",
       "      <td>0.556198</td>\n",
       "    </tr>\n",
       "    <tr>\n",
       "      <th>min</th>\n",
       "      <td>0.000000</td>\n",
       "      <td>0.000000</td>\n",
       "    </tr>\n",
       "    <tr>\n",
       "      <th>25%</th>\n",
       "      <td>0.000000</td>\n",
       "      <td>0.000000</td>\n",
       "    </tr>\n",
       "    <tr>\n",
       "      <th>50%</th>\n",
       "      <td>0.000000</td>\n",
       "      <td>0.000000</td>\n",
       "    </tr>\n",
       "    <tr>\n",
       "      <th>75%</th>\n",
       "      <td>1.000000</td>\n",
       "      <td>1.000000</td>\n",
       "    </tr>\n",
       "    <tr>\n",
       "      <th>max</th>\n",
       "      <td>3.000000</td>\n",
       "      <td>1.740470</td>\n",
       "    </tr>\n",
       "  </tbody>\n",
       "</table>\n",
       "</div>"
      ],
      "text/plain": [
       "            SibSp    SibSp_sd\n",
       "count  183.000000  183.000000\n",
       "mean     0.453552    0.424395\n",
       "std      0.643459    0.556198\n",
       "min      0.000000    0.000000\n",
       "25%      0.000000    0.000000\n",
       "50%      0.000000    0.000000\n",
       "75%      1.000000    1.000000\n",
       "max      3.000000    1.740470"
      ]
     },
     "execution_count": 73,
     "metadata": {},
     "output_type": "execute_result"
    }
   ],
   "source": [
    "dataOut['SibSp_sd'] = np.where(\n",
    "    dataOut['SibSp']<xl,\n",
    "    xl,\n",
    "    np.where(\n",
    "        dataOut['SibSp']>xu,\n",
    "        xu,\n",
    "        dataOut['SibSp']\n",
    "    )\n",
    ")\n",
    "dataOut[['SibSp', 'SibSp_sd']].describe()"
   ]
  },
  {
   "cell_type": "markdown",
   "id": "085cf336",
   "metadata": {},
   "source": [
    "##### Standard deviation approach - Parch"
   ]
  },
  {
   "cell_type": "code",
   "execution_count": 74,
   "id": "fce57e80",
   "metadata": {},
   "outputs": [
    {
     "name": "stdout",
     "output_type": "stream",
     "text": [
      "Lower value: -1.0425998434772248\n",
      "Upper value: 1.9059878216193014\n"
     ]
    }
   ],
   "source": [
    "f = 2\n",
    "xl = dataOut['Parch'].mean() - (dataOut['Parch'].std() * f)\n",
    "xu = dataOut['Parch'].mean() + (dataOut['Parch'].std() * f)\n",
    "print('Lower value:', xl)\n",
    "print('Upper value:', xu)"
   ]
  },
  {
   "cell_type": "code",
   "execution_count": 75,
   "id": "0c640173",
   "metadata": {},
   "outputs": [
    {
     "data": {
      "text/plain": [
       "<AxesSubplot: xlabel='PassengerId', ylabel='Parch'>"
      ]
     },
     "execution_count": 75,
     "metadata": {},
     "output_type": "execute_result"
    },
    {
     "data": {
      "image/png": "[encoded data removed]",
      "text/plain": [
       "<Figure size 640x480 with 1 Axes>"
      ]
     },
     "metadata": {},
     "output_type": "display_data"
    }
   ],
   "source": [
    "sns.scatterplot(x = dataOut['PassengerId'], y = dataOut['Parch'])\n",
    "sns.lineplot(x = dataOut['PassengerId'], y = xl, color = 'green')\n",
    "sns.lineplot(x = dataOut['PassengerId'], y = xu, color = 'orange')"
   ]
  },
  {
   "cell_type": "code",
   "execution_count": 76,
   "id": "4fe1eddc",
   "metadata": {},
   "outputs": [
    {
     "data": {
      "text/html": [
       "<div>\n",
       "<style scoped>\n",
       "    .dataframe tbody tr th:only-of-type {\n",
       "        vertical-align: middle;\n",
       "    }\n",
       "\n",
       "    .dataframe tbody tr th {\n",
       "        vertical-align: top;\n",
       "    }\n",
       "\n",
       "    .dataframe thead th {\n",
       "        text-align: right;\n",
       "    }\n",
       "</style>\n",
       "<table border=\"1\" class=\"dataframe\">\n",
       "  <thead>\n",
       "    <tr style=\"text-align: right;\">\n",
       "      <th></th>\n",
       "      <th>Parch</th>\n",
       "    </tr>\n",
       "  </thead>\n",
       "  <tbody>\n",
       "    <tr>\n",
       "      <th>count</th>\n",
       "      <td>161.000000</td>\n",
       "    </tr>\n",
       "    <tr>\n",
       "      <th>mean</th>\n",
       "      <td>0.204969</td>\n",
       "    </tr>\n",
       "    <tr>\n",
       "      <th>std</th>\n",
       "      <td>0.404938</td>\n",
       "    </tr>\n",
       "    <tr>\n",
       "      <th>min</th>\n",
       "      <td>0.000000</td>\n",
       "    </tr>\n",
       "    <tr>\n",
       "      <th>25%</th>\n",
       "      <td>0.000000</td>\n",
       "    </tr>\n",
       "    <tr>\n",
       "      <th>50%</th>\n",
       "      <td>0.000000</td>\n",
       "    </tr>\n",
       "    <tr>\n",
       "      <th>75%</th>\n",
       "      <td>0.000000</td>\n",
       "    </tr>\n",
       "    <tr>\n",
       "      <th>max</th>\n",
       "      <td>1.000000</td>\n",
       "    </tr>\n",
       "  </tbody>\n",
       "</table>\n",
       "</div>"
      ],
      "text/plain": [
       "            Parch\n",
       "count  161.000000\n",
       "mean     0.204969\n",
       "std      0.404938\n",
       "min      0.000000\n",
       "25%      0.000000\n",
       "50%      0.000000\n",
       "75%      0.000000\n",
       "max      1.000000"
      ]
     },
     "execution_count": 76,
     "metadata": {},
     "output_type": "execute_result"
    }
   ],
   "source": [
    "df_sd = dataOut[(dataOut['Parch']>=xl) & (dataOut['Parch']<=xu)]\n",
    "\n",
    "df_sd[['Parch']].describe()"
   ]
  },
  {
   "cell_type": "code",
   "execution_count": 77,
   "id": "b2617cea",
   "metadata": {},
   "outputs": [
    {
     "data": {
      "text/html": [
       "<div>\n",
       "<style scoped>\n",
       "    .dataframe tbody tr th:only-of-type {\n",
       "        vertical-align: middle;\n",
       "    }\n",
       "\n",
       "    .dataframe tbody tr th {\n",
       "        vertical-align: top;\n",
       "    }\n",
       "\n",
       "    .dataframe thead th {\n",
       "        text-align: right;\n",
       "    }\n",
       "</style>\n",
       "<table border=\"1\" class=\"dataframe\">\n",
       "  <thead>\n",
       "    <tr style=\"text-align: right;\">\n",
       "      <th></th>\n",
       "      <th>Parch</th>\n",
       "      <th>Parch_sd</th>\n",
       "    </tr>\n",
       "  </thead>\n",
       "  <tbody>\n",
       "    <tr>\n",
       "      <th>count</th>\n",
       "      <td>183.000000</td>\n",
       "      <td>183.000000</td>\n",
       "    </tr>\n",
       "    <tr>\n",
       "      <th>mean</th>\n",
       "      <td>0.431694</td>\n",
       "      <td>0.409463</td>\n",
       "    </tr>\n",
       "    <tr>\n",
       "      <th>std</th>\n",
       "      <td>0.737147</td>\n",
       "      <td>0.672210</td>\n",
       "    </tr>\n",
       "    <tr>\n",
       "      <th>min</th>\n",
       "      <td>0.000000</td>\n",
       "      <td>0.000000</td>\n",
       "    </tr>\n",
       "    <tr>\n",
       "      <th>25%</th>\n",
       "      <td>0.000000</td>\n",
       "      <td>0.000000</td>\n",
       "    </tr>\n",
       "    <tr>\n",
       "      <th>50%</th>\n",
       "      <td>0.000000</td>\n",
       "      <td>0.000000</td>\n",
       "    </tr>\n",
       "    <tr>\n",
       "      <th>75%</th>\n",
       "      <td>1.000000</td>\n",
       "      <td>1.000000</td>\n",
       "    </tr>\n",
       "    <tr>\n",
       "      <th>max</th>\n",
       "      <td>4.000000</td>\n",
       "      <td>1.905988</td>\n",
       "    </tr>\n",
       "  </tbody>\n",
       "</table>\n",
       "</div>"
      ],
      "text/plain": [
       "            Parch    Parch_sd\n",
       "count  183.000000  183.000000\n",
       "mean     0.431694    0.409463\n",
       "std      0.737147    0.672210\n",
       "min      0.000000    0.000000\n",
       "25%      0.000000    0.000000\n",
       "50%      0.000000    0.000000\n",
       "75%      1.000000    1.000000\n",
       "max      4.000000    1.905988"
      ]
     },
     "execution_count": 77,
     "metadata": {},
     "output_type": "execute_result"
    }
   ],
   "source": [
    "dataOut['Parch_sd'] = np.where(\n",
    "    dataOut['Parch']<xl,\n",
    "    xl,\n",
    "    np.where(\n",
    "        dataOut['Parch']>xu,\n",
    "        xu,\n",
    "        dataOut['Parch']\n",
    "    )\n",
    ")\n",
    "dataOut[['Parch', 'Parch_sd']].describe()"
   ]
  },
  {
   "cell_type": "markdown",
   "id": "32fee8cf",
   "metadata": {},
   "source": [
    "##### Percentile Approach - Age"
   ]
  },
  {
   "cell_type": "code",
   "execution_count": 78,
   "id": "fea6dc7b",
   "metadata": {},
   "outputs": [],
   "source": [
    "pl = np.percentile(dataOut['Age'], 5)\n",
    "pu = np.percentile(dataOut['Age'], 95)"
   ]
  },
  {
   "cell_type": "code",
   "execution_count": 79,
   "id": "b0474d22",
   "metadata": {},
   "outputs": [
    {
     "data": {
      "text/plain": [
       "<AxesSubplot: xlabel='PassengerId', ylabel='Age'>"
      ]
     },
     "execution_count": 79,
     "metadata": {},
     "output_type": "execute_result"
    },
    {
     "data": {
      "image/png": "[encoded data removed]",
      "text/plain": [
       "<Figure size 640x480 with 1 Axes>"
      ]
     },
     "metadata": {},
     "output_type": "display_data"
    }
   ],
   "source": [
    "sns.scatterplot(x = dataOut['PassengerId'], y = dataOut['Age'])\n",
    "sns.lineplot(x = dataOut['PassengerId'], y = pl, color = 'orange')\n",
    "sns.lineplot(x = dataOut['PassengerId'], y = pu, color = 'green')"
   ]
  },
  {
   "cell_type": "code",
   "execution_count": 80,
   "id": "55c9a87e",
   "metadata": {},
   "outputs": [
    {
     "data": {
      "text/html": [
       "<div>\n",
       "<style scoped>\n",
       "    .dataframe tbody tr th:only-of-type {\n",
       "        vertical-align: middle;\n",
       "    }\n",
       "\n",
       "    .dataframe tbody tr th {\n",
       "        vertical-align: top;\n",
       "    }\n",
       "\n",
       "    .dataframe thead th {\n",
       "        text-align: right;\n",
       "    }\n",
       "</style>\n",
       "<table border=\"1\" class=\"dataframe\">\n",
       "  <thead>\n",
       "    <tr style=\"text-align: right;\">\n",
       "      <th></th>\n",
       "      <th>Age</th>\n",
       "    </tr>\n",
       "  </thead>\n",
       "  <tbody>\n",
       "    <tr>\n",
       "      <th>count</th>\n",
       "      <td>163.000000</td>\n",
       "    </tr>\n",
       "    <tr>\n",
       "      <th>mean</th>\n",
       "      <td>35.524540</td>\n",
       "    </tr>\n",
       "    <tr>\n",
       "      <th>std</th>\n",
       "      <td>11.067526</td>\n",
       "    </tr>\n",
       "    <tr>\n",
       "      <th>min</th>\n",
       "      <td>16.000000</td>\n",
       "    </tr>\n",
       "    <tr>\n",
       "      <th>25%</th>\n",
       "      <td>27.000000</td>\n",
       "    </tr>\n",
       "    <tr>\n",
       "      <th>50%</th>\n",
       "      <td>35.000000</td>\n",
       "    </tr>\n",
       "    <tr>\n",
       "      <th>75%</th>\n",
       "      <td>44.000000</td>\n",
       "    </tr>\n",
       "    <tr>\n",
       "      <th>max</th>\n",
       "      <td>60.000000</td>\n",
       "    </tr>\n",
       "  </tbody>\n",
       "</table>\n",
       "</div>"
      ],
      "text/plain": [
       "              Age\n",
       "count  163.000000\n",
       "mean    35.524540\n",
       "std     11.067526\n",
       "min     16.000000\n",
       "25%     27.000000\n",
       "50%     35.000000\n",
       "75%     44.000000\n",
       "max     60.000000"
      ]
     },
     "execution_count": 80,
     "metadata": {},
     "output_type": "execute_result"
    }
   ],
   "source": [
    "df_sd = dataOut[(dataOut['Age']>=pl) & (dataOut['Age']<=pu)]\n",
    "df_sd[['Age']].describe()"
   ]
  },
  {
   "cell_type": "code",
   "execution_count": 81,
   "id": "0646a880",
   "metadata": {},
   "outputs": [
    {
     "data": {
      "text/html": [
       "<div>\n",
       "<style scoped>\n",
       "    .dataframe tbody tr th:only-of-type {\n",
       "        vertical-align: middle;\n",
       "    }\n",
       "\n",
       "    .dataframe tbody tr th {\n",
       "        vertical-align: top;\n",
       "    }\n",
       "\n",
       "    .dataframe thead th {\n",
       "        text-align: right;\n",
       "    }\n",
       "</style>\n",
       "<table border=\"1\" class=\"dataframe\">\n",
       "  <thead>\n",
       "    <tr style=\"text-align: right;\">\n",
       "      <th></th>\n",
       "      <th>Age</th>\n",
       "      <th>Age_sd</th>\n",
       "      <th>Age_pct</th>\n",
       "    </tr>\n",
       "  </thead>\n",
       "  <tbody>\n",
       "    <tr>\n",
       "      <th>count</th>\n",
       "      <td>183.000000</td>\n",
       "      <td>183.000000</td>\n",
       "      <td>183.000000</td>\n",
       "    </tr>\n",
       "    <tr>\n",
       "      <th>mean</th>\n",
       "      <td>35.597923</td>\n",
       "      <td>35.576827</td>\n",
       "      <td>35.795082</td>\n",
       "    </tr>\n",
       "    <tr>\n",
       "      <th>std</th>\n",
       "      <td>14.528916</td>\n",
       "      <td>13.870960</td>\n",
       "      <td>12.932786</td>\n",
       "    </tr>\n",
       "    <tr>\n",
       "      <th>min</th>\n",
       "      <td>0.920000</td>\n",
       "      <td>6.540091</td>\n",
       "      <td>15.100000</td>\n",
       "    </tr>\n",
       "    <tr>\n",
       "      <th>25%</th>\n",
       "      <td>25.000000</td>\n",
       "      <td>25.000000</td>\n",
       "      <td>25.000000</td>\n",
       "    </tr>\n",
       "    <tr>\n",
       "      <th>50%</th>\n",
       "      <td>35.000000</td>\n",
       "      <td>35.000000</td>\n",
       "      <td>35.000000</td>\n",
       "    </tr>\n",
       "    <tr>\n",
       "      <th>75%</th>\n",
       "      <td>46.500000</td>\n",
       "      <td>46.500000</td>\n",
       "      <td>46.500000</td>\n",
       "    </tr>\n",
       "    <tr>\n",
       "      <th>max</th>\n",
       "      <td>80.000000</td>\n",
       "      <td>64.655756</td>\n",
       "      <td>60.900000</td>\n",
       "    </tr>\n",
       "  </tbody>\n",
       "</table>\n",
       "</div>"
      ],
      "text/plain": [
       "              Age      Age_sd     Age_pct\n",
       "count  183.000000  183.000000  183.000000\n",
       "mean    35.597923   35.576827   35.795082\n",
       "std     14.528916   13.870960   12.932786\n",
       "min      0.920000    6.540091   15.100000\n",
       "25%     25.000000   25.000000   25.000000\n",
       "50%     35.000000   35.000000   35.000000\n",
       "75%     46.500000   46.500000   46.500000\n",
       "max     80.000000   64.655756   60.900000"
      ]
     },
     "execution_count": 81,
     "metadata": {},
     "output_type": "execute_result"
    }
   ],
   "source": [
    "dataOut['Age_pct'] = np.where(\n",
    "    dataOut['Age']<pl,\n",
    "    pl,\n",
    "    np.where(\n",
    "        dataOut['Age']>pu,\n",
    "        pu,\n",
    "        dataOut['Age']\n",
    "    )\n",
    ")\n",
    "dataOut[['Age', 'Age_sd', 'Age_pct']].describe()"
   ]
  },
  {
   "cell_type": "markdown",
   "id": "d478aa4e",
   "metadata": {},
   "source": [
    "##### Percentile Approach - Fare"
   ]
  },
  {
   "cell_type": "code",
   "execution_count": 82,
   "id": "c7efddce",
   "metadata": {},
   "outputs": [],
   "source": [
    "pl = np.percentile(dataOut['Fare'], 5)\n",
    "pu = np.percentile(dataOut['Fare'], 95)"
   ]
  },
  {
   "cell_type": "code",
   "execution_count": 83,
   "id": "994e5f4e",
   "metadata": {},
   "outputs": [
    {
     "data": {
      "text/plain": [
       "<AxesSubplot: xlabel='PassengerId', ylabel='Fare'>"
      ]
     },
     "execution_count": 83,
     "metadata": {},
     "output_type": "execute_result"
    },
    {
     "data": {
      "image/png": "[encoded data removed]",
      "text/plain": [
       "<Figure size 640x480 with 1 Axes>"
      ]
     },
     "metadata": {},
     "output_type": "display_data"
    }
   ],
   "source": [
    "sns.scatterplot(x = dataOut['PassengerId'], y = dataOut['Fare'])\n",
    "sns.lineplot(x = dataOut['PassengerId'], y = pl, color = 'orange')\n",
    "sns.lineplot(x = dataOut['PassengerId'], y = pu, color = 'green')"
   ]
  },
  {
   "cell_type": "code",
   "execution_count": 84,
   "id": "4b1faf45",
   "metadata": {},
   "outputs": [
    {
     "data": {
      "text/html": [
       "<div>\n",
       "<style scoped>\n",
       "    .dataframe tbody tr th:only-of-type {\n",
       "        vertical-align: middle;\n",
       "    }\n",
       "\n",
       "    .dataframe tbody tr th {\n",
       "        vertical-align: top;\n",
       "    }\n",
       "\n",
       "    .dataframe thead th {\n",
       "        text-align: right;\n",
       "    }\n",
       "</style>\n",
       "<table border=\"1\" class=\"dataframe\">\n",
       "  <thead>\n",
       "    <tr style=\"text-align: right;\">\n",
       "      <th></th>\n",
       "      <th>Fare</th>\n",
       "    </tr>\n",
       "  </thead>\n",
       "  <tbody>\n",
       "    <tr>\n",
       "      <th>count</th>\n",
       "      <td>165.000000</td>\n",
       "    </tr>\n",
       "    <tr>\n",
       "      <th>mean</th>\n",
       "      <td>68.507921</td>\n",
       "    </tr>\n",
       "    <tr>\n",
       "      <th>std</th>\n",
       "      <td>45.303589</td>\n",
       "    </tr>\n",
       "    <tr>\n",
       "      <th>min</th>\n",
       "      <td>10.500000</td>\n",
       "    </tr>\n",
       "    <tr>\n",
       "      <th>25%</th>\n",
       "      <td>30.500000</td>\n",
       "    </tr>\n",
       "    <tr>\n",
       "      <th>50%</th>\n",
       "      <td>57.979200</td>\n",
       "    </tr>\n",
       "    <tr>\n",
       "      <th>75%</th>\n",
       "      <td>83.475000</td>\n",
       "    </tr>\n",
       "    <tr>\n",
       "      <th>max</th>\n",
       "      <td>227.525000</td>\n",
       "    </tr>\n",
       "  </tbody>\n",
       "</table>\n",
       "</div>"
      ],
      "text/plain": [
       "             Fare\n",
       "count  165.000000\n",
       "mean    68.507921\n",
       "std     45.303589\n",
       "min     10.500000\n",
       "25%     30.500000\n",
       "50%     57.979200\n",
       "75%     83.475000\n",
       "max    227.525000"
      ]
     },
     "execution_count": 84,
     "metadata": {},
     "output_type": "execute_result"
    }
   ],
   "source": [
    "df_sd = dataOut[(dataOut['Fare']>=pl) & (dataOut['Fare']<=pu)]\n",
    "df_sd[['Fare']].describe()"
   ]
  },
  {
   "cell_type": "code",
   "execution_count": 85,
   "id": "f982d453",
   "metadata": {},
   "outputs": [
    {
     "data": {
      "text/html": [
       "<div>\n",
       "<style scoped>\n",
       "    .dataframe tbody tr th:only-of-type {\n",
       "        vertical-align: middle;\n",
       "    }\n",
       "\n",
       "    .dataframe tbody tr th {\n",
       "        vertical-align: top;\n",
       "    }\n",
       "\n",
       "    .dataframe thead th {\n",
       "        text-align: right;\n",
       "    }\n",
       "</style>\n",
       "<table border=\"1\" class=\"dataframe\">\n",
       "  <thead>\n",
       "    <tr style=\"text-align: right;\">\n",
       "      <th></th>\n",
       "      <th>Fare</th>\n",
       "      <th>Fare_sd</th>\n",
       "      <th>Fare_pct</th>\n",
       "    </tr>\n",
       "  </thead>\n",
       "  <tbody>\n",
       "    <tr>\n",
       "      <th>count</th>\n",
       "      <td>183.000000</td>\n",
       "      <td>183.000000</td>\n",
       "      <td>183.000000</td>\n",
       "    </tr>\n",
       "    <tr>\n",
       "      <th>mean</th>\n",
       "      <td>78.959191</td>\n",
       "      <td>74.584493</td>\n",
       "      <td>75.644913</td>\n",
       "    </tr>\n",
       "    <tr>\n",
       "      <th>std</th>\n",
       "      <td>75.314418</td>\n",
       "      <td>58.390871</td>\n",
       "      <td>60.561979</td>\n",
       "    </tr>\n",
       "    <tr>\n",
       "      <th>min</th>\n",
       "      <td>0.000000</td>\n",
       "      <td>0.000000</td>\n",
       "      <td>10.500000</td>\n",
       "    </tr>\n",
       "    <tr>\n",
       "      <th>25%</th>\n",
       "      <td>30.000000</td>\n",
       "      <td>30.000000</td>\n",
       "      <td>30.000000</td>\n",
       "    </tr>\n",
       "    <tr>\n",
       "      <th>50%</th>\n",
       "      <td>61.175000</td>\n",
       "      <td>61.175000</td>\n",
       "      <td>61.175000</td>\n",
       "    </tr>\n",
       "    <tr>\n",
       "      <th>75%</th>\n",
       "      <td>90.000000</td>\n",
       "      <td>90.000000</td>\n",
       "      <td>90.000000</td>\n",
       "    </tr>\n",
       "    <tr>\n",
       "      <th>max</th>\n",
       "      <td>512.329200</td>\n",
       "      <td>229.588027</td>\n",
       "      <td>245.521220</td>\n",
       "    </tr>\n",
       "  </tbody>\n",
       "</table>\n",
       "</div>"
      ],
      "text/plain": [
       "             Fare     Fare_sd    Fare_pct\n",
       "count  183.000000  183.000000  183.000000\n",
       "mean    78.959191   74.584493   75.644913\n",
       "std     75.314418   58.390871   60.561979\n",
       "min      0.000000    0.000000   10.500000\n",
       "25%     30.000000   30.000000   30.000000\n",
       "50%     61.175000   61.175000   61.175000\n",
       "75%     90.000000   90.000000   90.000000\n",
       "max    512.329200  229.588027  245.521220"
      ]
     },
     "execution_count": 85,
     "metadata": {},
     "output_type": "execute_result"
    }
   ],
   "source": [
    "dataOut['Fare_pct'] = np.where(\n",
    "    dataOut['Fare']<pl,\n",
    "    pl,\n",
    "    np.where(\n",
    "        dataOut['Fare']>pu,\n",
    "        pu,\n",
    "        dataOut['Fare']\n",
    "    )\n",
    ")\n",
    "dataOut[['Fare', 'Fare_sd', 'Fare_pct']].describe()"
   ]
  },
  {
   "cell_type": "markdown",
   "id": "81029c3b",
   "metadata": {},
   "source": [
    "##### Percentile Approach - SibSp"
   ]
  },
  {
   "cell_type": "code",
   "execution_count": 86,
   "id": "2d9d826d",
   "metadata": {},
   "outputs": [],
   "source": [
    "pl = np.percentile(dataOut['SibSp'], 5)\n",
    "pu = np.percentile(dataOut['SibSp'], 95)"
   ]
  },
  {
   "cell_type": "code",
   "execution_count": 87,
   "id": "198a0a72",
   "metadata": {},
   "outputs": [
    {
     "data": {
      "text/plain": [
       "<AxesSubplot: xlabel='PassengerId', ylabel='SibSp'>"
      ]
     },
     "execution_count": 87,
     "metadata": {},
     "output_type": "execute_result"
    },
    {
     "data": {
      "image/png": "[encoded data removed]",
      "text/plain": [
       "<Figure size 640x480 with 1 Axes>"
      ]
     },
     "metadata": {},
     "output_type": "display_data"
    }
   ],
   "source": [
    "sns.scatterplot(x = dataOut['PassengerId'], y = dataOut['SibSp'])\n",
    "sns.lineplot(x = dataOut['PassengerId'], y = pl, color = 'orange')\n",
    "sns.lineplot(x = dataOut['PassengerId'], y = pu, color = 'green')"
   ]
  },
  {
   "cell_type": "code",
   "execution_count": 88,
   "id": "678f2412",
   "metadata": {},
   "outputs": [
    {
     "data": {
      "text/html": [
       "<div>\n",
       "<style scoped>\n",
       "    .dataframe tbody tr th:only-of-type {\n",
       "        vertical-align: middle;\n",
       "    }\n",
       "\n",
       "    .dataframe tbody tr th {\n",
       "        vertical-align: top;\n",
       "    }\n",
       "\n",
       "    .dataframe thead th {\n",
       "        text-align: right;\n",
       "    }\n",
       "</style>\n",
       "<table border=\"1\" class=\"dataframe\">\n",
       "  <thead>\n",
       "    <tr style=\"text-align: right;\">\n",
       "      <th></th>\n",
       "      <th>SibSp</th>\n",
       "    </tr>\n",
       "  </thead>\n",
       "  <tbody>\n",
       "    <tr>\n",
       "      <th>count</th>\n",
       "      <td>174.000000</td>\n",
       "    </tr>\n",
       "    <tr>\n",
       "      <th>mean</th>\n",
       "      <td>0.356322</td>\n",
       "    </tr>\n",
       "    <tr>\n",
       "      <th>std</th>\n",
       "      <td>0.480294</td>\n",
       "    </tr>\n",
       "    <tr>\n",
       "      <th>min</th>\n",
       "      <td>0.000000</td>\n",
       "    </tr>\n",
       "    <tr>\n",
       "      <th>25%</th>\n",
       "      <td>0.000000</td>\n",
       "    </tr>\n",
       "    <tr>\n",
       "      <th>50%</th>\n",
       "      <td>0.000000</td>\n",
       "    </tr>\n",
       "    <tr>\n",
       "      <th>75%</th>\n",
       "      <td>1.000000</td>\n",
       "    </tr>\n",
       "    <tr>\n",
       "      <th>max</th>\n",
       "      <td>1.000000</td>\n",
       "    </tr>\n",
       "  </tbody>\n",
       "</table>\n",
       "</div>"
      ],
      "text/plain": [
       "            SibSp\n",
       "count  174.000000\n",
       "mean     0.356322\n",
       "std      0.480294\n",
       "min      0.000000\n",
       "25%      0.000000\n",
       "50%      0.000000\n",
       "75%      1.000000\n",
       "max      1.000000"
      ]
     },
     "execution_count": 88,
     "metadata": {},
     "output_type": "execute_result"
    }
   ],
   "source": [
    "df_sd = dataOut[(dataOut['SibSp']>=pl) & (dataOut['SibSp']<=pu)]\n",
    "df_sd[['SibSp']].describe()"
   ]
  },
  {
   "cell_type": "code",
   "execution_count": 89,
   "id": "82171b38",
   "metadata": {},
   "outputs": [
    {
     "data": {
      "text/html": [
       "<div>\n",
       "<style scoped>\n",
       "    .dataframe tbody tr th:only-of-type {\n",
       "        vertical-align: middle;\n",
       "    }\n",
       "\n",
       "    .dataframe tbody tr th {\n",
       "        vertical-align: top;\n",
       "    }\n",
       "\n",
       "    .dataframe thead th {\n",
       "        text-align: right;\n",
       "    }\n",
       "</style>\n",
       "<table border=\"1\" class=\"dataframe\">\n",
       "  <thead>\n",
       "    <tr style=\"text-align: right;\">\n",
       "      <th></th>\n",
       "      <th>SibSp</th>\n",
       "      <th>SibSp_sd</th>\n",
       "      <th>SibSp_pct</th>\n",
       "    </tr>\n",
       "  </thead>\n",
       "  <tbody>\n",
       "    <tr>\n",
       "      <th>count</th>\n",
       "      <td>183.000000</td>\n",
       "      <td>183.000000</td>\n",
       "      <td>183.000000</td>\n",
       "    </tr>\n",
       "    <tr>\n",
       "      <th>mean</th>\n",
       "      <td>0.453552</td>\n",
       "      <td>0.424395</td>\n",
       "      <td>0.387978</td>\n",
       "    </tr>\n",
       "    <tr>\n",
       "      <th>std</th>\n",
       "      <td>0.643459</td>\n",
       "      <td>0.556198</td>\n",
       "      <td>0.488626</td>\n",
       "    </tr>\n",
       "    <tr>\n",
       "      <th>min</th>\n",
       "      <td>0.000000</td>\n",
       "      <td>0.000000</td>\n",
       "      <td>0.000000</td>\n",
       "    </tr>\n",
       "    <tr>\n",
       "      <th>25%</th>\n",
       "      <td>0.000000</td>\n",
       "      <td>0.000000</td>\n",
       "      <td>0.000000</td>\n",
       "    </tr>\n",
       "    <tr>\n",
       "      <th>50%</th>\n",
       "      <td>0.000000</td>\n",
       "      <td>0.000000</td>\n",
       "      <td>0.000000</td>\n",
       "    </tr>\n",
       "    <tr>\n",
       "      <th>75%</th>\n",
       "      <td>1.000000</td>\n",
       "      <td>1.000000</td>\n",
       "      <td>1.000000</td>\n",
       "    </tr>\n",
       "    <tr>\n",
       "      <th>max</th>\n",
       "      <td>3.000000</td>\n",
       "      <td>1.740470</td>\n",
       "      <td>1.000000</td>\n",
       "    </tr>\n",
       "  </tbody>\n",
       "</table>\n",
       "</div>"
      ],
      "text/plain": [
       "            SibSp    SibSp_sd   SibSp_pct\n",
       "count  183.000000  183.000000  183.000000\n",
       "mean     0.453552    0.424395    0.387978\n",
       "std      0.643459    0.556198    0.488626\n",
       "min      0.000000    0.000000    0.000000\n",
       "25%      0.000000    0.000000    0.000000\n",
       "50%      0.000000    0.000000    0.000000\n",
       "75%      1.000000    1.000000    1.000000\n",
       "max      3.000000    1.740470    1.000000"
      ]
     },
     "execution_count": 89,
     "metadata": {},
     "output_type": "execute_result"
    }
   ],
   "source": [
    "dataOut['SibSp_pct'] = np.where(\n",
    "    dataOut['SibSp']<pl,\n",
    "    pl,\n",
    "    np.where(\n",
    "        dataOut['SibSp']>pu,\n",
    "        pu,\n",
    "        dataOut['SibSp']\n",
    "    )\n",
    ")\n",
    "dataOut[['SibSp', 'SibSp_sd', 'SibSp_pct']].describe()"
   ]
  },
  {
   "cell_type": "markdown",
   "id": "f0781e53",
   "metadata": {},
   "source": [
    "##### Percentile Approach - Parch"
   ]
  },
  {
   "cell_type": "code",
   "execution_count": 90,
   "id": "ef33b264",
   "metadata": {},
   "outputs": [],
   "source": [
    "pl = np.percentile(dataOut['Parch'], 5)\n",
    "pu = np.percentile(dataOut['Parch'], 95)"
   ]
  },
  {
   "cell_type": "code",
   "execution_count": 91,
   "id": "88345253",
   "metadata": {},
   "outputs": [
    {
     "data": {
      "text/plain": [
       "<AxesSubplot: xlabel='PassengerId', ylabel='Parch'>"
      ]
     },
     "execution_count": 91,
     "metadata": {},
     "output_type": "execute_result"
    },
    {
     "data": {
      "image/png": "[encoded data removed]",
      "text/plain": [
       "<Figure size 640x480 with 1 Axes>"
      ]
     },
     "metadata": {},
     "output_type": "display_data"
    }
   ],
   "source": [
    "sns.scatterplot(x = dataOut['PassengerId'], y = dataOut['Parch'])\n",
    "sns.lineplot(x = dataOut['PassengerId'], y = pl, color = 'orange')\n",
    "sns.lineplot(x = dataOut['PassengerId'], y = pu, color = 'green')"
   ]
  },
  {
   "cell_type": "code",
   "execution_count": 92,
   "id": "954c6896",
   "metadata": {},
   "outputs": [
    {
     "data": {
      "text/html": [
       "<div>\n",
       "<style scoped>\n",
       "    .dataframe tbody tr th:only-of-type {\n",
       "        vertical-align: middle;\n",
       "    }\n",
       "\n",
       "    .dataframe tbody tr th {\n",
       "        vertical-align: top;\n",
       "    }\n",
       "\n",
       "    .dataframe thead th {\n",
       "        text-align: right;\n",
       "    }\n",
       "</style>\n",
       "<table border=\"1\" class=\"dataframe\">\n",
       "  <thead>\n",
       "    <tr style=\"text-align: right;\">\n",
       "      <th></th>\n",
       "      <th>Parch</th>\n",
       "    </tr>\n",
       "  </thead>\n",
       "  <tbody>\n",
       "    <tr>\n",
       "      <th>count</th>\n",
       "      <td>182.000000</td>\n",
       "    </tr>\n",
       "    <tr>\n",
       "      <th>mean</th>\n",
       "      <td>0.412088</td>\n",
       "    </tr>\n",
       "    <tr>\n",
       "      <th>std</th>\n",
       "      <td>0.689677</td>\n",
       "    </tr>\n",
       "    <tr>\n",
       "      <th>min</th>\n",
       "      <td>0.000000</td>\n",
       "    </tr>\n",
       "    <tr>\n",
       "      <th>25%</th>\n",
       "      <td>0.000000</td>\n",
       "    </tr>\n",
       "    <tr>\n",
       "      <th>50%</th>\n",
       "      <td>0.000000</td>\n",
       "    </tr>\n",
       "    <tr>\n",
       "      <th>75%</th>\n",
       "      <td>1.000000</td>\n",
       "    </tr>\n",
       "    <tr>\n",
       "      <th>max</th>\n",
       "      <td>2.000000</td>\n",
       "    </tr>\n",
       "  </tbody>\n",
       "</table>\n",
       "</div>"
      ],
      "text/plain": [
       "            Parch\n",
       "count  182.000000\n",
       "mean     0.412088\n",
       "std      0.689677\n",
       "min      0.000000\n",
       "25%      0.000000\n",
       "50%      0.000000\n",
       "75%      1.000000\n",
       "max      2.000000"
      ]
     },
     "execution_count": 92,
     "metadata": {},
     "output_type": "execute_result"
    }
   ],
   "source": [
    "df_sd = dataOut[(dataOut['Parch']>=pl) & (dataOut['Parch']<=pu)]\n",
    "df_sd[['Parch']].describe()"
   ]
  },
  {
   "cell_type": "code",
   "execution_count": 93,
   "id": "12a7e3d8",
   "metadata": {},
   "outputs": [
    {
     "data": {
      "text/html": [
       "<div>\n",
       "<style scoped>\n",
       "    .dataframe tbody tr th:only-of-type {\n",
       "        vertical-align: middle;\n",
       "    }\n",
       "\n",
       "    .dataframe tbody tr th {\n",
       "        vertical-align: top;\n",
       "    }\n",
       "\n",
       "    .dataframe thead th {\n",
       "        text-align: right;\n",
       "    }\n",
       "</style>\n",
       "<table border=\"1\" class=\"dataframe\">\n",
       "  <thead>\n",
       "    <tr style=\"text-align: right;\">\n",
       "      <th></th>\n",
       "      <th>Parch</th>\n",
       "      <th>Parch_sd</th>\n",
       "      <th>Parch_pct</th>\n",
       "    </tr>\n",
       "  </thead>\n",
       "  <tbody>\n",
       "    <tr>\n",
       "      <th>count</th>\n",
       "      <td>183.000000</td>\n",
       "      <td>183.000000</td>\n",
       "      <td>183.000000</td>\n",
       "    </tr>\n",
       "    <tr>\n",
       "      <th>mean</th>\n",
       "      <td>0.431694</td>\n",
       "      <td>0.409463</td>\n",
       "      <td>0.420765</td>\n",
       "    </tr>\n",
       "    <tr>\n",
       "      <th>std</th>\n",
       "      <td>0.737147</td>\n",
       "      <td>0.672210</td>\n",
       "      <td>0.697724</td>\n",
       "    </tr>\n",
       "    <tr>\n",
       "      <th>min</th>\n",
       "      <td>0.000000</td>\n",
       "      <td>0.000000</td>\n",
       "      <td>0.000000</td>\n",
       "    </tr>\n",
       "    <tr>\n",
       "      <th>25%</th>\n",
       "      <td>0.000000</td>\n",
       "      <td>0.000000</td>\n",
       "      <td>0.000000</td>\n",
       "    </tr>\n",
       "    <tr>\n",
       "      <th>50%</th>\n",
       "      <td>0.000000</td>\n",
       "      <td>0.000000</td>\n",
       "      <td>0.000000</td>\n",
       "    </tr>\n",
       "    <tr>\n",
       "      <th>75%</th>\n",
       "      <td>1.000000</td>\n",
       "      <td>1.000000</td>\n",
       "      <td>1.000000</td>\n",
       "    </tr>\n",
       "    <tr>\n",
       "      <th>max</th>\n",
       "      <td>4.000000</td>\n",
       "      <td>1.905988</td>\n",
       "      <td>2.000000</td>\n",
       "    </tr>\n",
       "  </tbody>\n",
       "</table>\n",
       "</div>"
      ],
      "text/plain": [
       "            Parch    Parch_sd   Parch_pct\n",
       "count  183.000000  183.000000  183.000000\n",
       "mean     0.431694    0.409463    0.420765\n",
       "std      0.737147    0.672210    0.697724\n",
       "min      0.000000    0.000000    0.000000\n",
       "25%      0.000000    0.000000    0.000000\n",
       "50%      0.000000    0.000000    0.000000\n",
       "75%      1.000000    1.000000    1.000000\n",
       "max      4.000000    1.905988    2.000000"
      ]
     },
     "execution_count": 93,
     "metadata": {},
     "output_type": "execute_result"
    }
   ],
   "source": [
    "dataOut['Parch_pct'] = np.where(\n",
    "    dataOut['Parch']<pl,\n",
    "    pl,\n",
    "    np.where(\n",
    "        dataOut['Parch']>pu,\n",
    "        pu,\n",
    "        dataOut['Parch']\n",
    "    )\n",
    ")\n",
    "dataOut[['Parch', 'Parch_sd', 'Parch_pct']].describe()"
   ]
  },
  {
   "cell_type": "markdown",
   "id": "984aeb70",
   "metadata": {},
   "source": [
    "### 1.5.\tAl comparar los métodos del inciso 4 contra “titanic.csv”, ¿Qué método (para cada columna) se acerca más a la realidad y por qué? "
   ]
  },
  {
   "cell_type": "code",
   "execution_count": 94,
   "id": "033c55e1",
   "metadata": {},
   "outputs": [],
   "source": [
    "dataCompleta = pd.read_csv('titanic.csv')"
   ]
  },
  {
   "cell_type": "code",
   "execution_count": 95,
   "id": "9d987bf0",
   "metadata": {},
   "outputs": [
    {
     "data": {
      "text/html": [
       "<div>\n",
       "<style scoped>\n",
       "    .dataframe tbody tr th:only-of-type {\n",
       "        vertical-align: middle;\n",
       "    }\n",
       "\n",
       "    .dataframe tbody tr th {\n",
       "        vertical-align: top;\n",
       "    }\n",
       "\n",
       "    .dataframe thead th {\n",
       "        text-align: right;\n",
       "    }\n",
       "</style>\n",
       "<table border=\"1\" class=\"dataframe\">\n",
       "  <thead>\n",
       "    <tr style=\"text-align: right;\">\n",
       "      <th></th>\n",
       "      <th>PassengerId</th>\n",
       "      <th>Survived</th>\n",
       "      <th>Pclass</th>\n",
       "      <th>Age</th>\n",
       "      <th>SibSp</th>\n",
       "      <th>Parch</th>\n",
       "      <th>Fare</th>\n",
       "    </tr>\n",
       "  </thead>\n",
       "  <tbody>\n",
       "    <tr>\n",
       "      <th>count</th>\n",
       "      <td>183.000000</td>\n",
       "      <td>183.000000</td>\n",
       "      <td>183.000000</td>\n",
       "      <td>183.000000</td>\n",
       "      <td>183.000000</td>\n",
       "      <td>183.000000</td>\n",
       "      <td>183.000000</td>\n",
       "    </tr>\n",
       "    <tr>\n",
       "      <th>mean</th>\n",
       "      <td>455.366120</td>\n",
       "      <td>0.672131</td>\n",
       "      <td>1.191257</td>\n",
       "      <td>35.674426</td>\n",
       "      <td>0.464481</td>\n",
       "      <td>0.475410</td>\n",
       "      <td>78.682469</td>\n",
       "    </tr>\n",
       "    <tr>\n",
       "      <th>std</th>\n",
       "      <td>247.052476</td>\n",
       "      <td>0.470725</td>\n",
       "      <td>0.515187</td>\n",
       "      <td>15.643866</td>\n",
       "      <td>0.644159</td>\n",
       "      <td>0.754617</td>\n",
       "      <td>76.347843</td>\n",
       "    </tr>\n",
       "    <tr>\n",
       "      <th>min</th>\n",
       "      <td>2.000000</td>\n",
       "      <td>0.000000</td>\n",
       "      <td>1.000000</td>\n",
       "      <td>0.920000</td>\n",
       "      <td>0.000000</td>\n",
       "      <td>0.000000</td>\n",
       "      <td>0.000000</td>\n",
       "    </tr>\n",
       "    <tr>\n",
       "      <th>25%</th>\n",
       "      <td>263.500000</td>\n",
       "      <td>0.000000</td>\n",
       "      <td>1.000000</td>\n",
       "      <td>24.000000</td>\n",
       "      <td>0.000000</td>\n",
       "      <td>0.000000</td>\n",
       "      <td>29.700000</td>\n",
       "    </tr>\n",
       "    <tr>\n",
       "      <th>50%</th>\n",
       "      <td>457.000000</td>\n",
       "      <td>1.000000</td>\n",
       "      <td>1.000000</td>\n",
       "      <td>36.000000</td>\n",
       "      <td>0.000000</td>\n",
       "      <td>0.000000</td>\n",
       "      <td>57.000000</td>\n",
       "    </tr>\n",
       "    <tr>\n",
       "      <th>75%</th>\n",
       "      <td>676.000000</td>\n",
       "      <td>1.000000</td>\n",
       "      <td>1.000000</td>\n",
       "      <td>47.500000</td>\n",
       "      <td>1.000000</td>\n",
       "      <td>1.000000</td>\n",
       "      <td>90.000000</td>\n",
       "    </tr>\n",
       "    <tr>\n",
       "      <th>max</th>\n",
       "      <td>890.000000</td>\n",
       "      <td>1.000000</td>\n",
       "      <td>3.000000</td>\n",
       "      <td>80.000000</td>\n",
       "      <td>3.000000</td>\n",
       "      <td>4.000000</td>\n",
       "      <td>512.329200</td>\n",
       "    </tr>\n",
       "  </tbody>\n",
       "</table>\n",
       "</div>"
      ],
      "text/plain": [
       "       PassengerId    Survived      Pclass         Age       SibSp  \\\n",
       "count   183.000000  183.000000  183.000000  183.000000  183.000000   \n",
       "mean    455.366120    0.672131    1.191257   35.674426    0.464481   \n",
       "std     247.052476    0.470725    0.515187   15.643866    0.644159   \n",
       "min       2.000000    0.000000    1.000000    0.920000    0.000000   \n",
       "25%     263.500000    0.000000    1.000000   24.000000    0.000000   \n",
       "50%     457.000000    1.000000    1.000000   36.000000    0.000000   \n",
       "75%     676.000000    1.000000    1.000000   47.500000    1.000000   \n",
       "max     890.000000    1.000000    3.000000   80.000000    3.000000   \n",
       "\n",
       "            Parch        Fare  \n",
       "count  183.000000  183.000000  \n",
       "mean     0.475410   78.682469  \n",
       "std      0.754617   76.347843  \n",
       "min      0.000000    0.000000  \n",
       "25%      0.000000   29.700000  \n",
       "50%      0.000000   57.000000  \n",
       "75%      1.000000   90.000000  \n",
       "max      4.000000  512.329200  "
      ]
     },
     "execution_count": 95,
     "metadata": {},
     "output_type": "execute_result"
    }
   ],
   "source": [
    "dataCompleta.describe()"
   ]
  },
  {
   "cell_type": "code",
   "execution_count": 96,
   "id": "79a1813d",
   "metadata": {},
   "outputs": [
    {
     "data": {
      "text/html": [
       "<div>\n",
       "<style scoped>\n",
       "    .dataframe tbody tr th:only-of-type {\n",
       "        vertical-align: middle;\n",
       "    }\n",
       "\n",
       "    .dataframe tbody tr th {\n",
       "        vertical-align: top;\n",
       "    }\n",
       "\n",
       "    .dataframe thead th {\n",
       "        text-align: right;\n",
       "    }\n",
       "</style>\n",
       "<table border=\"1\" class=\"dataframe\">\n",
       "  <thead>\n",
       "    <tr style=\"text-align: right;\">\n",
       "      <th></th>\n",
       "      <th>PassengerId</th>\n",
       "      <th>Survived</th>\n",
       "      <th>Pclass</th>\n",
       "      <th>Age</th>\n",
       "      <th>SibSp</th>\n",
       "      <th>Parch</th>\n",
       "      <th>Fare</th>\n",
       "      <th>Age_lm</th>\n",
       "      <th>Fare_lm</th>\n",
       "      <th>SibSp_lm</th>\n",
       "      <th>Parch_lm</th>\n",
       "      <th>Age_sd</th>\n",
       "      <th>Fare_sd</th>\n",
       "      <th>SibSp_sd</th>\n",
       "      <th>Parch_sd</th>\n",
       "      <th>Age_pct</th>\n",
       "      <th>Fare_pct</th>\n",
       "      <th>SibSp_pct</th>\n",
       "      <th>Parch_pct</th>\n",
       "    </tr>\n",
       "  </thead>\n",
       "  <tbody>\n",
       "    <tr>\n",
       "      <th>count</th>\n",
       "      <td>183.000000</td>\n",
       "      <td>183.000000</td>\n",
       "      <td>183.000000</td>\n",
       "      <td>183.000000</td>\n",
       "      <td>183.000000</td>\n",
       "      <td>183.000000</td>\n",
       "      <td>183.000000</td>\n",
       "      <td>183.000000</td>\n",
       "      <td>183.000000</td>\n",
       "      <td>183.000000</td>\n",
       "      <td>183.000000</td>\n",
       "      <td>183.000000</td>\n",
       "      <td>183.000000</td>\n",
       "      <td>183.000000</td>\n",
       "      <td>183.000000</td>\n",
       "      <td>183.000000</td>\n",
       "      <td>183.000000</td>\n",
       "      <td>183.000000</td>\n",
       "      <td>183.000000</td>\n",
       "    </tr>\n",
       "    <tr>\n",
       "      <th>mean</th>\n",
       "      <td>455.366120</td>\n",
       "      <td>0.672131</td>\n",
       "      <td>1.191257</td>\n",
       "      <td>35.597923</td>\n",
       "      <td>0.453552</td>\n",
       "      <td>0.431694</td>\n",
       "      <td>78.959191</td>\n",
       "      <td>35.597923</td>\n",
       "      <td>78.959191</td>\n",
       "      <td>0.253355</td>\n",
       "      <td>0.431694</td>\n",
       "      <td>35.576827</td>\n",
       "      <td>74.584493</td>\n",
       "      <td>0.424395</td>\n",
       "      <td>0.409463</td>\n",
       "      <td>35.795082</td>\n",
       "      <td>75.644913</td>\n",
       "      <td>0.387978</td>\n",
       "      <td>0.420765</td>\n",
       "    </tr>\n",
       "    <tr>\n",
       "      <th>std</th>\n",
       "      <td>247.052476</td>\n",
       "      <td>0.470725</td>\n",
       "      <td>0.515187</td>\n",
       "      <td>14.528916</td>\n",
       "      <td>0.643459</td>\n",
       "      <td>0.737147</td>\n",
       "      <td>75.314418</td>\n",
       "      <td>3.556026</td>\n",
       "      <td>9.094333</td>\n",
       "      <td>0.001641</td>\n",
       "      <td>0.269105</td>\n",
       "      <td>13.870960</td>\n",
       "      <td>58.390871</td>\n",
       "      <td>0.556198</td>\n",
       "      <td>0.672210</td>\n",
       "      <td>12.932786</td>\n",
       "      <td>60.561979</td>\n",
       "      <td>0.488626</td>\n",
       "      <td>0.697724</td>\n",
       "    </tr>\n",
       "    <tr>\n",
       "      <th>min</th>\n",
       "      <td>2.000000</td>\n",
       "      <td>0.000000</td>\n",
       "      <td>1.000000</td>\n",
       "      <td>0.920000</td>\n",
       "      <td>0.000000</td>\n",
       "      <td>0.000000</td>\n",
       "      <td>0.000000</td>\n",
       "      <td>23.113258</td>\n",
       "      <td>51.165840</td>\n",
       "      <td>0.252199</td>\n",
       "      <td>0.149566</td>\n",
       "      <td>6.540091</td>\n",
       "      <td>0.000000</td>\n",
       "      <td>0.000000</td>\n",
       "      <td>0.000000</td>\n",
       "      <td>15.100000</td>\n",
       "      <td>10.500000</td>\n",
       "      <td>0.000000</td>\n",
       "      <td>0.000000</td>\n",
       "    </tr>\n",
       "    <tr>\n",
       "      <th>25%</th>\n",
       "      <td>263.500000</td>\n",
       "      <td>0.000000</td>\n",
       "      <td>1.000000</td>\n",
       "      <td>25.000000</td>\n",
       "      <td>0.000000</td>\n",
       "      <td>0.000000</td>\n",
       "      <td>30.000000</td>\n",
       "      <td>36.918054</td>\n",
       "      <td>72.135068</td>\n",
       "      <td>0.252199</td>\n",
       "      <td>0.256759</td>\n",
       "      <td>25.000000</td>\n",
       "      <td>30.000000</td>\n",
       "      <td>0.000000</td>\n",
       "      <td>0.000000</td>\n",
       "      <td>25.000000</td>\n",
       "      <td>30.000000</td>\n",
       "      <td>0.000000</td>\n",
       "      <td>0.000000</td>\n",
       "    </tr>\n",
       "    <tr>\n",
       "      <th>50%</th>\n",
       "      <td>457.000000</td>\n",
       "      <td>1.000000</td>\n",
       "      <td>1.000000</td>\n",
       "      <td>35.000000</td>\n",
       "      <td>0.000000</td>\n",
       "      <td>0.000000</td>\n",
       "      <td>61.175000</td>\n",
       "      <td>36.918054</td>\n",
       "      <td>79.333459</td>\n",
       "      <td>0.252199</td>\n",
       "      <td>0.368150</td>\n",
       "      <td>35.000000</td>\n",
       "      <td>61.175000</td>\n",
       "      <td>0.000000</td>\n",
       "      <td>0.000000</td>\n",
       "      <td>35.000000</td>\n",
       "      <td>61.175000</td>\n",
       "      <td>0.000000</td>\n",
       "      <td>0.000000</td>\n",
       "    </tr>\n",
       "    <tr>\n",
       "      <th>75%</th>\n",
       "      <td>676.000000</td>\n",
       "      <td>1.000000</td>\n",
       "      <td>1.000000</td>\n",
       "      <td>46.500000</td>\n",
       "      <td>1.000000</td>\n",
       "      <td>1.000000</td>\n",
       "      <td>90.000000</td>\n",
       "      <td>36.918054</td>\n",
       "      <td>85.592930</td>\n",
       "      <td>0.254749</td>\n",
       "      <td>0.471144</td>\n",
       "      <td>46.500000</td>\n",
       "      <td>90.000000</td>\n",
       "      <td>1.000000</td>\n",
       "      <td>1.000000</td>\n",
       "      <td>46.500000</td>\n",
       "      <td>90.000000</td>\n",
       "      <td>1.000000</td>\n",
       "      <td>1.000000</td>\n",
       "    </tr>\n",
       "    <tr>\n",
       "      <th>max</th>\n",
       "      <td>890.000000</td>\n",
       "      <td>1.000000</td>\n",
       "      <td>3.000000</td>\n",
       "      <td>80.000000</td>\n",
       "      <td>3.000000</td>\n",
       "      <td>4.000000</td>\n",
       "      <td>512.329200</td>\n",
       "      <td>36.918054</td>\n",
       "      <td>100.665736</td>\n",
       "      <td>0.259849</td>\n",
       "      <td>1.980162</td>\n",
       "      <td>64.655756</td>\n",
       "      <td>229.588027</td>\n",
       "      <td>1.740470</td>\n",
       "      <td>1.905988</td>\n",
       "      <td>60.900000</td>\n",
       "      <td>245.521220</td>\n",
       "      <td>1.000000</td>\n",
       "      <td>2.000000</td>\n",
       "    </tr>\n",
       "  </tbody>\n",
       "</table>\n",
       "</div>"
      ],
      "text/plain": [
       "       PassengerId    Survived      Pclass         Age       SibSp  \\\n",
       "count   183.000000  183.000000  183.000000  183.000000  183.000000   \n",
       "mean    455.366120    0.672131    1.191257   35.597923    0.453552   \n",
       "std     247.052476    0.470725    0.515187   14.528916    0.643459   \n",
       "min       2.000000    0.000000    1.000000    0.920000    0.000000   \n",
       "25%     263.500000    0.000000    1.000000   25.000000    0.000000   \n",
       "50%     457.000000    1.000000    1.000000   35.000000    0.000000   \n",
       "75%     676.000000    1.000000    1.000000   46.500000    1.000000   \n",
       "max     890.000000    1.000000    3.000000   80.000000    3.000000   \n",
       "\n",
       "            Parch        Fare      Age_lm     Fare_lm    SibSp_lm    Parch_lm  \\\n",
       "count  183.000000  183.000000  183.000000  183.000000  183.000000  183.000000   \n",
       "mean     0.431694   78.959191   35.597923   78.959191    0.253355    0.431694   \n",
       "std      0.737147   75.314418    3.556026    9.094333    0.001641    0.269105   \n",
       "min      0.000000    0.000000   23.113258   51.165840    0.252199    0.149566   \n",
       "25%      0.000000   30.000000   36.918054   72.135068    0.252199    0.256759   \n",
       "50%      0.000000   61.175000   36.918054   79.333459    0.252199    0.368150   \n",
       "75%      1.000000   90.000000   36.918054   85.592930    0.254749    0.471144   \n",
       "max      4.000000  512.329200   36.918054  100.665736    0.259849    1.980162   \n",
       "\n",
       "           Age_sd     Fare_sd    SibSp_sd    Parch_sd     Age_pct    Fare_pct  \\\n",
       "count  183.000000  183.000000  183.000000  183.000000  183.000000  183.000000   \n",
       "mean    35.576827   74.584493    0.424395    0.409463   35.795082   75.644913   \n",
       "std     13.870960   58.390871    0.556198    0.672210   12.932786   60.561979   \n",
       "min      6.540091    0.000000    0.000000    0.000000   15.100000   10.500000   \n",
       "25%     25.000000   30.000000    0.000000    0.000000   25.000000   30.000000   \n",
       "50%     35.000000   61.175000    0.000000    0.000000   35.000000   61.175000   \n",
       "75%     46.500000   90.000000    1.000000    1.000000   46.500000   90.000000   \n",
       "max     64.655756  229.588027    1.740470    1.905988   60.900000  245.521220   \n",
       "\n",
       "        SibSp_pct   Parch_pct  \n",
       "count  183.000000  183.000000  \n",
       "mean     0.387978    0.420765  \n",
       "std      0.488626    0.697724  \n",
       "min      0.000000    0.000000  \n",
       "25%      0.000000    0.000000  \n",
       "50%      0.000000    0.000000  \n",
       "75%      1.000000    1.000000  \n",
       "max      1.000000    2.000000  "
      ]
     },
     "execution_count": 96,
     "metadata": {},
     "output_type": "execute_result"
    }
   ],
   "source": [
    "dataOut.describe()"
   ]
  },
  {
   "cell_type": "markdown",
   "id": "15a19521",
   "metadata": {},
   "source": [
    "dataOut es la tabla resultado de los datos modelados mediante los modelos de regresión estableciendo anteriormente. dataCompleta es la tabla de los datos originales de Titanic.csv. \n",
    "\n",
    "Al comparar las variables estadísticas de ambas tablas se puede deducir que para las columnas con missin value el método que más se acerca son:\n",
    "- SibSp : El método que mejor se acerca en torno a la mayoría de los estadísticos es Standard deviation approach. Esto porque al hacer alguna imputación de cualquier tipo movería la data hacia ese estadístico por lo tanto, era mejor tomar la desviación estándar.\n",
    "\n",
    "- Age: En edad considero que el Standard deviation approach es la mejor opción ya que se adapta de mejor a la forma de la data original. No se alejan tanto los estadísticas con relación a los originales.\n",
    "\n",
    "- Parch: En esta columna creo que es mejor la imputación por la mediana. Ya que los datos únicos no son muchos considero que la imputación por la mediana mantiene la forma de los datos al igual que la data original.\n",
    "\n",
    "- Fare: Para esta variable es mejor Percentile approach ya que la data se comporta de mejor manera al segmentarla por lo tanto la modelación por los percentiles permite que los estadísticos se acerquen a la data original.\n",
    "\n",
    "- Embarked y Sex: En el caso de estas variables al ser categóricas, la única opción era la imputación por la moda."
   ]
  },
  {
   "cell_type": "markdown",
   "id": "0d946d3d",
   "metadata": {},
   "source": [
    "### 1.6.\tConclusiones"
   ]
  },
  {
   "cell_type": "markdown",
   "id": "a6cce099",
   "metadata": {},
   "source": [
    "Originalmente se tenían 6 columnas con missing values. Las cuáles son: Sex, Age, SibSp, Parch, Fare y Embarked. Casi todas las columnas con missin value eran numéricas excepto Sex y Embarked que son categóricas."
   ]
  },
  {
   "cell_type": "markdown",
   "id": "070df25f",
   "metadata": {},
   "source": [
    "Para el caso de las variables categóricas era mejor utilizar la imputación por la moda. En el caso de las variables númericas variaron en torno al método que adaptaba al comparar la data con la tabla original.\n",
    "\n",
    "Para variables numéricas con gran dispersión me pareció que era mejor Standar deviation approach, esto para que la data no se moviera en base en algún dato en específico como la media y la moda. "
   ]
  },
  {
   "cell_type": "markdown",
   "id": "8e71e951",
   "metadata": {},
   "source": [
    "# Parte 2:"
   ]
  },
  {
   "cell_type": "markdown",
   "id": "292cef2d",
   "metadata": {},
   "source": [
    "### 2.1.\tLuego del pre-procesamiento de la data con Missing Values, normalice las columnas numéricas por los métodos:\n",
    "    a.Standarization -> Promedio 0, std 1. De lo contrario está mal.\n",
    "    b.MinMaxScaling -> scaling escalar [0,1]\n",
    "    c.MaxAbsScaler -> Obviar\n"
   ]
  },
  {
   "cell_type": "markdown",
   "id": "59e8cc56",
   "metadata": {},
   "source": [
    "#### 2.1.1. Standarización"
   ]
  },
  {
   "cell_type": "code",
   "execution_count": 97,
   "id": "a11345f9",
   "metadata": {},
   "outputs": [],
   "source": [
    "from sklearn.preprocessing import StandardScaler"
   ]
  },
  {
   "cell_type": "code",
   "execution_count": 124,
   "id": "6f4cb9f8",
   "metadata": {},
   "outputs": [],
   "source": [
    "scaler = StandardScaler()\n",
    "df_z = dataOut.copy()\n",
    "for col in df_z.select_dtypes(include=['float', 'int']).columns:\n",
    "    df_z[col+'_z'] = scaler.fit_transform(df_z[[col]])"
   ]
  },
  {
   "cell_type": "code",
   "execution_count": 125,
   "id": "08ad9e25",
   "metadata": {},
   "outputs": [
    {
     "data": {
      "text/html": [
       "<div>\n",
       "<style scoped>\n",
       "    .dataframe tbody tr th:only-of-type {\n",
       "        vertical-align: middle;\n",
       "    }\n",
       "\n",
       "    .dataframe tbody tr th {\n",
       "        vertical-align: top;\n",
       "    }\n",
       "\n",
       "    .dataframe thead th {\n",
       "        text-align: right;\n",
       "    }\n",
       "</style>\n",
       "<table border=\"1\" class=\"dataframe\">\n",
       "  <thead>\n",
       "    <tr style=\"text-align: right;\">\n",
       "      <th></th>\n",
       "      <th>PassengerId</th>\n",
       "      <th>Survived</th>\n",
       "      <th>Pclass</th>\n",
       "      <th>Name</th>\n",
       "      <th>Sex</th>\n",
       "      <th>Age</th>\n",
       "      <th>SibSp</th>\n",
       "      <th>Parch</th>\n",
       "      <th>Ticket</th>\n",
       "      <th>Fare</th>\n",
       "      <th>...</th>\n",
       "      <th>SibSp_lm_z</th>\n",
       "      <th>Parch_lm_z</th>\n",
       "      <th>Age_sd_z</th>\n",
       "      <th>Fare_sd_z</th>\n",
       "      <th>SibSp_sd_z</th>\n",
       "      <th>Parch_sd_z</th>\n",
       "      <th>Age_pct_z</th>\n",
       "      <th>Fare_pct_z</th>\n",
       "      <th>SibSp_pct_z</th>\n",
       "      <th>Parch_pct_z</th>\n",
       "    </tr>\n",
       "  </thead>\n",
       "  <tbody>\n",
       "    <tr>\n",
       "      <th>0</th>\n",
       "      <td>2</td>\n",
       "      <td>1</td>\n",
       "      <td>1</td>\n",
       "      <td>Cumings, Mrs. John Bradley (Florence Briggs Th...</td>\n",
       "      <td>male</td>\n",
       "      <td>38.0</td>\n",
       "      <td>1.0</td>\n",
       "      <td>0.0</td>\n",
       "      <td>PC 17599</td>\n",
       "      <td>71.2833</td>\n",
       "      <td>...</td>\n",
       "      <td>0.851565</td>\n",
       "      <td>-0.102198</td>\n",
       "      <td>0.175173</td>\n",
       "      <td>-0.056691</td>\n",
       "      <td>1.037732</td>\n",
       "      <td>-0.610801</td>\n",
       "      <td>0.170958</td>\n",
       "      <td>-0.072217</td>\n",
       "      <td>1.255972</td>\n",
       "      <td>-0.604708</td>\n",
       "    </tr>\n",
       "    <tr>\n",
       "      <th>1</th>\n",
       "      <td>4</td>\n",
       "      <td>1</td>\n",
       "      <td>1</td>\n",
       "      <td>Futrelle, Mrs. Jacques Heath (Lily May Peel)</td>\n",
       "      <td>female</td>\n",
       "      <td>35.0</td>\n",
       "      <td>1.0</td>\n",
       "      <td>0.0</td>\n",
       "      <td>113803</td>\n",
       "      <td>53.1000</td>\n",
       "      <td>...</td>\n",
       "      <td>0.851565</td>\n",
       "      <td>-0.344292</td>\n",
       "      <td>-0.041699</td>\n",
       "      <td>-0.368952</td>\n",
       "      <td>1.037732</td>\n",
       "      <td>-0.610801</td>\n",
       "      <td>-0.061647</td>\n",
       "      <td>-0.373283</td>\n",
       "      <td>1.255972</td>\n",
       "      <td>-0.604708</td>\n",
       "    </tr>\n",
       "    <tr>\n",
       "      <th>2</th>\n",
       "      <td>7</td>\n",
       "      <td>0</td>\n",
       "      <td>1</td>\n",
       "      <td>McCarthy, Mr. Timothy J</td>\n",
       "      <td>male</td>\n",
       "      <td>54.0</td>\n",
       "      <td>0.0</td>\n",
       "      <td>0.0</td>\n",
       "      <td>17463</td>\n",
       "      <td>51.8625</td>\n",
       "      <td>...</td>\n",
       "      <td>-0.706799</td>\n",
       "      <td>-0.360768</td>\n",
       "      <td>1.331827</td>\n",
       "      <td>-0.390204</td>\n",
       "      <td>-0.765121</td>\n",
       "      <td>-0.610801</td>\n",
       "      <td>1.411518</td>\n",
       "      <td>-0.393773</td>\n",
       "      <td>-0.796196</td>\n",
       "      <td>-0.604708</td>\n",
       "    </tr>\n",
       "    <tr>\n",
       "      <th>3</th>\n",
       "      <td>11</td>\n",
       "      <td>1</td>\n",
       "      <td>3</td>\n",
       "      <td>Sandstrom, Miss. Marguerite Rut</td>\n",
       "      <td>female</td>\n",
       "      <td>35.0</td>\n",
       "      <td>1.0</td>\n",
       "      <td>0.0</td>\n",
       "      <td>PP 9549</td>\n",
       "      <td>16.7000</td>\n",
       "      <td>...</td>\n",
       "      <td>0.851565</td>\n",
       "      <td>-0.828925</td>\n",
       "      <td>-0.041699</td>\n",
       "      <td>-0.994047</td>\n",
       "      <td>1.037732</td>\n",
       "      <td>-0.610801</td>\n",
       "      <td>-0.061647</td>\n",
       "      <td>-0.975969</td>\n",
       "      <td>1.255972</td>\n",
       "      <td>-0.604708</td>\n",
       "    </tr>\n",
       "    <tr>\n",
       "      <th>4</th>\n",
       "      <td>12</td>\n",
       "      <td>1</td>\n",
       "      <td>1</td>\n",
       "      <td>Bonnell, Miss. Elizabeth</td>\n",
       "      <td>female</td>\n",
       "      <td>58.0</td>\n",
       "      <td>0.0</td>\n",
       "      <td>0.0</td>\n",
       "      <td>113783</td>\n",
       "      <td>26.5500</td>\n",
       "      <td>...</td>\n",
       "      <td>-0.706799</td>\n",
       "      <td>-0.697781</td>\n",
       "      <td>1.620990</td>\n",
       "      <td>-0.824894</td>\n",
       "      <td>-0.765121</td>\n",
       "      <td>-0.610801</td>\n",
       "      <td>1.721658</td>\n",
       "      <td>-0.812880</td>\n",
       "      <td>-0.796196</td>\n",
       "      <td>-0.604708</td>\n",
       "    </tr>\n",
       "  </tbody>\n",
       "</table>\n",
       "<p>5 rows × 43 columns</p>\n",
       "</div>"
      ],
      "text/plain": [
       "   PassengerId  Survived  Pclass  \\\n",
       "0            2         1       1   \n",
       "1            4         1       1   \n",
       "2            7         0       1   \n",
       "3           11         1       3   \n",
       "4           12         1       1   \n",
       "\n",
       "                                                Name     Sex   Age  SibSp  \\\n",
       "0  Cumings, Mrs. John Bradley (Florence Briggs Th...    male  38.0    1.0   \n",
       "1       Futrelle, Mrs. Jacques Heath (Lily May Peel)  female  35.0    1.0   \n",
       "2                            McCarthy, Mr. Timothy J    male  54.0    0.0   \n",
       "3                    Sandstrom, Miss. Marguerite Rut  female  35.0    1.0   \n",
       "4                           Bonnell, Miss. Elizabeth  female  58.0    0.0   \n",
       "\n",
       "   Parch    Ticket     Fare  ... SibSp_lm_z Parch_lm_z  Age_sd_z  Fare_sd_z  \\\n",
       "0    0.0  PC 17599  71.2833  ...   0.851565  -0.102198  0.175173  -0.056691   \n",
       "1    0.0    113803  53.1000  ...   0.851565  -0.344292 -0.041699  -0.368952   \n",
       "2    0.0     17463  51.8625  ...  -0.706799  -0.360768  1.331827  -0.390204   \n",
       "3    0.0   PP 9549  16.7000  ...   0.851565  -0.828925 -0.041699  -0.994047   \n",
       "4    0.0    113783  26.5500  ...  -0.706799  -0.697781  1.620990  -0.824894   \n",
       "\n",
       "   SibSp_sd_z  Parch_sd_z  Age_pct_z  Fare_pct_z  SibSp_pct_z  Parch_pct_z  \n",
       "0    1.037732   -0.610801   0.170958   -0.072217     1.255972    -0.604708  \n",
       "1    1.037732   -0.610801  -0.061647   -0.373283     1.255972    -0.604708  \n",
       "2   -0.765121   -0.610801   1.411518   -0.393773    -0.796196    -0.604708  \n",
       "3    1.037732   -0.610801  -0.061647   -0.975969     1.255972    -0.604708  \n",
       "4   -0.765121   -0.610801   1.721658   -0.812880    -0.796196    -0.604708  \n",
       "\n",
       "[5 rows x 43 columns]"
      ]
     },
     "execution_count": 125,
     "metadata": {},
     "output_type": "execute_result"
    }
   ],
   "source": [
    "df_z.head()"
   ]
  },
  {
   "cell_type": "code",
   "execution_count": 126,
   "id": "b69cc821",
   "metadata": {},
   "outputs": [
    {
     "data": {
      "text/html": [
       "<div>\n",
       "<style scoped>\n",
       "    .dataframe tbody tr th:only-of-type {\n",
       "        vertical-align: middle;\n",
       "    }\n",
       "\n",
       "    .dataframe tbody tr th {\n",
       "        vertical-align: top;\n",
       "    }\n",
       "\n",
       "    .dataframe thead th {\n",
       "        text-align: right;\n",
       "    }\n",
       "</style>\n",
       "<table border=\"1\" class=\"dataframe\">\n",
       "  <thead>\n",
       "    <tr style=\"text-align: right;\">\n",
       "      <th></th>\n",
       "      <th>PassengerId</th>\n",
       "      <th>Survived</th>\n",
       "      <th>Pclass</th>\n",
       "      <th>Age</th>\n",
       "      <th>SibSp</th>\n",
       "      <th>Parch</th>\n",
       "      <th>Fare</th>\n",
       "      <th>Age_lm</th>\n",
       "      <th>Fare_lm</th>\n",
       "      <th>SibSp_lm</th>\n",
       "      <th>...</th>\n",
       "      <th>SibSp_lm_z</th>\n",
       "      <th>Parch_lm_z</th>\n",
       "      <th>Age_sd_z</th>\n",
       "      <th>Fare_sd_z</th>\n",
       "      <th>SibSp_sd_z</th>\n",
       "      <th>Parch_sd_z</th>\n",
       "      <th>Age_pct_z</th>\n",
       "      <th>Fare_pct_z</th>\n",
       "      <th>SibSp_pct_z</th>\n",
       "      <th>Parch_pct_z</th>\n",
       "    </tr>\n",
       "  </thead>\n",
       "  <tbody>\n",
       "    <tr>\n",
       "      <th>count</th>\n",
       "      <td>183.000000</td>\n",
       "      <td>183.000000</td>\n",
       "      <td>183.000000</td>\n",
       "      <td>183.000000</td>\n",
       "      <td>183.000000</td>\n",
       "      <td>183.000000</td>\n",
       "      <td>183.000000</td>\n",
       "      <td>183.000000</td>\n",
       "      <td>183.000000</td>\n",
       "      <td>183.000000</td>\n",
       "      <td>...</td>\n",
       "      <td>1.830000e+02</td>\n",
       "      <td>1.830000e+02</td>\n",
       "      <td>1.830000e+02</td>\n",
       "      <td>1.830000e+02</td>\n",
       "      <td>1.830000e+02</td>\n",
       "      <td>1.830000e+02</td>\n",
       "      <td>1.830000e+02</td>\n",
       "      <td>1.830000e+02</td>\n",
       "      <td>1.830000e+02</td>\n",
       "      <td>1.830000e+02</td>\n",
       "    </tr>\n",
       "    <tr>\n",
       "      <th>mean</th>\n",
       "      <td>455.366120</td>\n",
       "      <td>0.672131</td>\n",
       "      <td>1.191257</td>\n",
       "      <td>35.597923</td>\n",
       "      <td>0.453552</td>\n",
       "      <td>0.431694</td>\n",
       "      <td>78.959191</td>\n",
       "      <td>35.597923</td>\n",
       "      <td>78.959191</td>\n",
       "      <td>0.253355</td>\n",
       "      <td>...</td>\n",
       "      <td>5.356250e-14</td>\n",
       "      <td>-7.280151e-18</td>\n",
       "      <td>-2.086977e-16</td>\n",
       "      <td>8.736181e-17</td>\n",
       "      <td>-6.309464e-17</td>\n",
       "      <td>-4.853434e-17</td>\n",
       "      <td>1.941374e-17</td>\n",
       "      <td>2.426717e-17</td>\n",
       "      <td>-9.706868e-18</td>\n",
       "      <td>-6.794808e-17</td>\n",
       "    </tr>\n",
       "    <tr>\n",
       "      <th>std</th>\n",
       "      <td>247.052476</td>\n",
       "      <td>0.470725</td>\n",
       "      <td>0.515187</td>\n",
       "      <td>14.528916</td>\n",
       "      <td>0.643459</td>\n",
       "      <td>0.737147</td>\n",
       "      <td>75.314418</td>\n",
       "      <td>3.556026</td>\n",
       "      <td>9.094333</td>\n",
       "      <td>0.001641</td>\n",
       "      <td>...</td>\n",
       "      <td>1.002743e+00</td>\n",
       "      <td>1.002743e+00</td>\n",
       "      <td>1.002743e+00</td>\n",
       "      <td>1.002743e+00</td>\n",
       "      <td>1.002743e+00</td>\n",
       "      <td>1.002743e+00</td>\n",
       "      <td>1.002743e+00</td>\n",
       "      <td>1.002743e+00</td>\n",
       "      <td>1.002743e+00</td>\n",
       "      <td>1.002743e+00</td>\n",
       "    </tr>\n",
       "    <tr>\n",
       "      <th>min</th>\n",
       "      <td>2.000000</td>\n",
       "      <td>0.000000</td>\n",
       "      <td>1.000000</td>\n",
       "      <td>0.920000</td>\n",
       "      <td>0.000000</td>\n",
       "      <td>0.000000</td>\n",
       "      <td>0.000000</td>\n",
       "      <td>23.113258</td>\n",
       "      <td>51.165840</td>\n",
       "      <td>0.252199</td>\n",
       "      <td>...</td>\n",
       "      <td>-7.067991e-01</td>\n",
       "      <td>-1.051270e+00</td>\n",
       "      <td>-2.099090e+00</td>\n",
       "      <td>-1.280836e+00</td>\n",
       "      <td>-7.651214e-01</td>\n",
       "      <td>-6.108010e-01</td>\n",
       "      <td>-1.604593e+00</td>\n",
       "      <td>-1.078625e+00</td>\n",
       "      <td>-7.961963e-01</td>\n",
       "      <td>-6.047079e-01</td>\n",
       "    </tr>\n",
       "    <tr>\n",
       "      <th>25%</th>\n",
       "      <td>263.500000</td>\n",
       "      <td>0.000000</td>\n",
       "      <td>1.000000</td>\n",
       "      <td>25.000000</td>\n",
       "      <td>0.000000</td>\n",
       "      <td>0.000000</td>\n",
       "      <td>30.000000</td>\n",
       "      <td>36.918054</td>\n",
       "      <td>72.135068</td>\n",
       "      <td>0.252199</td>\n",
       "      <td>...</td>\n",
       "      <td>-7.067991e-01</td>\n",
       "      <td>-6.518474e-01</td>\n",
       "      <td>-7.646078e-01</td>\n",
       "      <td>-7.656473e-01</td>\n",
       "      <td>-7.651214e-01</td>\n",
       "      <td>-6.108010e-01</td>\n",
       "      <td>-8.369966e-01</td>\n",
       "      <td>-7.557570e-01</td>\n",
       "      <td>-7.961963e-01</td>\n",
       "      <td>-6.047079e-01</td>\n",
       "    </tr>\n",
       "    <tr>\n",
       "      <th>50%</th>\n",
       "      <td>457.000000</td>\n",
       "      <td>1.000000</td>\n",
       "      <td>1.000000</td>\n",
       "      <td>35.000000</td>\n",
       "      <td>0.000000</td>\n",
       "      <td>0.000000</td>\n",
       "      <td>61.175000</td>\n",
       "      <td>36.918054</td>\n",
       "      <td>79.333459</td>\n",
       "      <td>0.252199</td>\n",
       "      <td>...</td>\n",
       "      <td>-7.067991e-01</td>\n",
       "      <td>-2.367804e-01</td>\n",
       "      <td>-4.169934e-02</td>\n",
       "      <td>-2.302805e-01</td>\n",
       "      <td>-7.651214e-01</td>\n",
       "      <td>-6.108010e-01</td>\n",
       "      <td>-6.164668e-02</td>\n",
       "      <td>-2.395828e-01</td>\n",
       "      <td>-7.961963e-01</td>\n",
       "      <td>-6.047079e-01</td>\n",
       "    </tr>\n",
       "    <tr>\n",
       "      <th>75%</th>\n",
       "      <td>676.000000</td>\n",
       "      <td>1.000000</td>\n",
       "      <td>1.000000</td>\n",
       "      <td>46.500000</td>\n",
       "      <td>1.000000</td>\n",
       "      <td>1.000000</td>\n",
       "      <td>90.000000</td>\n",
       "      <td>36.918054</td>\n",
       "      <td>85.592930</td>\n",
       "      <td>0.254749</td>\n",
       "      <td>...</td>\n",
       "      <td>8.515651e-01</td>\n",
       "      <td>1.469984e-01</td>\n",
       "      <td>7.896454e-01</td>\n",
       "      <td>2.647297e-01</td>\n",
       "      <td>1.037732e+00</td>\n",
       "      <td>8.809113e-01</td>\n",
       "      <td>8.300058e-01</td>\n",
       "      <td>2.376816e-01</td>\n",
       "      <td>1.255972e+00</td>\n",
       "      <td>8.324550e-01</td>\n",
       "    </tr>\n",
       "    <tr>\n",
       "      <th>max</th>\n",
       "      <td>890.000000</td>\n",
       "      <td>1.000000</td>\n",
       "      <td>3.000000</td>\n",
       "      <td>80.000000</td>\n",
       "      <td>3.000000</td>\n",
       "      <td>4.000000</td>\n",
       "      <td>512.329200</td>\n",
       "      <td>36.918054</td>\n",
       "      <td>100.665736</td>\n",
       "      <td>0.259849</td>\n",
       "      <td>...</td>\n",
       "      <td>3.968293e+00</td>\n",
       "      <td>5.769930e+00</td>\n",
       "      <td>2.102140e+00</td>\n",
       "      <td>2.661868e+00</td>\n",
       "      <td>2.372691e+00</td>\n",
       "      <td>2.232384e+00</td>\n",
       "      <td>1.946510e+00</td>\n",
       "      <td>2.812695e+00</td>\n",
       "      <td>1.255972e+00</td>\n",
       "      <td>2.269618e+00</td>\n",
       "    </tr>\n",
       "  </tbody>\n",
       "</table>\n",
       "<p>8 rows × 38 columns</p>\n",
       "</div>"
      ],
      "text/plain": [
       "       PassengerId    Survived      Pclass         Age       SibSp  \\\n",
       "count   183.000000  183.000000  183.000000  183.000000  183.000000   \n",
       "mean    455.366120    0.672131    1.191257   35.597923    0.453552   \n",
       "std     247.052476    0.470725    0.515187   14.528916    0.643459   \n",
       "min       2.000000    0.000000    1.000000    0.920000    0.000000   \n",
       "25%     263.500000    0.000000    1.000000   25.000000    0.000000   \n",
       "50%     457.000000    1.000000    1.000000   35.000000    0.000000   \n",
       "75%     676.000000    1.000000    1.000000   46.500000    1.000000   \n",
       "max     890.000000    1.000000    3.000000   80.000000    3.000000   \n",
       "\n",
       "            Parch        Fare      Age_lm     Fare_lm    SibSp_lm  ...  \\\n",
       "count  183.000000  183.000000  183.000000  183.000000  183.000000  ...   \n",
       "mean     0.431694   78.959191   35.597923   78.959191    0.253355  ...   \n",
       "std      0.737147   75.314418    3.556026    9.094333    0.001641  ...   \n",
       "min      0.000000    0.000000   23.113258   51.165840    0.252199  ...   \n",
       "25%      0.000000   30.000000   36.918054   72.135068    0.252199  ...   \n",
       "50%      0.000000   61.175000   36.918054   79.333459    0.252199  ...   \n",
       "75%      1.000000   90.000000   36.918054   85.592930    0.254749  ...   \n",
       "max      4.000000  512.329200   36.918054  100.665736    0.259849  ...   \n",
       "\n",
       "         SibSp_lm_z    Parch_lm_z      Age_sd_z     Fare_sd_z    SibSp_sd_z  \\\n",
       "count  1.830000e+02  1.830000e+02  1.830000e+02  1.830000e+02  1.830000e+02   \n",
       "mean   5.356250e-14 -7.280151e-18 -2.086977e-16  8.736181e-17 -6.309464e-17   \n",
       "std    1.002743e+00  1.002743e+00  1.002743e+00  1.002743e+00  1.002743e+00   \n",
       "min   -7.067991e-01 -1.051270e+00 -2.099090e+00 -1.280836e+00 -7.651214e-01   \n",
       "25%   -7.067991e-01 -6.518474e-01 -7.646078e-01 -7.656473e-01 -7.651214e-01   \n",
       "50%   -7.067991e-01 -2.367804e-01 -4.169934e-02 -2.302805e-01 -7.651214e-01   \n",
       "75%    8.515651e-01  1.469984e-01  7.896454e-01  2.647297e-01  1.037732e+00   \n",
       "max    3.968293e+00  5.769930e+00  2.102140e+00  2.661868e+00  2.372691e+00   \n",
       "\n",
       "         Parch_sd_z     Age_pct_z    Fare_pct_z   SibSp_pct_z   Parch_pct_z  \n",
       "count  1.830000e+02  1.830000e+02  1.830000e+02  1.830000e+02  1.830000e+02  \n",
       "mean  -4.853434e-17  1.941374e-17  2.426717e-17 -9.706868e-18 -6.794808e-17  \n",
       "std    1.002743e+00  1.002743e+00  1.002743e+00  1.002743e+00  1.002743e+00  \n",
       "min   -6.108010e-01 -1.604593e+00 -1.078625e+00 -7.961963e-01 -6.047079e-01  \n",
       "25%   -6.108010e-01 -8.369966e-01 -7.557570e-01 -7.961963e-01 -6.047079e-01  \n",
       "50%   -6.108010e-01 -6.164668e-02 -2.395828e-01 -7.961963e-01 -6.047079e-01  \n",
       "75%    8.809113e-01  8.300058e-01  2.376816e-01  1.255972e+00  8.324550e-01  \n",
       "max    2.232384e+00  1.946510e+00  2.812695e+00  1.255972e+00  2.269618e+00  \n",
       "\n",
       "[8 rows x 38 columns]"
      ]
     },
     "execution_count": 126,
     "metadata": {},
     "output_type": "execute_result"
    }
   ],
   "source": [
    "df_z.describe()"
   ]
  },
  {
   "cell_type": "markdown",
   "id": "dc0a44e8",
   "metadata": {},
   "source": [
    "#### 2.1.2. MinMaxScaling"
   ]
  },
  {
   "cell_type": "code",
   "execution_count": 127,
   "id": "5469f2fc",
   "metadata": {},
   "outputs": [],
   "source": [
    "from sklearn.preprocessing import MinMaxScaler"
   ]
  },
  {
   "cell_type": "code",
   "execution_count": 128,
   "id": "77bd28f5",
   "metadata": {},
   "outputs": [],
   "source": [
    "scaler = MinMaxScaler()\n",
    "df_norm = dataOut.copy()\n",
    "for col in df_norm.select_dtypes(include=['float', 'int']).columns:\n",
    "    df_norm[col+'_norm'] = scaler.fit_transform(df_norm[[col]])"
   ]
  },
  {
   "cell_type": "code",
   "execution_count": 129,
   "id": "882d573f",
   "metadata": {},
   "outputs": [
    {
     "data": {
      "text/html": [
       "<div>\n",
       "<style scoped>\n",
       "    .dataframe tbody tr th:only-of-type {\n",
       "        vertical-align: middle;\n",
       "    }\n",
       "\n",
       "    .dataframe tbody tr th {\n",
       "        vertical-align: top;\n",
       "    }\n",
       "\n",
       "    .dataframe thead th {\n",
       "        text-align: right;\n",
       "    }\n",
       "</style>\n",
       "<table border=\"1\" class=\"dataframe\">\n",
       "  <thead>\n",
       "    <tr style=\"text-align: right;\">\n",
       "      <th></th>\n",
       "      <th>PassengerId</th>\n",
       "      <th>Survived</th>\n",
       "      <th>Pclass</th>\n",
       "      <th>Name</th>\n",
       "      <th>Sex</th>\n",
       "      <th>Age</th>\n",
       "      <th>SibSp</th>\n",
       "      <th>Parch</th>\n",
       "      <th>Ticket</th>\n",
       "      <th>Fare</th>\n",
       "      <th>...</th>\n",
       "      <th>SibSp_lm_norm</th>\n",
       "      <th>Parch_lm_norm</th>\n",
       "      <th>Age_sd_norm</th>\n",
       "      <th>Fare_sd_norm</th>\n",
       "      <th>SibSp_sd_norm</th>\n",
       "      <th>Parch_sd_norm</th>\n",
       "      <th>Age_pct_norm</th>\n",
       "      <th>Fare_pct_norm</th>\n",
       "      <th>SibSp_pct_norm</th>\n",
       "      <th>Parch_pct_norm</th>\n",
       "    </tr>\n",
       "  </thead>\n",
       "  <tbody>\n",
       "    <tr>\n",
       "      <th>0</th>\n",
       "      <td>2</td>\n",
       "      <td>1</td>\n",
       "      <td>1</td>\n",
       "      <td>Cumings, Mrs. John Bradley (Florence Briggs Th...</td>\n",
       "      <td>male</td>\n",
       "      <td>38.0</td>\n",
       "      <td>1.0</td>\n",
       "      <td>0.0</td>\n",
       "      <td>PC 17599</td>\n",
       "      <td>71.2833</td>\n",
       "      <td>...</td>\n",
       "      <td>0.333333</td>\n",
       "      <td>0.139136</td>\n",
       "      <td>0.541333</td>\n",
       "      <td>0.310484</td>\n",
       "      <td>0.574557</td>\n",
       "      <td>0.0</td>\n",
       "      <td>0.500000</td>\n",
       "      <td>0.258629</td>\n",
       "      <td>1.0</td>\n",
       "      <td>0.0</td>\n",
       "    </tr>\n",
       "    <tr>\n",
       "      <th>1</th>\n",
       "      <td>4</td>\n",
       "      <td>1</td>\n",
       "      <td>1</td>\n",
       "      <td>Futrelle, Mrs. Jacques Heath (Lily May Peel)</td>\n",
       "      <td>female</td>\n",
       "      <td>35.0</td>\n",
       "      <td>1.0</td>\n",
       "      <td>0.0</td>\n",
       "      <td>113803</td>\n",
       "      <td>53.1000</td>\n",
       "      <td>...</td>\n",
       "      <td>0.333333</td>\n",
       "      <td>0.103644</td>\n",
       "      <td>0.489711</td>\n",
       "      <td>0.231284</td>\n",
       "      <td>0.574557</td>\n",
       "      <td>0.0</td>\n",
       "      <td>0.434498</td>\n",
       "      <td>0.181260</td>\n",
       "      <td>1.0</td>\n",
       "      <td>0.0</td>\n",
       "    </tr>\n",
       "    <tr>\n",
       "      <th>2</th>\n",
       "      <td>7</td>\n",
       "      <td>0</td>\n",
       "      <td>1</td>\n",
       "      <td>McCarthy, Mr. Timothy J</td>\n",
       "      <td>male</td>\n",
       "      <td>54.0</td>\n",
       "      <td>0.0</td>\n",
       "      <td>0.0</td>\n",
       "      <td>17463</td>\n",
       "      <td>51.8625</td>\n",
       "      <td>...</td>\n",
       "      <td>0.000000</td>\n",
       "      <td>0.101229</td>\n",
       "      <td>0.816646</td>\n",
       "      <td>0.225894</td>\n",
       "      <td>0.000000</td>\n",
       "      <td>0.0</td>\n",
       "      <td>0.849345</td>\n",
       "      <td>0.175995</td>\n",
       "      <td>0.0</td>\n",
       "      <td>0.0</td>\n",
       "    </tr>\n",
       "    <tr>\n",
       "      <th>3</th>\n",
       "      <td>11</td>\n",
       "      <td>1</td>\n",
       "      <td>3</td>\n",
       "      <td>Sandstrom, Miss. Marguerite Rut</td>\n",
       "      <td>female</td>\n",
       "      <td>35.0</td>\n",
       "      <td>1.0</td>\n",
       "      <td>0.0</td>\n",
       "      <td>PP 9549</td>\n",
       "      <td>16.7000</td>\n",
       "      <td>...</td>\n",
       "      <td>0.333333</td>\n",
       "      <td>0.032596</td>\n",
       "      <td>0.489711</td>\n",
       "      <td>0.072739</td>\n",
       "      <td>0.574557</td>\n",
       "      <td>0.0</td>\n",
       "      <td>0.434498</td>\n",
       "      <td>0.026381</td>\n",
       "      <td>1.0</td>\n",
       "      <td>0.0</td>\n",
       "    </tr>\n",
       "    <tr>\n",
       "      <th>4</th>\n",
       "      <td>12</td>\n",
       "      <td>1</td>\n",
       "      <td>1</td>\n",
       "      <td>Bonnell, Miss. Elizabeth</td>\n",
       "      <td>female</td>\n",
       "      <td>58.0</td>\n",
       "      <td>0.0</td>\n",
       "      <td>0.0</td>\n",
       "      <td>113783</td>\n",
       "      <td>26.5500</td>\n",
       "      <td>...</td>\n",
       "      <td>0.000000</td>\n",
       "      <td>0.051822</td>\n",
       "      <td>0.885474</td>\n",
       "      <td>0.115642</td>\n",
       "      <td>0.000000</td>\n",
       "      <td>0.0</td>\n",
       "      <td>0.936681</td>\n",
       "      <td>0.068292</td>\n",
       "      <td>0.0</td>\n",
       "      <td>0.0</td>\n",
       "    </tr>\n",
       "  </tbody>\n",
       "</table>\n",
       "<p>5 rows × 43 columns</p>\n",
       "</div>"
      ],
      "text/plain": [
       "   PassengerId  Survived  Pclass  \\\n",
       "0            2         1       1   \n",
       "1            4         1       1   \n",
       "2            7         0       1   \n",
       "3           11         1       3   \n",
       "4           12         1       1   \n",
       "\n",
       "                                                Name     Sex   Age  SibSp  \\\n",
       "0  Cumings, Mrs. John Bradley (Florence Briggs Th...    male  38.0    1.0   \n",
       "1       Futrelle, Mrs. Jacques Heath (Lily May Peel)  female  35.0    1.0   \n",
       "2                            McCarthy, Mr. Timothy J    male  54.0    0.0   \n",
       "3                    Sandstrom, Miss. Marguerite Rut  female  35.0    1.0   \n",
       "4                           Bonnell, Miss. Elizabeth  female  58.0    0.0   \n",
       "\n",
       "   Parch    Ticket     Fare  ... SibSp_lm_norm Parch_lm_norm  Age_sd_norm  \\\n",
       "0    0.0  PC 17599  71.2833  ...      0.333333      0.139136     0.541333   \n",
       "1    0.0    113803  53.1000  ...      0.333333      0.103644     0.489711   \n",
       "2    0.0     17463  51.8625  ...      0.000000      0.101229     0.816646   \n",
       "3    0.0   PP 9549  16.7000  ...      0.333333      0.032596     0.489711   \n",
       "4    0.0    113783  26.5500  ...      0.000000      0.051822     0.885474   \n",
       "\n",
       "   Fare_sd_norm  SibSp_sd_norm  Parch_sd_norm  Age_pct_norm  Fare_pct_norm  \\\n",
       "0      0.310484       0.574557            0.0      0.500000       0.258629   \n",
       "1      0.231284       0.574557            0.0      0.434498       0.181260   \n",
       "2      0.225894       0.000000            0.0      0.849345       0.175995   \n",
       "3      0.072739       0.574557            0.0      0.434498       0.026381   \n",
       "4      0.115642       0.000000            0.0      0.936681       0.068292   \n",
       "\n",
       "   SibSp_pct_norm  Parch_pct_norm  \n",
       "0             1.0             0.0  \n",
       "1             1.0             0.0  \n",
       "2             0.0             0.0  \n",
       "3             1.0             0.0  \n",
       "4             0.0             0.0  \n",
       "\n",
       "[5 rows x 43 columns]"
      ]
     },
     "execution_count": 129,
     "metadata": {},
     "output_type": "execute_result"
    }
   ],
   "source": [
    "df_norm.head()"
   ]
  },
  {
   "cell_type": "code",
   "execution_count": 130,
   "id": "61446b9e",
   "metadata": {},
   "outputs": [
    {
     "data": {
      "text/html": [
       "<div>\n",
       "<style scoped>\n",
       "    .dataframe tbody tr th:only-of-type {\n",
       "        vertical-align: middle;\n",
       "    }\n",
       "\n",
       "    .dataframe tbody tr th {\n",
       "        vertical-align: top;\n",
       "    }\n",
       "\n",
       "    .dataframe thead th {\n",
       "        text-align: right;\n",
       "    }\n",
       "</style>\n",
       "<table border=\"1\" class=\"dataframe\">\n",
       "  <thead>\n",
       "    <tr style=\"text-align: right;\">\n",
       "      <th></th>\n",
       "      <th>PassengerId</th>\n",
       "      <th>Survived</th>\n",
       "      <th>Pclass</th>\n",
       "      <th>Age</th>\n",
       "      <th>SibSp</th>\n",
       "      <th>Parch</th>\n",
       "      <th>Fare</th>\n",
       "      <th>Age_lm</th>\n",
       "      <th>Fare_lm</th>\n",
       "      <th>SibSp_lm</th>\n",
       "      <th>...</th>\n",
       "      <th>SibSp_lm_norm</th>\n",
       "      <th>Parch_lm_norm</th>\n",
       "      <th>Age_sd_norm</th>\n",
       "      <th>Fare_sd_norm</th>\n",
       "      <th>SibSp_sd_norm</th>\n",
       "      <th>Parch_sd_norm</th>\n",
       "      <th>Age_pct_norm</th>\n",
       "      <th>Fare_pct_norm</th>\n",
       "      <th>SibSp_pct_norm</th>\n",
       "      <th>Parch_pct_norm</th>\n",
       "    </tr>\n",
       "  </thead>\n",
       "  <tbody>\n",
       "    <tr>\n",
       "      <th>count</th>\n",
       "      <td>183.000000</td>\n",
       "      <td>183.000000</td>\n",
       "      <td>183.000000</td>\n",
       "      <td>183.000000</td>\n",
       "      <td>183.000000</td>\n",
       "      <td>183.000000</td>\n",
       "      <td>183.000000</td>\n",
       "      <td>183.000000</td>\n",
       "      <td>183.000000</td>\n",
       "      <td>183.000000</td>\n",
       "      <td>...</td>\n",
       "      <td>183.000000</td>\n",
       "      <td>183.000000</td>\n",
       "      <td>183.000000</td>\n",
       "      <td>183.000000</td>\n",
       "      <td>183.000000</td>\n",
       "      <td>183.000000</td>\n",
       "      <td>183.000000</td>\n",
       "      <td>183.000000</td>\n",
       "      <td>183.000000</td>\n",
       "      <td>183.000000</td>\n",
       "    </tr>\n",
       "    <tr>\n",
       "      <th>mean</th>\n",
       "      <td>455.366120</td>\n",
       "      <td>0.672131</td>\n",
       "      <td>1.191257</td>\n",
       "      <td>35.597923</td>\n",
       "      <td>0.453552</td>\n",
       "      <td>0.431694</td>\n",
       "      <td>78.959191</td>\n",
       "      <td>35.597923</td>\n",
       "      <td>78.959191</td>\n",
       "      <td>0.253355</td>\n",
       "      <td>...</td>\n",
       "      <td>0.151184</td>\n",
       "      <td>0.154118</td>\n",
       "      <td>0.499637</td>\n",
       "      <td>0.324862</td>\n",
       "      <td>0.243839</td>\n",
       "      <td>0.214830</td>\n",
       "      <td>0.451858</td>\n",
       "      <td>0.277187</td>\n",
       "      <td>0.387978</td>\n",
       "      <td>0.210383</td>\n",
       "    </tr>\n",
       "    <tr>\n",
       "      <th>std</th>\n",
       "      <td>247.052476</td>\n",
       "      <td>0.470725</td>\n",
       "      <td>0.515187</td>\n",
       "      <td>14.528916</td>\n",
       "      <td>0.643459</td>\n",
       "      <td>0.737147</td>\n",
       "      <td>75.314418</td>\n",
       "      <td>3.556026</td>\n",
       "      <td>9.094333</td>\n",
       "      <td>0.001641</td>\n",
       "      <td>...</td>\n",
       "      <td>0.214486</td>\n",
       "      <td>0.147004</td>\n",
       "      <td>0.238679</td>\n",
       "      <td>0.254329</td>\n",
       "      <td>0.319568</td>\n",
       "      <td>0.352683</td>\n",
       "      <td>0.282375</td>\n",
       "      <td>0.257687</td>\n",
       "      <td>0.488626</td>\n",
       "      <td>0.348862</td>\n",
       "    </tr>\n",
       "    <tr>\n",
       "      <th>min</th>\n",
       "      <td>2.000000</td>\n",
       "      <td>0.000000</td>\n",
       "      <td>1.000000</td>\n",
       "      <td>0.920000</td>\n",
       "      <td>0.000000</td>\n",
       "      <td>0.000000</td>\n",
       "      <td>0.000000</td>\n",
       "      <td>23.113258</td>\n",
       "      <td>51.165840</td>\n",
       "      <td>0.252199</td>\n",
       "      <td>...</td>\n",
       "      <td>0.000000</td>\n",
       "      <td>0.000000</td>\n",
       "      <td>0.000000</td>\n",
       "      <td>0.000000</td>\n",
       "      <td>0.000000</td>\n",
       "      <td>0.000000</td>\n",
       "      <td>0.000000</td>\n",
       "      <td>0.000000</td>\n",
       "      <td>0.000000</td>\n",
       "      <td>0.000000</td>\n",
       "    </tr>\n",
       "    <tr>\n",
       "      <th>25%</th>\n",
       "      <td>263.500000</td>\n",
       "      <td>0.000000</td>\n",
       "      <td>1.000000</td>\n",
       "      <td>25.000000</td>\n",
       "      <td>0.000000</td>\n",
       "      <td>0.000000</td>\n",
       "      <td>30.000000</td>\n",
       "      <td>36.918054</td>\n",
       "      <td>72.135068</td>\n",
       "      <td>0.252199</td>\n",
       "      <td>...</td>\n",
       "      <td>0.000000</td>\n",
       "      <td>0.058556</td>\n",
       "      <td>0.317641</td>\n",
       "      <td>0.130669</td>\n",
       "      <td>0.000000</td>\n",
       "      <td>0.000000</td>\n",
       "      <td>0.216157</td>\n",
       "      <td>0.082971</td>\n",
       "      <td>0.000000</td>\n",
       "      <td>0.000000</td>\n",
       "    </tr>\n",
       "    <tr>\n",
       "      <th>50%</th>\n",
       "      <td>457.000000</td>\n",
       "      <td>1.000000</td>\n",
       "      <td>1.000000</td>\n",
       "      <td>35.000000</td>\n",
       "      <td>0.000000</td>\n",
       "      <td>0.000000</td>\n",
       "      <td>61.175000</td>\n",
       "      <td>36.918054</td>\n",
       "      <td>79.333459</td>\n",
       "      <td>0.252199</td>\n",
       "      <td>...</td>\n",
       "      <td>0.000000</td>\n",
       "      <td>0.119406</td>\n",
       "      <td>0.489711</td>\n",
       "      <td>0.266456</td>\n",
       "      <td>0.000000</td>\n",
       "      <td>0.000000</td>\n",
       "      <td>0.434498</td>\n",
       "      <td>0.215619</td>\n",
       "      <td>0.000000</td>\n",
       "      <td>0.000000</td>\n",
       "    </tr>\n",
       "    <tr>\n",
       "      <th>75%</th>\n",
       "      <td>676.000000</td>\n",
       "      <td>1.000000</td>\n",
       "      <td>1.000000</td>\n",
       "      <td>46.500000</td>\n",
       "      <td>1.000000</td>\n",
       "      <td>1.000000</td>\n",
       "      <td>90.000000</td>\n",
       "      <td>36.918054</td>\n",
       "      <td>85.592930</td>\n",
       "      <td>0.254749</td>\n",
       "      <td>...</td>\n",
       "      <td>0.333333</td>\n",
       "      <td>0.175668</td>\n",
       "      <td>0.687593</td>\n",
       "      <td>0.392007</td>\n",
       "      <td>0.574557</td>\n",
       "      <td>0.524662</td>\n",
       "      <td>0.685590</td>\n",
       "      <td>0.338267</td>\n",
       "      <td>1.000000</td>\n",
       "      <td>0.500000</td>\n",
       "    </tr>\n",
       "    <tr>\n",
       "      <th>max</th>\n",
       "      <td>890.000000</td>\n",
       "      <td>1.000000</td>\n",
       "      <td>3.000000</td>\n",
       "      <td>80.000000</td>\n",
       "      <td>3.000000</td>\n",
       "      <td>4.000000</td>\n",
       "      <td>512.329200</td>\n",
       "      <td>36.918054</td>\n",
       "      <td>100.665736</td>\n",
       "      <td>0.259849</td>\n",
       "      <td>...</td>\n",
       "      <td>1.000000</td>\n",
       "      <td>1.000000</td>\n",
       "      <td>1.000000</td>\n",
       "      <td>1.000000</td>\n",
       "      <td>1.000000</td>\n",
       "      <td>1.000000</td>\n",
       "      <td>1.000000</td>\n",
       "      <td>1.000000</td>\n",
       "      <td>1.000000</td>\n",
       "      <td>1.000000</td>\n",
       "    </tr>\n",
       "  </tbody>\n",
       "</table>\n",
       "<p>8 rows × 38 columns</p>\n",
       "</div>"
      ],
      "text/plain": [
       "       PassengerId    Survived      Pclass         Age       SibSp  \\\n",
       "count   183.000000  183.000000  183.000000  183.000000  183.000000   \n",
       "mean    455.366120    0.672131    1.191257   35.597923    0.453552   \n",
       "std     247.052476    0.470725    0.515187   14.528916    0.643459   \n",
       "min       2.000000    0.000000    1.000000    0.920000    0.000000   \n",
       "25%     263.500000    0.000000    1.000000   25.000000    0.000000   \n",
       "50%     457.000000    1.000000    1.000000   35.000000    0.000000   \n",
       "75%     676.000000    1.000000    1.000000   46.500000    1.000000   \n",
       "max     890.000000    1.000000    3.000000   80.000000    3.000000   \n",
       "\n",
       "            Parch        Fare      Age_lm     Fare_lm    SibSp_lm  ...  \\\n",
       "count  183.000000  183.000000  183.000000  183.000000  183.000000  ...   \n",
       "mean     0.431694   78.959191   35.597923   78.959191    0.253355  ...   \n",
       "std      0.737147   75.314418    3.556026    9.094333    0.001641  ...   \n",
       "min      0.000000    0.000000   23.113258   51.165840    0.252199  ...   \n",
       "25%      0.000000   30.000000   36.918054   72.135068    0.252199  ...   \n",
       "50%      0.000000   61.175000   36.918054   79.333459    0.252199  ...   \n",
       "75%      1.000000   90.000000   36.918054   85.592930    0.254749  ...   \n",
       "max      4.000000  512.329200   36.918054  100.665736    0.259849  ...   \n",
       "\n",
       "       SibSp_lm_norm  Parch_lm_norm  Age_sd_norm  Fare_sd_norm  SibSp_sd_norm  \\\n",
       "count     183.000000     183.000000   183.000000    183.000000     183.000000   \n",
       "mean        0.151184       0.154118     0.499637      0.324862       0.243839   \n",
       "std         0.214486       0.147004     0.238679      0.254329       0.319568   \n",
       "min         0.000000       0.000000     0.000000      0.000000       0.000000   \n",
       "25%         0.000000       0.058556     0.317641      0.130669       0.000000   \n",
       "50%         0.000000       0.119406     0.489711      0.266456       0.000000   \n",
       "75%         0.333333       0.175668     0.687593      0.392007       0.574557   \n",
       "max         1.000000       1.000000     1.000000      1.000000       1.000000   \n",
       "\n",
       "       Parch_sd_norm  Age_pct_norm  Fare_pct_norm  SibSp_pct_norm  \\\n",
       "count     183.000000    183.000000     183.000000      183.000000   \n",
       "mean        0.214830      0.451858       0.277187        0.387978   \n",
       "std         0.352683      0.282375       0.257687        0.488626   \n",
       "min         0.000000      0.000000       0.000000        0.000000   \n",
       "25%         0.000000      0.216157       0.082971        0.000000   \n",
       "50%         0.000000      0.434498       0.215619        0.000000   \n",
       "75%         0.524662      0.685590       0.338267        1.000000   \n",
       "max         1.000000      1.000000       1.000000        1.000000   \n",
       "\n",
       "       Parch_pct_norm  \n",
       "count      183.000000  \n",
       "mean         0.210383  \n",
       "std          0.348862  \n",
       "min          0.000000  \n",
       "25%          0.000000  \n",
       "50%          0.000000  \n",
       "75%          0.500000  \n",
       "max          1.000000  \n",
       "\n",
       "[8 rows x 38 columns]"
      ]
     },
     "execution_count": 130,
     "metadata": {},
     "output_type": "execute_result"
    }
   ],
   "source": [
    "df_norm.describe()"
   ]
  },
  {
   "cell_type": "markdown",
   "id": "eb433d1e",
   "metadata": {},
   "source": [
    "### 2.2.\tCompare los estadísticos que considere más importantes para su conclusión y compare contra la data completa de “titanic.csv”.\n"
   ]
  },
  {
   "cell_type": "markdown",
   "id": "79976eb7",
   "metadata": {},
   "source": [
    "#### Normalización de la data completa, (titanic.csv)."
   ]
  },
  {
   "cell_type": "code",
   "execution_count": 131,
   "id": "c0dcf58c",
   "metadata": {},
   "outputs": [],
   "source": [
    "# Standar Scaler\n",
    "scaler = StandardScaler()\n",
    "df_z_completa = dataCompleta.copy()\n",
    "for col in df_z_completa.select_dtypes(include=['float', 'int']).columns:\n",
    "    df_z_completa[col+'_z'] = scaler.fit_transform(df_z_completa[[col]])"
   ]
  },
  {
   "cell_type": "code",
   "execution_count": 132,
   "id": "8c0632a2",
   "metadata": {},
   "outputs": [],
   "source": [
    "# Min Max Scaler\n",
    "scaler = MinMaxScaler()\n",
    "df_norm_completa = dataCompleta.copy()\n",
    "for col in df_norm_completa.select_dtypes(include=['float', 'int']).columns:\n",
    "    df_norm_completa[col+'_norm'] = scaler.fit_transform(df_norm_completa[[col]])"
   ]
  },
  {
   "cell_type": "code",
   "execution_count": 133,
   "id": "28a4a79c",
   "metadata": {},
   "outputs": [
    {
     "data": {
      "text/html": [
       "<div>\n",
       "<style scoped>\n",
       "    .dataframe tbody tr th:only-of-type {\n",
       "        vertical-align: middle;\n",
       "    }\n",
       "\n",
       "    .dataframe tbody tr th {\n",
       "        vertical-align: top;\n",
       "    }\n",
       "\n",
       "    .dataframe thead th {\n",
       "        text-align: right;\n",
       "    }\n",
       "</style>\n",
       "<table border=\"1\" class=\"dataframe\">\n",
       "  <thead>\n",
       "    <tr style=\"text-align: right;\">\n",
       "      <th></th>\n",
       "      <th>PassengerId</th>\n",
       "      <th>Survived</th>\n",
       "      <th>Pclass</th>\n",
       "      <th>Age</th>\n",
       "      <th>SibSp</th>\n",
       "      <th>Parch</th>\n",
       "      <th>Fare</th>\n",
       "      <th>PassengerId_z</th>\n",
       "      <th>Survived_z</th>\n",
       "      <th>Pclass_z</th>\n",
       "      <th>Age_z</th>\n",
       "      <th>SibSp_z</th>\n",
       "      <th>Parch_z</th>\n",
       "      <th>Fare_z</th>\n",
       "    </tr>\n",
       "  </thead>\n",
       "  <tbody>\n",
       "    <tr>\n",
       "      <th>count</th>\n",
       "      <td>183.000000</td>\n",
       "      <td>183.000000</td>\n",
       "      <td>183.000000</td>\n",
       "      <td>183.000000</td>\n",
       "      <td>183.000000</td>\n",
       "      <td>183.000000</td>\n",
       "      <td>183.000000</td>\n",
       "      <td>183.000000</td>\n",
       "      <td>1.830000e+02</td>\n",
       "      <td>1.830000e+02</td>\n",
       "      <td>1.830000e+02</td>\n",
       "      <td>1.830000e+02</td>\n",
       "      <td>1.830000e+02</td>\n",
       "      <td>1.830000e+02</td>\n",
       "    </tr>\n",
       "    <tr>\n",
       "      <th>mean</th>\n",
       "      <td>455.366120</td>\n",
       "      <td>0.672131</td>\n",
       "      <td>1.191257</td>\n",
       "      <td>35.674426</td>\n",
       "      <td>0.464481</td>\n",
       "      <td>0.475410</td>\n",
       "      <td>78.682469</td>\n",
       "      <td>0.000000</td>\n",
       "      <td>4.853434e-17</td>\n",
       "      <td>3.882747e-17</td>\n",
       "      <td>-1.650168e-16</td>\n",
       "      <td>-1.456030e-17</td>\n",
       "      <td>3.882747e-17</td>\n",
       "      <td>1.140557e-16</td>\n",
       "    </tr>\n",
       "    <tr>\n",
       "      <th>std</th>\n",
       "      <td>247.052476</td>\n",
       "      <td>0.470725</td>\n",
       "      <td>0.515187</td>\n",
       "      <td>15.643866</td>\n",
       "      <td>0.644159</td>\n",
       "      <td>0.754617</td>\n",
       "      <td>76.347843</td>\n",
       "      <td>1.002743</td>\n",
       "      <td>1.002743e+00</td>\n",
       "      <td>1.002743e+00</td>\n",
       "      <td>1.002743e+00</td>\n",
       "      <td>1.002743e+00</td>\n",
       "      <td>1.002743e+00</td>\n",
       "      <td>1.002743e+00</td>\n",
       "    </tr>\n",
       "    <tr>\n",
       "      <th>min</th>\n",
       "      <td>2.000000</td>\n",
       "      <td>0.000000</td>\n",
       "      <td>1.000000</td>\n",
       "      <td>0.920000</td>\n",
       "      <td>0.000000</td>\n",
       "      <td>0.000000</td>\n",
       "      <td>0.000000</td>\n",
       "      <td>-1.840135</td>\n",
       "      <td>-1.431782e+00</td>\n",
       "      <td>-3.722562e-01</td>\n",
       "      <td>-2.227696e+00</td>\n",
       "      <td>-7.230443e-01</td>\n",
       "      <td>-6.317298e-01</td>\n",
       "      <td>-1.033406e+00</td>\n",
       "    </tr>\n",
       "    <tr>\n",
       "      <th>25%</th>\n",
       "      <td>263.500000</td>\n",
       "      <td>0.000000</td>\n",
       "      <td>1.000000</td>\n",
       "      <td>24.000000</td>\n",
       "      <td>0.000000</td>\n",
       "      <td>0.000000</td>\n",
       "      <td>29.700000</td>\n",
       "      <td>-0.778752</td>\n",
       "      <td>-1.431782e+00</td>\n",
       "      <td>-3.722562e-01</td>\n",
       "      <td>-7.483096e-01</td>\n",
       "      <td>-7.230443e-01</td>\n",
       "      <td>-6.317298e-01</td>\n",
       "      <td>-6.433299e-01</td>\n",
       "    </tr>\n",
       "    <tr>\n",
       "      <th>50%</th>\n",
       "      <td>457.000000</td>\n",
       "      <td>1.000000</td>\n",
       "      <td>1.000000</td>\n",
       "      <td>36.000000</td>\n",
       "      <td>0.000000</td>\n",
       "      <td>0.000000</td>\n",
       "      <td>57.000000</td>\n",
       "      <td>0.006632</td>\n",
       "      <td>6.984303e-01</td>\n",
       "      <td>-3.722562e-01</td>\n",
       "      <td>2.086869e-02</td>\n",
       "      <td>-7.230443e-01</td>\n",
       "      <td>-6.317298e-01</td>\n",
       "      <td>-2.847750e-01</td>\n",
       "    </tr>\n",
       "    <tr>\n",
       "      <th>75%</th>\n",
       "      <td>676.000000</td>\n",
       "      <td>1.000000</td>\n",
       "      <td>1.000000</td>\n",
       "      <td>47.500000</td>\n",
       "      <td>1.000000</td>\n",
       "      <td>1.000000</td>\n",
       "      <td>90.000000</td>\n",
       "      <td>0.895515</td>\n",
       "      <td>6.984303e-01</td>\n",
       "      <td>-3.722562e-01</td>\n",
       "      <td>7.579979e-01</td>\n",
       "      <td>8.336275e-01</td>\n",
       "      <td>6.970812e-01</td>\n",
       "      <td>1.486431e-01</td>\n",
       "    </tr>\n",
       "    <tr>\n",
       "      <th>max</th>\n",
       "      <td>890.000000</td>\n",
       "      <td>1.000000</td>\n",
       "      <td>3.000000</td>\n",
       "      <td>80.000000</td>\n",
       "      <td>3.000000</td>\n",
       "      <td>4.000000</td>\n",
       "      <td>512.329200</td>\n",
       "      <td>1.764104</td>\n",
       "      <td>6.984303e-01</td>\n",
       "      <td>3.520480e+00</td>\n",
       "      <td>2.841189e+00</td>\n",
       "      <td>3.946971e+00</td>\n",
       "      <td>4.683514e+00</td>\n",
       "      <td>5.695465e+00</td>\n",
       "    </tr>\n",
       "  </tbody>\n",
       "</table>\n",
       "</div>"
      ],
      "text/plain": [
       "       PassengerId    Survived      Pclass         Age       SibSp  \\\n",
       "count   183.000000  183.000000  183.000000  183.000000  183.000000   \n",
       "mean    455.366120    0.672131    1.191257   35.674426    0.464481   \n",
       "std     247.052476    0.470725    0.515187   15.643866    0.644159   \n",
       "min       2.000000    0.000000    1.000000    0.920000    0.000000   \n",
       "25%     263.500000    0.000000    1.000000   24.000000    0.000000   \n",
       "50%     457.000000    1.000000    1.000000   36.000000    0.000000   \n",
       "75%     676.000000    1.000000    1.000000   47.500000    1.000000   \n",
       "max     890.000000    1.000000    3.000000   80.000000    3.000000   \n",
       "\n",
       "            Parch        Fare  PassengerId_z    Survived_z      Pclass_z  \\\n",
       "count  183.000000  183.000000     183.000000  1.830000e+02  1.830000e+02   \n",
       "mean     0.475410   78.682469       0.000000  4.853434e-17  3.882747e-17   \n",
       "std      0.754617   76.347843       1.002743  1.002743e+00  1.002743e+00   \n",
       "min      0.000000    0.000000      -1.840135 -1.431782e+00 -3.722562e-01   \n",
       "25%      0.000000   29.700000      -0.778752 -1.431782e+00 -3.722562e-01   \n",
       "50%      0.000000   57.000000       0.006632  6.984303e-01 -3.722562e-01   \n",
       "75%      1.000000   90.000000       0.895515  6.984303e-01 -3.722562e-01   \n",
       "max      4.000000  512.329200       1.764104  6.984303e-01  3.520480e+00   \n",
       "\n",
       "              Age_z       SibSp_z       Parch_z        Fare_z  \n",
       "count  1.830000e+02  1.830000e+02  1.830000e+02  1.830000e+02  \n",
       "mean  -1.650168e-16 -1.456030e-17  3.882747e-17  1.140557e-16  \n",
       "std    1.002743e+00  1.002743e+00  1.002743e+00  1.002743e+00  \n",
       "min   -2.227696e+00 -7.230443e-01 -6.317298e-01 -1.033406e+00  \n",
       "25%   -7.483096e-01 -7.230443e-01 -6.317298e-01 -6.433299e-01  \n",
       "50%    2.086869e-02 -7.230443e-01 -6.317298e-01 -2.847750e-01  \n",
       "75%    7.579979e-01  8.336275e-01  6.970812e-01  1.486431e-01  \n",
       "max    2.841189e+00  3.946971e+00  4.683514e+00  5.695465e+00  "
      ]
     },
     "execution_count": 133,
     "metadata": {},
     "output_type": "execute_result"
    }
   ],
   "source": [
    "# Tabla Completa estandarizada\n",
    "df_z_completa.describe()"
   ]
  },
  {
   "cell_type": "code",
   "execution_count": 136,
   "id": "7b2b760e",
   "metadata": {},
   "outputs": [
    {
     "data": {
      "text/html": [
       "<div>\n",
       "<style scoped>\n",
       "    .dataframe tbody tr th:only-of-type {\n",
       "        vertical-align: middle;\n",
       "    }\n",
       "\n",
       "    .dataframe tbody tr th {\n",
       "        vertical-align: top;\n",
       "    }\n",
       "\n",
       "    .dataframe thead th {\n",
       "        text-align: right;\n",
       "    }\n",
       "</style>\n",
       "<table border=\"1\" class=\"dataframe\">\n",
       "  <thead>\n",
       "    <tr style=\"text-align: right;\">\n",
       "      <th></th>\n",
       "      <th>PassengerId</th>\n",
       "      <th>Survived</th>\n",
       "      <th>Pclass</th>\n",
       "      <th>Age</th>\n",
       "      <th>SibSp</th>\n",
       "      <th>Parch</th>\n",
       "      <th>Fare</th>\n",
       "      <th>Age_lm</th>\n",
       "      <th>Fare_lm</th>\n",
       "      <th>SibSp_lm</th>\n",
       "      <th>...</th>\n",
       "      <th>SibSp_lm_z</th>\n",
       "      <th>Parch_lm_z</th>\n",
       "      <th>Age_sd_z</th>\n",
       "      <th>Fare_sd_z</th>\n",
       "      <th>SibSp_sd_z</th>\n",
       "      <th>Parch_sd_z</th>\n",
       "      <th>Age_pct_z</th>\n",
       "      <th>Fare_pct_z</th>\n",
       "      <th>SibSp_pct_z</th>\n",
       "      <th>Parch_pct_z</th>\n",
       "    </tr>\n",
       "  </thead>\n",
       "  <tbody>\n",
       "    <tr>\n",
       "      <th>count</th>\n",
       "      <td>183.000000</td>\n",
       "      <td>183.000000</td>\n",
       "      <td>183.000000</td>\n",
       "      <td>183.000000</td>\n",
       "      <td>183.000000</td>\n",
       "      <td>183.000000</td>\n",
       "      <td>183.000000</td>\n",
       "      <td>183.000000</td>\n",
       "      <td>183.000000</td>\n",
       "      <td>183.000000</td>\n",
       "      <td>...</td>\n",
       "      <td>1.830000e+02</td>\n",
       "      <td>1.830000e+02</td>\n",
       "      <td>1.830000e+02</td>\n",
       "      <td>1.830000e+02</td>\n",
       "      <td>1.830000e+02</td>\n",
       "      <td>1.830000e+02</td>\n",
       "      <td>1.830000e+02</td>\n",
       "      <td>1.830000e+02</td>\n",
       "      <td>1.830000e+02</td>\n",
       "      <td>1.830000e+02</td>\n",
       "    </tr>\n",
       "    <tr>\n",
       "      <th>mean</th>\n",
       "      <td>455.366120</td>\n",
       "      <td>0.672131</td>\n",
       "      <td>1.191257</td>\n",
       "      <td>35.597923</td>\n",
       "      <td>0.453552</td>\n",
       "      <td>0.431694</td>\n",
       "      <td>78.959191</td>\n",
       "      <td>35.597923</td>\n",
       "      <td>78.959191</td>\n",
       "      <td>0.253355</td>\n",
       "      <td>...</td>\n",
       "      <td>5.356250e-14</td>\n",
       "      <td>-7.280151e-18</td>\n",
       "      <td>-2.086977e-16</td>\n",
       "      <td>8.736181e-17</td>\n",
       "      <td>-6.309464e-17</td>\n",
       "      <td>-4.853434e-17</td>\n",
       "      <td>1.941374e-17</td>\n",
       "      <td>2.426717e-17</td>\n",
       "      <td>-9.706868e-18</td>\n",
       "      <td>-6.794808e-17</td>\n",
       "    </tr>\n",
       "    <tr>\n",
       "      <th>std</th>\n",
       "      <td>247.052476</td>\n",
       "      <td>0.470725</td>\n",
       "      <td>0.515187</td>\n",
       "      <td>14.528916</td>\n",
       "      <td>0.643459</td>\n",
       "      <td>0.737147</td>\n",
       "      <td>75.314418</td>\n",
       "      <td>3.556026</td>\n",
       "      <td>9.094333</td>\n",
       "      <td>0.001641</td>\n",
       "      <td>...</td>\n",
       "      <td>1.002743e+00</td>\n",
       "      <td>1.002743e+00</td>\n",
       "      <td>1.002743e+00</td>\n",
       "      <td>1.002743e+00</td>\n",
       "      <td>1.002743e+00</td>\n",
       "      <td>1.002743e+00</td>\n",
       "      <td>1.002743e+00</td>\n",
       "      <td>1.002743e+00</td>\n",
       "      <td>1.002743e+00</td>\n",
       "      <td>1.002743e+00</td>\n",
       "    </tr>\n",
       "    <tr>\n",
       "      <th>min</th>\n",
       "      <td>2.000000</td>\n",
       "      <td>0.000000</td>\n",
       "      <td>1.000000</td>\n",
       "      <td>0.920000</td>\n",
       "      <td>0.000000</td>\n",
       "      <td>0.000000</td>\n",
       "      <td>0.000000</td>\n",
       "      <td>23.113258</td>\n",
       "      <td>51.165840</td>\n",
       "      <td>0.252199</td>\n",
       "      <td>...</td>\n",
       "      <td>-7.067991e-01</td>\n",
       "      <td>-1.051270e+00</td>\n",
       "      <td>-2.099090e+00</td>\n",
       "      <td>-1.280836e+00</td>\n",
       "      <td>-7.651214e-01</td>\n",
       "      <td>-6.108010e-01</td>\n",
       "      <td>-1.604593e+00</td>\n",
       "      <td>-1.078625e+00</td>\n",
       "      <td>-7.961963e-01</td>\n",
       "      <td>-6.047079e-01</td>\n",
       "    </tr>\n",
       "    <tr>\n",
       "      <th>25%</th>\n",
       "      <td>263.500000</td>\n",
       "      <td>0.000000</td>\n",
       "      <td>1.000000</td>\n",
       "      <td>25.000000</td>\n",
       "      <td>0.000000</td>\n",
       "      <td>0.000000</td>\n",
       "      <td>30.000000</td>\n",
       "      <td>36.918054</td>\n",
       "      <td>72.135068</td>\n",
       "      <td>0.252199</td>\n",
       "      <td>...</td>\n",
       "      <td>-7.067991e-01</td>\n",
       "      <td>-6.518474e-01</td>\n",
       "      <td>-7.646078e-01</td>\n",
       "      <td>-7.656473e-01</td>\n",
       "      <td>-7.651214e-01</td>\n",
       "      <td>-6.108010e-01</td>\n",
       "      <td>-8.369966e-01</td>\n",
       "      <td>-7.557570e-01</td>\n",
       "      <td>-7.961963e-01</td>\n",
       "      <td>-6.047079e-01</td>\n",
       "    </tr>\n",
       "    <tr>\n",
       "      <th>50%</th>\n",
       "      <td>457.000000</td>\n",
       "      <td>1.000000</td>\n",
       "      <td>1.000000</td>\n",
       "      <td>35.000000</td>\n",
       "      <td>0.000000</td>\n",
       "      <td>0.000000</td>\n",
       "      <td>61.175000</td>\n",
       "      <td>36.918054</td>\n",
       "      <td>79.333459</td>\n",
       "      <td>0.252199</td>\n",
       "      <td>...</td>\n",
       "      <td>-7.067991e-01</td>\n",
       "      <td>-2.367804e-01</td>\n",
       "      <td>-4.169934e-02</td>\n",
       "      <td>-2.302805e-01</td>\n",
       "      <td>-7.651214e-01</td>\n",
       "      <td>-6.108010e-01</td>\n",
       "      <td>-6.164668e-02</td>\n",
       "      <td>-2.395828e-01</td>\n",
       "      <td>-7.961963e-01</td>\n",
       "      <td>-6.047079e-01</td>\n",
       "    </tr>\n",
       "    <tr>\n",
       "      <th>75%</th>\n",
       "      <td>676.000000</td>\n",
       "      <td>1.000000</td>\n",
       "      <td>1.000000</td>\n",
       "      <td>46.500000</td>\n",
       "      <td>1.000000</td>\n",
       "      <td>1.000000</td>\n",
       "      <td>90.000000</td>\n",
       "      <td>36.918054</td>\n",
       "      <td>85.592930</td>\n",
       "      <td>0.254749</td>\n",
       "      <td>...</td>\n",
       "      <td>8.515651e-01</td>\n",
       "      <td>1.469984e-01</td>\n",
       "      <td>7.896454e-01</td>\n",
       "      <td>2.647297e-01</td>\n",
       "      <td>1.037732e+00</td>\n",
       "      <td>8.809113e-01</td>\n",
       "      <td>8.300058e-01</td>\n",
       "      <td>2.376816e-01</td>\n",
       "      <td>1.255972e+00</td>\n",
       "      <td>8.324550e-01</td>\n",
       "    </tr>\n",
       "    <tr>\n",
       "      <th>max</th>\n",
       "      <td>890.000000</td>\n",
       "      <td>1.000000</td>\n",
       "      <td>3.000000</td>\n",
       "      <td>80.000000</td>\n",
       "      <td>3.000000</td>\n",
       "      <td>4.000000</td>\n",
       "      <td>512.329200</td>\n",
       "      <td>36.918054</td>\n",
       "      <td>100.665736</td>\n",
       "      <td>0.259849</td>\n",
       "      <td>...</td>\n",
       "      <td>3.968293e+00</td>\n",
       "      <td>5.769930e+00</td>\n",
       "      <td>2.102140e+00</td>\n",
       "      <td>2.661868e+00</td>\n",
       "      <td>2.372691e+00</td>\n",
       "      <td>2.232384e+00</td>\n",
       "      <td>1.946510e+00</td>\n",
       "      <td>2.812695e+00</td>\n",
       "      <td>1.255972e+00</td>\n",
       "      <td>2.269618e+00</td>\n",
       "    </tr>\n",
       "  </tbody>\n",
       "</table>\n",
       "<p>8 rows × 38 columns</p>\n",
       "</div>"
      ],
      "text/plain": [
       "       PassengerId    Survived      Pclass         Age       SibSp  \\\n",
       "count   183.000000  183.000000  183.000000  183.000000  183.000000   \n",
       "mean    455.366120    0.672131    1.191257   35.597923    0.453552   \n",
       "std     247.052476    0.470725    0.515187   14.528916    0.643459   \n",
       "min       2.000000    0.000000    1.000000    0.920000    0.000000   \n",
       "25%     263.500000    0.000000    1.000000   25.000000    0.000000   \n",
       "50%     457.000000    1.000000    1.000000   35.000000    0.000000   \n",
       "75%     676.000000    1.000000    1.000000   46.500000    1.000000   \n",
       "max     890.000000    1.000000    3.000000   80.000000    3.000000   \n",
       "\n",
       "            Parch        Fare      Age_lm     Fare_lm    SibSp_lm  ...  \\\n",
       "count  183.000000  183.000000  183.000000  183.000000  183.000000  ...   \n",
       "mean     0.431694   78.959191   35.597923   78.959191    0.253355  ...   \n",
       "std      0.737147   75.314418    3.556026    9.094333    0.001641  ...   \n",
       "min      0.000000    0.000000   23.113258   51.165840    0.252199  ...   \n",
       "25%      0.000000   30.000000   36.918054   72.135068    0.252199  ...   \n",
       "50%      0.000000   61.175000   36.918054   79.333459    0.252199  ...   \n",
       "75%      1.000000   90.000000   36.918054   85.592930    0.254749  ...   \n",
       "max      4.000000  512.329200   36.918054  100.665736    0.259849  ...   \n",
       "\n",
       "         SibSp_lm_z    Parch_lm_z      Age_sd_z     Fare_sd_z    SibSp_sd_z  \\\n",
       "count  1.830000e+02  1.830000e+02  1.830000e+02  1.830000e+02  1.830000e+02   \n",
       "mean   5.356250e-14 -7.280151e-18 -2.086977e-16  8.736181e-17 -6.309464e-17   \n",
       "std    1.002743e+00  1.002743e+00  1.002743e+00  1.002743e+00  1.002743e+00   \n",
       "min   -7.067991e-01 -1.051270e+00 -2.099090e+00 -1.280836e+00 -7.651214e-01   \n",
       "25%   -7.067991e-01 -6.518474e-01 -7.646078e-01 -7.656473e-01 -7.651214e-01   \n",
       "50%   -7.067991e-01 -2.367804e-01 -4.169934e-02 -2.302805e-01 -7.651214e-01   \n",
       "75%    8.515651e-01  1.469984e-01  7.896454e-01  2.647297e-01  1.037732e+00   \n",
       "max    3.968293e+00  5.769930e+00  2.102140e+00  2.661868e+00  2.372691e+00   \n",
       "\n",
       "         Parch_sd_z     Age_pct_z    Fare_pct_z   SibSp_pct_z   Parch_pct_z  \n",
       "count  1.830000e+02  1.830000e+02  1.830000e+02  1.830000e+02  1.830000e+02  \n",
       "mean  -4.853434e-17  1.941374e-17  2.426717e-17 -9.706868e-18 -6.794808e-17  \n",
       "std    1.002743e+00  1.002743e+00  1.002743e+00  1.002743e+00  1.002743e+00  \n",
       "min   -6.108010e-01 -1.604593e+00 -1.078625e+00 -7.961963e-01 -6.047079e-01  \n",
       "25%   -6.108010e-01 -8.369966e-01 -7.557570e-01 -7.961963e-01 -6.047079e-01  \n",
       "50%   -6.108010e-01 -6.164668e-02 -2.395828e-01 -7.961963e-01 -6.047079e-01  \n",
       "75%    8.809113e-01  8.300058e-01  2.376816e-01  1.255972e+00  8.324550e-01  \n",
       "max    2.232384e+00  1.946510e+00  2.812695e+00  1.255972e+00  2.269618e+00  \n",
       "\n",
       "[8 rows x 38 columns]"
      ]
     },
     "execution_count": 136,
     "metadata": {},
     "output_type": "execute_result"
    }
   ],
   "source": [
    "# Tabla Pre-procesada estandarizada\n",
    "df_z.describe()"
   ]
  },
  {
   "cell_type": "markdown",
   "id": "6a74bd9d",
   "metadata": {},
   "source": [
    "En general, el promedio de la estandarización es cercana a 0 y la desviación estándar es cercana a 1.\n",
    "\n",
    "Para los valores en donde la data es más extensa como en Age y Fare, se puede observar que el comportamiento es puntos porcertuales positivo más cercanos a 0. Para variables como SibSp y Parch es puntos porcertuales negativos más cercanos a 0. \n",
    "\n",
    "Al compararlo con la tabla original de titanic.csv normalizada, se puede observar que el comportamient es bastante. Es método de normalización puede ser más exacto que el MinMaxScaling, sin embargo, la interpretación no es tan fácil por estar en notación científica.\n"
   ]
  },
  {
   "cell_type": "code",
   "execution_count": 135,
   "id": "439c2feb",
   "metadata": {},
   "outputs": [
    {
     "data": {
      "text/html": [
       "<div>\n",
       "<style scoped>\n",
       "    .dataframe tbody tr th:only-of-type {\n",
       "        vertical-align: middle;\n",
       "    }\n",
       "\n",
       "    .dataframe tbody tr th {\n",
       "        vertical-align: top;\n",
       "    }\n",
       "\n",
       "    .dataframe thead th {\n",
       "        text-align: right;\n",
       "    }\n",
       "</style>\n",
       "<table border=\"1\" class=\"dataframe\">\n",
       "  <thead>\n",
       "    <tr style=\"text-align: right;\">\n",
       "      <th></th>\n",
       "      <th>PassengerId</th>\n",
       "      <th>Survived</th>\n",
       "      <th>Pclass</th>\n",
       "      <th>Age</th>\n",
       "      <th>SibSp</th>\n",
       "      <th>Parch</th>\n",
       "      <th>Fare</th>\n",
       "      <th>PassengerId_norm</th>\n",
       "      <th>Survived_norm</th>\n",
       "      <th>Pclass_norm</th>\n",
       "      <th>Age_norm</th>\n",
       "      <th>SibSp_norm</th>\n",
       "      <th>Parch_norm</th>\n",
       "      <th>Fare_norm</th>\n",
       "    </tr>\n",
       "  </thead>\n",
       "  <tbody>\n",
       "    <tr>\n",
       "      <th>count</th>\n",
       "      <td>183.000000</td>\n",
       "      <td>183.000000</td>\n",
       "      <td>183.000000</td>\n",
       "      <td>183.000000</td>\n",
       "      <td>183.000000</td>\n",
       "      <td>183.000000</td>\n",
       "      <td>183.000000</td>\n",
       "      <td>183.000000</td>\n",
       "      <td>183.000000</td>\n",
       "      <td>183.000000</td>\n",
       "      <td>183.000000</td>\n",
       "      <td>183.000000</td>\n",
       "      <td>183.000000</td>\n",
       "      <td>183.000000</td>\n",
       "    </tr>\n",
       "    <tr>\n",
       "      <th>mean</th>\n",
       "      <td>455.366120</td>\n",
       "      <td>0.672131</td>\n",
       "      <td>1.191257</td>\n",
       "      <td>35.674426</td>\n",
       "      <td>0.464481</td>\n",
       "      <td>0.475410</td>\n",
       "      <td>78.682469</td>\n",
       "      <td>0.510547</td>\n",
       "      <td>0.672131</td>\n",
       "      <td>0.095628</td>\n",
       "      <td>0.439484</td>\n",
       "      <td>0.154827</td>\n",
       "      <td>0.118852</td>\n",
       "      <td>0.153578</td>\n",
       "    </tr>\n",
       "    <tr>\n",
       "      <th>std</th>\n",
       "      <td>247.052476</td>\n",
       "      <td>0.470725</td>\n",
       "      <td>0.515187</td>\n",
       "      <td>15.643866</td>\n",
       "      <td>0.644159</td>\n",
       "      <td>0.754617</td>\n",
       "      <td>76.347843</td>\n",
       "      <td>0.278212</td>\n",
       "      <td>0.470725</td>\n",
       "      <td>0.257593</td>\n",
       "      <td>0.197823</td>\n",
       "      <td>0.214720</td>\n",
       "      <td>0.188654</td>\n",
       "      <td>0.149021</td>\n",
       "    </tr>\n",
       "    <tr>\n",
       "      <th>min</th>\n",
       "      <td>2.000000</td>\n",
       "      <td>0.000000</td>\n",
       "      <td>1.000000</td>\n",
       "      <td>0.920000</td>\n",
       "      <td>0.000000</td>\n",
       "      <td>0.000000</td>\n",
       "      <td>0.000000</td>\n",
       "      <td>0.000000</td>\n",
       "      <td>0.000000</td>\n",
       "      <td>0.000000</td>\n",
       "      <td>0.000000</td>\n",
       "      <td>0.000000</td>\n",
       "      <td>0.000000</td>\n",
       "      <td>0.000000</td>\n",
       "    </tr>\n",
       "    <tr>\n",
       "      <th>25%</th>\n",
       "      <td>263.500000</td>\n",
       "      <td>0.000000</td>\n",
       "      <td>1.000000</td>\n",
       "      <td>24.000000</td>\n",
       "      <td>0.000000</td>\n",
       "      <td>0.000000</td>\n",
       "      <td>29.700000</td>\n",
       "      <td>0.294482</td>\n",
       "      <td>0.000000</td>\n",
       "      <td>0.000000</td>\n",
       "      <td>0.291856</td>\n",
       "      <td>0.000000</td>\n",
       "      <td>0.000000</td>\n",
       "      <td>0.057971</td>\n",
       "    </tr>\n",
       "    <tr>\n",
       "      <th>50%</th>\n",
       "      <td>457.000000</td>\n",
       "      <td>1.000000</td>\n",
       "      <td>1.000000</td>\n",
       "      <td>36.000000</td>\n",
       "      <td>0.000000</td>\n",
       "      <td>0.000000</td>\n",
       "      <td>57.000000</td>\n",
       "      <td>0.512387</td>\n",
       "      <td>1.000000</td>\n",
       "      <td>0.000000</td>\n",
       "      <td>0.443601</td>\n",
       "      <td>0.000000</td>\n",
       "      <td>0.000000</td>\n",
       "      <td>0.111257</td>\n",
       "    </tr>\n",
       "    <tr>\n",
       "      <th>75%</th>\n",
       "      <td>676.000000</td>\n",
       "      <td>1.000000</td>\n",
       "      <td>1.000000</td>\n",
       "      <td>47.500000</td>\n",
       "      <td>1.000000</td>\n",
       "      <td>1.000000</td>\n",
       "      <td>90.000000</td>\n",
       "      <td>0.759009</td>\n",
       "      <td>1.000000</td>\n",
       "      <td>0.000000</td>\n",
       "      <td>0.589024</td>\n",
       "      <td>0.333333</td>\n",
       "      <td>0.250000</td>\n",
       "      <td>0.175668</td>\n",
       "    </tr>\n",
       "    <tr>\n",
       "      <th>max</th>\n",
       "      <td>890.000000</td>\n",
       "      <td>1.000000</td>\n",
       "      <td>3.000000</td>\n",
       "      <td>80.000000</td>\n",
       "      <td>3.000000</td>\n",
       "      <td>4.000000</td>\n",
       "      <td>512.329200</td>\n",
       "      <td>1.000000</td>\n",
       "      <td>1.000000</td>\n",
       "      <td>1.000000</td>\n",
       "      <td>1.000000</td>\n",
       "      <td>1.000000</td>\n",
       "      <td>1.000000</td>\n",
       "      <td>1.000000</td>\n",
       "    </tr>\n",
       "  </tbody>\n",
       "</table>\n",
       "</div>"
      ],
      "text/plain": [
       "       PassengerId    Survived      Pclass         Age       SibSp  \\\n",
       "count   183.000000  183.000000  183.000000  183.000000  183.000000   \n",
       "mean    455.366120    0.672131    1.191257   35.674426    0.464481   \n",
       "std     247.052476    0.470725    0.515187   15.643866    0.644159   \n",
       "min       2.000000    0.000000    1.000000    0.920000    0.000000   \n",
       "25%     263.500000    0.000000    1.000000   24.000000    0.000000   \n",
       "50%     457.000000    1.000000    1.000000   36.000000    0.000000   \n",
       "75%     676.000000    1.000000    1.000000   47.500000    1.000000   \n",
       "max     890.000000    1.000000    3.000000   80.000000    3.000000   \n",
       "\n",
       "            Parch        Fare  PassengerId_norm  Survived_norm  Pclass_norm  \\\n",
       "count  183.000000  183.000000        183.000000     183.000000   183.000000   \n",
       "mean     0.475410   78.682469          0.510547       0.672131     0.095628   \n",
       "std      0.754617   76.347843          0.278212       0.470725     0.257593   \n",
       "min      0.000000    0.000000          0.000000       0.000000     0.000000   \n",
       "25%      0.000000   29.700000          0.294482       0.000000     0.000000   \n",
       "50%      0.000000   57.000000          0.512387       1.000000     0.000000   \n",
       "75%      1.000000   90.000000          0.759009       1.000000     0.000000   \n",
       "max      4.000000  512.329200          1.000000       1.000000     1.000000   \n",
       "\n",
       "         Age_norm  SibSp_norm  Parch_norm   Fare_norm  \n",
       "count  183.000000  183.000000  183.000000  183.000000  \n",
       "mean     0.439484    0.154827    0.118852    0.153578  \n",
       "std      0.197823    0.214720    0.188654    0.149021  \n",
       "min      0.000000    0.000000    0.000000    0.000000  \n",
       "25%      0.291856    0.000000    0.000000    0.057971  \n",
       "50%      0.443601    0.000000    0.000000    0.111257  \n",
       "75%      0.589024    0.333333    0.250000    0.175668  \n",
       "max      1.000000    1.000000    1.000000    1.000000  "
      ]
     },
     "execution_count": 135,
     "metadata": {},
     "output_type": "execute_result"
    }
   ],
   "source": [
    "# Tabla Completa MinMaxScaling\n",
    "df_norm_completa.describe()"
   ]
  },
  {
   "cell_type": "code",
   "execution_count": 137,
   "id": "9a3e7a7b",
   "metadata": {},
   "outputs": [
    {
     "data": {
      "text/html": [
       "<div>\n",
       "<style scoped>\n",
       "    .dataframe tbody tr th:only-of-type {\n",
       "        vertical-align: middle;\n",
       "    }\n",
       "\n",
       "    .dataframe tbody tr th {\n",
       "        vertical-align: top;\n",
       "    }\n",
       "\n",
       "    .dataframe thead th {\n",
       "        text-align: right;\n",
       "    }\n",
       "</style>\n",
       "<table border=\"1\" class=\"dataframe\">\n",
       "  <thead>\n",
       "    <tr style=\"text-align: right;\">\n",
       "      <th></th>\n",
       "      <th>PassengerId</th>\n",
       "      <th>Survived</th>\n",
       "      <th>Pclass</th>\n",
       "      <th>Age</th>\n",
       "      <th>SibSp</th>\n",
       "      <th>Parch</th>\n",
       "      <th>Fare</th>\n",
       "      <th>Age_lm</th>\n",
       "      <th>Fare_lm</th>\n",
       "      <th>SibSp_lm</th>\n",
       "      <th>...</th>\n",
       "      <th>SibSp_lm_norm</th>\n",
       "      <th>Parch_lm_norm</th>\n",
       "      <th>Age_sd_norm</th>\n",
       "      <th>Fare_sd_norm</th>\n",
       "      <th>SibSp_sd_norm</th>\n",
       "      <th>Parch_sd_norm</th>\n",
       "      <th>Age_pct_norm</th>\n",
       "      <th>Fare_pct_norm</th>\n",
       "      <th>SibSp_pct_norm</th>\n",
       "      <th>Parch_pct_norm</th>\n",
       "    </tr>\n",
       "  </thead>\n",
       "  <tbody>\n",
       "    <tr>\n",
       "      <th>count</th>\n",
       "      <td>183.000000</td>\n",
       "      <td>183.000000</td>\n",
       "      <td>183.000000</td>\n",
       "      <td>183.000000</td>\n",
       "      <td>183.000000</td>\n",
       "      <td>183.000000</td>\n",
       "      <td>183.000000</td>\n",
       "      <td>183.000000</td>\n",
       "      <td>183.000000</td>\n",
       "      <td>183.000000</td>\n",
       "      <td>...</td>\n",
       "      <td>183.000000</td>\n",
       "      <td>183.000000</td>\n",
       "      <td>183.000000</td>\n",
       "      <td>183.000000</td>\n",
       "      <td>183.000000</td>\n",
       "      <td>183.000000</td>\n",
       "      <td>183.000000</td>\n",
       "      <td>183.000000</td>\n",
       "      <td>183.000000</td>\n",
       "      <td>183.000000</td>\n",
       "    </tr>\n",
       "    <tr>\n",
       "      <th>mean</th>\n",
       "      <td>455.366120</td>\n",
       "      <td>0.672131</td>\n",
       "      <td>1.191257</td>\n",
       "      <td>35.597923</td>\n",
       "      <td>0.453552</td>\n",
       "      <td>0.431694</td>\n",
       "      <td>78.959191</td>\n",
       "      <td>35.597923</td>\n",
       "      <td>78.959191</td>\n",
       "      <td>0.253355</td>\n",
       "      <td>...</td>\n",
       "      <td>0.151184</td>\n",
       "      <td>0.154118</td>\n",
       "      <td>0.499637</td>\n",
       "      <td>0.324862</td>\n",
       "      <td>0.243839</td>\n",
       "      <td>0.214830</td>\n",
       "      <td>0.451858</td>\n",
       "      <td>0.277187</td>\n",
       "      <td>0.387978</td>\n",
       "      <td>0.210383</td>\n",
       "    </tr>\n",
       "    <tr>\n",
       "      <th>std</th>\n",
       "      <td>247.052476</td>\n",
       "      <td>0.470725</td>\n",
       "      <td>0.515187</td>\n",
       "      <td>14.528916</td>\n",
       "      <td>0.643459</td>\n",
       "      <td>0.737147</td>\n",
       "      <td>75.314418</td>\n",
       "      <td>3.556026</td>\n",
       "      <td>9.094333</td>\n",
       "      <td>0.001641</td>\n",
       "      <td>...</td>\n",
       "      <td>0.214486</td>\n",
       "      <td>0.147004</td>\n",
       "      <td>0.238679</td>\n",
       "      <td>0.254329</td>\n",
       "      <td>0.319568</td>\n",
       "      <td>0.352683</td>\n",
       "      <td>0.282375</td>\n",
       "      <td>0.257687</td>\n",
       "      <td>0.488626</td>\n",
       "      <td>0.348862</td>\n",
       "    </tr>\n",
       "    <tr>\n",
       "      <th>min</th>\n",
       "      <td>2.000000</td>\n",
       "      <td>0.000000</td>\n",
       "      <td>1.000000</td>\n",
       "      <td>0.920000</td>\n",
       "      <td>0.000000</td>\n",
       "      <td>0.000000</td>\n",
       "      <td>0.000000</td>\n",
       "      <td>23.113258</td>\n",
       "      <td>51.165840</td>\n",
       "      <td>0.252199</td>\n",
       "      <td>...</td>\n",
       "      <td>0.000000</td>\n",
       "      <td>0.000000</td>\n",
       "      <td>0.000000</td>\n",
       "      <td>0.000000</td>\n",
       "      <td>0.000000</td>\n",
       "      <td>0.000000</td>\n",
       "      <td>0.000000</td>\n",
       "      <td>0.000000</td>\n",
       "      <td>0.000000</td>\n",
       "      <td>0.000000</td>\n",
       "    </tr>\n",
       "    <tr>\n",
       "      <th>25%</th>\n",
       "      <td>263.500000</td>\n",
       "      <td>0.000000</td>\n",
       "      <td>1.000000</td>\n",
       "      <td>25.000000</td>\n",
       "      <td>0.000000</td>\n",
       "      <td>0.000000</td>\n",
       "      <td>30.000000</td>\n",
       "      <td>36.918054</td>\n",
       "      <td>72.135068</td>\n",
       "      <td>0.252199</td>\n",
       "      <td>...</td>\n",
       "      <td>0.000000</td>\n",
       "      <td>0.058556</td>\n",
       "      <td>0.317641</td>\n",
       "      <td>0.130669</td>\n",
       "      <td>0.000000</td>\n",
       "      <td>0.000000</td>\n",
       "      <td>0.216157</td>\n",
       "      <td>0.082971</td>\n",
       "      <td>0.000000</td>\n",
       "      <td>0.000000</td>\n",
       "    </tr>\n",
       "    <tr>\n",
       "      <th>50%</th>\n",
       "      <td>457.000000</td>\n",
       "      <td>1.000000</td>\n",
       "      <td>1.000000</td>\n",
       "      <td>35.000000</td>\n",
       "      <td>0.000000</td>\n",
       "      <td>0.000000</td>\n",
       "      <td>61.175000</td>\n",
       "      <td>36.918054</td>\n",
       "      <td>79.333459</td>\n",
       "      <td>0.252199</td>\n",
       "      <td>...</td>\n",
       "      <td>0.000000</td>\n",
       "      <td>0.119406</td>\n",
       "      <td>0.489711</td>\n",
       "      <td>0.266456</td>\n",
       "      <td>0.000000</td>\n",
       "      <td>0.000000</td>\n",
       "      <td>0.434498</td>\n",
       "      <td>0.215619</td>\n",
       "      <td>0.000000</td>\n",
       "      <td>0.000000</td>\n",
       "    </tr>\n",
       "    <tr>\n",
       "      <th>75%</th>\n",
       "      <td>676.000000</td>\n",
       "      <td>1.000000</td>\n",
       "      <td>1.000000</td>\n",
       "      <td>46.500000</td>\n",
       "      <td>1.000000</td>\n",
       "      <td>1.000000</td>\n",
       "      <td>90.000000</td>\n",
       "      <td>36.918054</td>\n",
       "      <td>85.592930</td>\n",
       "      <td>0.254749</td>\n",
       "      <td>...</td>\n",
       "      <td>0.333333</td>\n",
       "      <td>0.175668</td>\n",
       "      <td>0.687593</td>\n",
       "      <td>0.392007</td>\n",
       "      <td>0.574557</td>\n",
       "      <td>0.524662</td>\n",
       "      <td>0.685590</td>\n",
       "      <td>0.338267</td>\n",
       "      <td>1.000000</td>\n",
       "      <td>0.500000</td>\n",
       "    </tr>\n",
       "    <tr>\n",
       "      <th>max</th>\n",
       "      <td>890.000000</td>\n",
       "      <td>1.000000</td>\n",
       "      <td>3.000000</td>\n",
       "      <td>80.000000</td>\n",
       "      <td>3.000000</td>\n",
       "      <td>4.000000</td>\n",
       "      <td>512.329200</td>\n",
       "      <td>36.918054</td>\n",
       "      <td>100.665736</td>\n",
       "      <td>0.259849</td>\n",
       "      <td>...</td>\n",
       "      <td>1.000000</td>\n",
       "      <td>1.000000</td>\n",
       "      <td>1.000000</td>\n",
       "      <td>1.000000</td>\n",
       "      <td>1.000000</td>\n",
       "      <td>1.000000</td>\n",
       "      <td>1.000000</td>\n",
       "      <td>1.000000</td>\n",
       "      <td>1.000000</td>\n",
       "      <td>1.000000</td>\n",
       "    </tr>\n",
       "  </tbody>\n",
       "</table>\n",
       "<p>8 rows × 38 columns</p>\n",
       "</div>"
      ],
      "text/plain": [
       "       PassengerId    Survived      Pclass         Age       SibSp  \\\n",
       "count   183.000000  183.000000  183.000000  183.000000  183.000000   \n",
       "mean    455.366120    0.672131    1.191257   35.597923    0.453552   \n",
       "std     247.052476    0.470725    0.515187   14.528916    0.643459   \n",
       "min       2.000000    0.000000    1.000000    0.920000    0.000000   \n",
       "25%     263.500000    0.000000    1.000000   25.000000    0.000000   \n",
       "50%     457.000000    1.000000    1.000000   35.000000    0.000000   \n",
       "75%     676.000000    1.000000    1.000000   46.500000    1.000000   \n",
       "max     890.000000    1.000000    3.000000   80.000000    3.000000   \n",
       "\n",
       "            Parch        Fare      Age_lm     Fare_lm    SibSp_lm  ...  \\\n",
       "count  183.000000  183.000000  183.000000  183.000000  183.000000  ...   \n",
       "mean     0.431694   78.959191   35.597923   78.959191    0.253355  ...   \n",
       "std      0.737147   75.314418    3.556026    9.094333    0.001641  ...   \n",
       "min      0.000000    0.000000   23.113258   51.165840    0.252199  ...   \n",
       "25%      0.000000   30.000000   36.918054   72.135068    0.252199  ...   \n",
       "50%      0.000000   61.175000   36.918054   79.333459    0.252199  ...   \n",
       "75%      1.000000   90.000000   36.918054   85.592930    0.254749  ...   \n",
       "max      4.000000  512.329200   36.918054  100.665736    0.259849  ...   \n",
       "\n",
       "       SibSp_lm_norm  Parch_lm_norm  Age_sd_norm  Fare_sd_norm  SibSp_sd_norm  \\\n",
       "count     183.000000     183.000000   183.000000    183.000000     183.000000   \n",
       "mean        0.151184       0.154118     0.499637      0.324862       0.243839   \n",
       "std         0.214486       0.147004     0.238679      0.254329       0.319568   \n",
       "min         0.000000       0.000000     0.000000      0.000000       0.000000   \n",
       "25%         0.000000       0.058556     0.317641      0.130669       0.000000   \n",
       "50%         0.000000       0.119406     0.489711      0.266456       0.000000   \n",
       "75%         0.333333       0.175668     0.687593      0.392007       0.574557   \n",
       "max         1.000000       1.000000     1.000000      1.000000       1.000000   \n",
       "\n",
       "       Parch_sd_norm  Age_pct_norm  Fare_pct_norm  SibSp_pct_norm  \\\n",
       "count     183.000000    183.000000     183.000000      183.000000   \n",
       "mean        0.214830      0.451858       0.277187        0.387978   \n",
       "std         0.352683      0.282375       0.257687        0.488626   \n",
       "min         0.000000      0.000000       0.000000        0.000000   \n",
       "25%         0.000000      0.216157       0.082971        0.000000   \n",
       "50%         0.000000      0.434498       0.215619        0.000000   \n",
       "75%         0.524662      0.685590       0.338267        1.000000   \n",
       "max         1.000000      1.000000       1.000000        1.000000   \n",
       "\n",
       "       Parch_pct_norm  \n",
       "count      183.000000  \n",
       "mean         0.210383  \n",
       "std          0.348862  \n",
       "min          0.000000  \n",
       "25%          0.000000  \n",
       "50%          0.000000  \n",
       "75%          0.500000  \n",
       "max          1.000000  \n",
       "\n",
       "[8 rows x 38 columns]"
      ]
     },
     "execution_count": 137,
     "metadata": {},
     "output_type": "execute_result"
    }
   ],
   "source": [
    "# Tabla pre-procesada MinMaxScaling\n",
    "df_norm.describe()"
   ]
  },
  {
   "cell_type": "markdown",
   "id": "baea5daf",
   "metadata": {},
   "source": [
    "Personalmente, me gusta más la normalización por MinMaxScaling, ya que los datos pasan a estar en una escala más comprensible a primera vista, no está en notación científica. \n",
    "\n",
    "En base a la comparación con la tabla completa de titanic.csv se puede deducir de mejor manera los modelos que mejor calcularon los valores para los missing values. Ya que así como en Age, se puede observar que los valores dados en la desviación estándar y el promedio para los métodos Standar deviation approach y Percentile approach son bastante similares a la tabla completa. \n",
    "\n",
    "En análisis es más claro ya que se puede analizar de forma porcentual."
   ]
  },
  {
   "cell_type": "markdown",
   "id": "28fd3b39",
   "metadata": {},
   "source": [
    "*** Fin del Laboratorio ***"
   ]
  }
 ],
 "metadata": {
  "kernelspec": {
   "display_name": "Python 3 (ipykernel)",
   "language": "python",
   "name": "python3"
  },
  "language_info": {
   "codemirror_mode": {
    "name": "ipython",
    "version": 3
   },
   "file_extension": ".py",
   "mimetype": "text/x-python",
   "name": "python",
   "nbconvert_exporter": "python",
   "pygments_lexer": "ipython3",
   "version": "3.10.7"
  }
 },
 "nbformat": 4,
 "nbformat_minor": 5
}
