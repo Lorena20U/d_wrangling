{
 "cells": [
  {
   "cell_type": "markdown",
   "id": "51182ccc",
   "metadata": {},
   "source": [
    "## Laboratorio 6: Regex"
   ]
  },
  {
   "cell_type": "code",
   "execution_count": 1,
   "id": "5b2a76c0",
   "metadata": {},
   "outputs": [],
   "source": [
    "import re"
   ]
  },
  {
   "cell_type": "markdown",
   "id": "76bc033a",
   "metadata": {},
   "source": [
    "### Importante\n",
    "\n",
    " La barra inversa \"\\\":\n",
    " * \\d — Representa un dígito del 0 al 9.\n",
    " * \\w — Representa cualquier carácter alfanumérico.\n",
    " * \\s — Representa un espacio en blanco.\n",
    " * \\D — Representa cualquier carácter que no sea un dígito del 0 al 9.\n",
    " * \\W — Representa cualquier carácter no alfanumérico.\n",
    " * \\S — Representa cualquier carácter que no sea un espacio en blanco.\n",
    " * \\A — Representa el inicio de la cadena. No un carácter sino una posición.\n",
    " * \\Z — Representa el final de la cadena. No un carácter sino una posición.\n",
    " * \\b - Representa los \"limites\" de la expresion regular."
   ]
  },
  {
   "cell_type": "markdown",
   "id": "18175c35",
   "metadata": {},
   "source": [
    "1.\tGenere una expresión regular que sea capaz de detectar las placas de un vehículo particular guatemalteco."
   ]
  },
  {
   "cell_type": "code",
   "execution_count": 2,
   "id": "d5595fba",
   "metadata": {},
   "outputs": [
    {
     "data": {
      "text/plain": [
       "['P001QWR', 'P008CVB']"
      ]
     },
     "execution_count": 2,
     "metadata": {},
     "output_type": "execute_result"
    }
   ],
   "source": [
    "ejemplo1 = \"P001QWR P329UWE A001QWE p098QWE P000EW P008CVB\"\n",
    "expr1= r\"\\b([P][0-9]{3}[BCDFGHJKLMNÑPQRSTVXZWY]{3})\\b\"\n",
    "re.findall(expr1, ejemplo1) #ok"
   ]
  },
  {
   "cell_type": "markdown",
   "id": "571590aa",
   "metadata": {},
   "source": [
    "2.\tGenere una expresión regular que valide si un archivo es de tipo .pdf o jpg.\n",
    "\n",
    "    a.\tEjemplo1.pdf, prueba2.PDF, respuestas_del_examen.jpg, amor.JPG\n"
   ]
  },
  {
   "cell_type": "code",
   "execution_count": 3,
   "id": "1605a664",
   "metadata": {},
   "outputs": [
    {
     "data": {
      "text/plain": [
       "['prueba.pdf', 'examen.jpg', 'respuestas_del_examen.jpg']"
      ]
     },
     "execution_count": 3,
     "metadata": {},
     "output_type": "execute_result"
    }
   ],
   "source": [
    "ejemplo2 = \"prueba.pdf examen.jpg respuestas_del_examen.jpg\"\n",
    "expr2 = r\"\\b(\\w+\\.[j|J][p|P][g|G]|\\w+\\.[p|P][d|D][f|F])\\b\"\n",
    "re.findall(expr2, ejemplo2) #ok"
   ]
  },
  {
   "cell_type": "markdown",
   "id": "aa6e6e3e",
   "metadata": {},
   "source": [
    "3.\tGenere una expresión regular para validar contraseñas de correo. Una contraseña de correo debe contener por lo menos 8 caracteres, una letra mayúscula y un carácter especial."
   ]
  },
  {
   "cell_type": "code",
   "execution_count": 4,
   "id": "aa80c5e2",
   "metadata": {},
   "outputs": [
    {
     "data": {
      "text/plain": [
       "['hola1234Q', 'hola1234Q!', '98jkZX!#', '98jkAD$)', '&%$WERwe17%']"
      ]
     },
     "execution_count": 4,
     "metadata": {},
     "output_type": "execute_result"
    }
   ],
   "source": [
    "ejemplo3 = \"hola1234 hola1234Q hola1234Q! holaholah 1d####$%$##d 98jkZX!# 98jkAD$) hola1234$%&Q &%$WERwe17%\"\n",
    "expr3 = r\"(?=[!#$%&/()]*\\w*[0-9])(?=[!#$%&/()]*\\w*[A-Z])(?=[!#$%&/()]*\\w*[a-z])\\S{8,16}\"\n",
    "re.findall(expr3, ejemplo3) # ok"
   ]
  },
  {
   "cell_type": "markdown",
   "id": "5997dee0",
   "metadata": {},
   "source": [
    "4.\tCree una expresión regular para validar un numero de carnet de la Universidad Galileo, por ejemplo 19002324 donde los primeros dos dígitos representan el año en el que el alumno se inscribió los cuales pueden variar desde el 01 (año 2001) hasta el 30 (año 2030). Los siguientes dos dígitos son cero (00) los cuales van por default y los últimos cuatro dígitos son un número que va desde el 1110 hasta el 8970. Para dar su respuesta utilice la notación de expresiones regulares."
   ]
  },
  {
   "cell_type": "code",
   "execution_count": 5,
   "id": "8dbb3acf",
   "metadata": {},
   "outputs": [
    {
     "data": {
      "text/plain": [
       "[('19002324', '1900', '2324'), ('19001290', '1900', '1290')]"
      ]
     },
     "execution_count": 5,
     "metadata": {},
     "output_type": "execute_result"
    }
   ],
   "source": [
    "ejemplo4 = \"19002324 19000000 01 1200 29 3000 1110 8970 8888 8971 0000 19001290\"\n",
    "expr4 = r\"\\b(([0][1][0][0]|[1-2][0-9][0][0]|[3][0][0][0])([1-8][1-8][1-9][0-9]|[8][9][0-6][0-9]|[8][9][7][0]))\\b\"\n",
    "re.findall(expr4, ejemplo4) #valida bien pero luego retorna la misma expresión separada"
   ]
  },
  {
   "cell_type": "markdown",
   "id": "4c49b629",
   "metadata": {},
   "source": [
    "5.\tCree una expresión regular que encuentre todas las palabras de la primera línea, pero ninguna de la segunda.\n",
    "\n",
    "    a.\tpit, spot, spate, slap two, respite\n",
    "\n",
    "    b.\tpt,Pot,peat,part\n"
   ]
  },
  {
   "cell_type": "code",
   "execution_count": 6,
   "id": "3b1eb9ad",
   "metadata": {},
   "outputs": [
    {
     "data": {
      "text/plain": [
       "['pit', 'sport', 'spate', 'slap two', 'respite']"
      ]
     },
     "execution_count": 6,
     "metadata": {},
     "output_type": "execute_result"
    }
   ],
   "source": [
    "ejemplo5 = \"pit, sport, spate, slap two, respite, pt, Pot, peat, part\"\n",
    "expr5 = r\"\\b([p][i][t]|[s][p][o][r][t]|[s][p][a][t][e]|[s][l][a][p]\\s[t][w][o]|[r][e][s][p][i][t][e])\\b\"\n",
    "re.findall(expr5, ejemplo5) #ok"
   ]
  },
  {
   "cell_type": "markdown",
   "id": "595bb144",
   "metadata": {},
   "source": [
    "6.\tCree una expresión regular para obtener los números telefónicos de Guatemala. Estos pueden contener al inicio +502 o 502, pueden estar separados por un espacio en blanco o un guión o juntos. Notar que los números telefónicos pueden empezar únicamente con 4,5,6 o 2.\n",
    "\n",
    "    a.\t+50254821151, 4210-7640, 52018150, 2434 6854, 11234569, 50211234578\n"
   ]
  },
  {
   "cell_type": "code",
   "execution_count": 7,
   "id": "b88a9410",
   "metadata": {},
   "outputs": [
    {
     "data": {
      "text/plain": [
       "[('+502', '54821151', ''),\n",
       " ('', '4210-7640', '-'),\n",
       " ('', '52018150', ''),\n",
       " ('', '2434 6854', ' '),\n",
       " ('502', '42185079', '')]"
      ]
     },
     "execution_count": 7,
     "metadata": {},
     "output_type": "execute_result"
    }
   ],
   "source": [
    "ejemplo6 = \"+50254821151 4210-7640 52018150 2434 6854 11234569 50211234578 50242185079\"\n",
    "expr6 = r\"([+][5][0][2]|[5][0][2])\"\n",
    "expr6 = r\"([+][5][0][2]|[5][0][2]|)([4562][0-9]{3}(\\s|[-]|)[0-9]{4})\\b\"\n",
    "re.findall(expr6, ejemplo6) #ok"
   ]
  },
  {
   "cell_type": "markdown",
   "id": "41690e2e",
   "metadata": {},
   "source": [
    "7.\tGenere una expresión regular que sea capaz de obtener correos de la UFM."
   ]
  },
  {
   "cell_type": "code",
   "execution_count": 8,
   "id": "4ec05f01",
   "metadata": {},
   "outputs": [
    {
     "data": {
      "text/plain": [
       "['hola1234@ufm.edu', 'lorenaperez@ufm.edu']"
      ]
     },
     "execution_count": 8,
     "metadata": {},
     "output_type": "execute_result"
    }
   ],
   "source": [
    "ejemplo7 = \"holamundo@ufm.gt hola123@um.edu hola1234@ufm.edu lorenaperez@ufm.edu\"\n",
    "expr7 = r\"\\b\\w+[@][u][f][m][.][e][d][u]\\b\"\n",
    "re.findall(expr7, ejemplo7) #ok"
   ]
  },
  {
   "cell_type": "markdown",
   "id": "255aee4c",
   "metadata": {},
   "source": [
    "8.\tEn el mundo distópico de Eurasia, Big Brother le asigna un identificador único a cada ciudadano. Genere una expresión regular que valide las identificaciones. Composición del id:\n",
    "\n",
    "    a.\tEl id inicia con 0 a 3 letras minúsculas (puede tener 0 letras minúsculas hasta tres letras minúsculas)\n",
    "    \n",
    "    b.\tLuego es seguido por una cadena de dígitos que puede ser de 2 a 9 dígitos respectivamente.\n",
    "    \n",
    "    c.\tInmediatamente después de la cadena de dígitos, se encuentra por lo menos tres letras mayúsculas.\n",
    "    \n",
    "    d.\tEj: abc012333ABCDEEEE\n",
    " \n"
   ]
  },
  {
   "cell_type": "code",
   "execution_count": 9,
   "id": "183337e3",
   "metadata": {},
   "outputs": [
    {
     "data": {
      "text/plain": [
       "['abc123456789ABCDEFG', 'a123456789ABC', '123456ABC', '12ABCDEFG']"
      ]
     },
     "execution_count": 9,
     "metadata": {},
     "output_type": "execute_result"
    }
   ],
   "source": [
    "ejemplo8 = \"abc123456789ABCDEFG a123456789ABC 123456ABC 12abc 1abc 1ABC 12ABCDEFG abc abcdef 123 ABC 123456789 1 AB123\"\n",
    "expr8 = r\"\\b[a-z]{0,3}[0-9]{2,9}[A-Z]{3,}\\b\"\n",
    "re.findall(expr8, ejemplo8) #ok"
   ]
  },
  {
   "cell_type": "code",
   "execution_count": null,
   "id": "62bb28b1",
   "metadata": {},
   "outputs": [],
   "source": []
  }
 ],
 "metadata": {
  "kernelspec": {
   "display_name": "Python 3 (ipykernel)",
   "language": "python",
   "name": "python3"
  },
  "language_info": {
   "codemirror_mode": {
    "name": "ipython",
    "version": 3
   },
   "file_extension": ".py",
   "mimetype": "text/x-python",
   "name": "python",
   "nbconvert_exporter": "python",
   "pygments_lexer": "ipython3",
   "version": "3.7.13"
  }
 },
 "nbformat": 4,
 "nbformat_minor": 5
}
